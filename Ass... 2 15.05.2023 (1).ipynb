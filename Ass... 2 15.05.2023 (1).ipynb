{
 "cells": [
  {
   "cell_type": "code",
   "execution_count": null,
   "id": "4d9eff99-c611-4a3d-9ce2-1714636cf28c",
   "metadata": {},
   "outputs": [],
   "source": [
    "#Q1     \n",
    "    In Python, we can add comments to our code to provide explanations or make notes for ourself and others who read our code. There are two common ways to add comments in Python:\n",
    "\n",
    "1. Single-line comments: To add a comment that spans a single line, we can use the hash character (#). Anything following the # on the same line will be considered a comment and will not be executed by the Python interpreter.\n",
    "\n",
    "For Eg :\n",
    "# This is a single-line comment\n",
    "2. Multi-line comments: For comments that span multiple lines, we can use triple quotes (\"\"\" or '''). \n",
    "For Eg:\n",
    "\n",
    "\"\"\"\n",
    "This is a multi-line comment.\n",
    "It can span multiple lines and is often used as a docstring.\n",
    "\"\"\"\n",
    "It's important to note that multi-line comments are not technically comments in the same sense as single-line comments. Instead, they are treated as string literals and are stored in memory.\n",
    "\n",
    "\n",
    "\n",
    "\n"
   ]
  },
  {
   "cell_type": "code",
   "execution_count": null,
   "id": "78e7ff34-0e00-4851-aacc-0d321da2fd0a",
   "metadata": {},
   "outputs": [],
   "source": [
    "# Q2\n",
    "In Python, variables are used to store data values. They act as named containers that hold values of different types, such as numbers, strings, lists, or more complex objects.\n",
    "\n",
    "To declare a variable in Python, we simply need to choose a name for the variable and use the assignment operator (=) to assign a value to it. Here's an example:\n",
    "\n",
    "a=40\n",
    "c,d,e=3,4,5\n"
   ]
  },
  {
   "cell_type": "code",
   "execution_count": 3,
   "id": "4e8e341e-b402-4d1e-87b6-1c75c72351d2",
   "metadata": {},
   "outputs": [],
   "source": [
    "#Q3\n",
    "In Python, you can convert one data type to another using type conversion functions or by using the built-in constructors of the target data type. Here are some common ways to perform data type conversion:\n",
    "    \n",
    "    a=int(3.14) # a will be 3\n",
    "    b=bool(45.6) # b will be 45.6\n",
    "    c=str(56)# c will be \"56\""
   ]
  },
  {
   "cell_type": "code",
   "execution_count": null,
   "id": "9019724c-7408-47eb-a48f-e17e2427afe5",
   "metadata": {},
   "outputs": [],
   "source": [
    "# Q4\n",
    "Create a new notebook or open an existing one.\n",
    "\n",
    "Click on the \"+\" button or use the \"Insert\" menu to add a new code cell.\n",
    "\n",
    "In the code cell, write our Python code. For example, we can write the same \"Hello, World!\" program:\n",
    "\n",
    "print(\"Hello, World!\")\n",
    "To execute the code cell, we can press Shift + Enter or click the \"Run\" button in the toolbar.\n",
    "\n",
    "Jupyter Notebook will execute the code cell and display the output below the cell:\n",
    "\n",
    "    Hello, World!\n",
    "\n",
    "    \n",
    "we can continue to add more code cells and execute them as needed. Code cells can be executed in any order, and variables and functions defined in one cell can be used in subsequent cells.\n",
    "\n",
    "\n"
   ]
  },
  {
   "cell_type": "code",
   "execution_count": 5,
   "id": "bb19a8a4-a310-420f-a4ff-c1b905440ecf",
   "metadata": {},
   "outputs": [],
   "source": [
    "# Q5"
   ]
  },
  {
   "cell_type": "code",
   "execution_count": 6,
   "id": "0913829e-aba3-4736-873b-11ff4ddcb47e",
   "metadata": {},
   "outputs": [],
   "source": [
    "my_list=[1,2,3,4,5]"
   ]
  },
  {
   "cell_type": "code",
   "execution_count": 7,
   "id": "c2e5b9bd-cace-4877-92a2-2f5cba440dae",
   "metadata": {},
   "outputs": [
    {
     "data": {
      "text/plain": [
       "[2, 3]"
      ]
     },
     "execution_count": 7,
     "metadata": {},
     "output_type": "execute_result"
    }
   ],
   "source": [
    "my_list[1:3]"
   ]
  },
  {
   "cell_type": "code",
   "execution_count": null,
   "id": "820ef549-efef-4006-a7b3-559728dc5da9",
   "metadata": {},
   "outputs": [],
   "source": [
    "# Q6\n",
    "\n",
    "In mathematics, a complex number is a number that comprises both a real part and an imaginary part. It is represented in the form a + bi, where a is the real part, b is the imaginary part, and i is the imaginary unit defined as the square root of -1.\n",
    "\n",
    "In Python, complex numbers are supported as a built-in data type. To represent a complex number in Python, you can use the complex() function or directly specify the real and imaginary parts using the a + bj notation, where j represents the imaginary unit."
   ]
  },
  {
   "cell_type": "code",
   "execution_count": null,
   "id": "703e07d6-0258-4808-8cbe-7cbde04df796",
   "metadata": {},
   "outputs": [],
   "source": [
    "#Q7\n",
    "To declare a variable named age and assign the value 25 to it in Python, we can use the  syntax:\n",
    "    age = 25"
   ]
  },
  {
   "cell_type": "code",
   "execution_count": 8,
   "id": "92ce3553-f449-40d3-9918-cc9b2d460c46",
   "metadata": {},
   "outputs": [],
   "source": [
    "#Q8 it is the floating point number data type.\n"
   ]
  },
  {
   "cell_type": "code",
   "execution_count": 9,
   "id": "e56b6a7a-ee01-4501-b868-386c3127833a",
   "metadata": {},
   "outputs": [],
   "source": [
    "price=9.99 "
   ]
  },
  {
   "cell_type": "code",
   "execution_count": 10,
   "id": "dac0cc9e-74ce-433a-b78f-c98f2f8d42db",
   "metadata": {},
   "outputs": [
    {
     "data": {
      "text/plain": [
       "float"
      ]
     },
     "execution_count": 10,
     "metadata": {},
     "output_type": "execute_result"
    }
   ],
   "source": [
    "type(price)"
   ]
  },
  {
   "cell_type": "code",
   "execution_count": null,
   "id": "22390c98-d798-4cb6-8b72-07c5fc40c8be",
   "metadata": {},
   "outputs": [],
   "source": [
    "#Q9\n",
    "To create a variable named name and assign my full name to it as a string, i will use the following code:\n",
    "\n",
    "name = \"Your Full Name\"\n",
    "Replace \"Your Full Name\" with actual full name.\n",
    "\n",
    "To print the value of the name variable in Python, we can use the print() function. Here's an example:"
   ]
  },
  {
   "cell_type": "code",
   "execution_count": 11,
   "id": "1e6b4db1-cbac-411e-ba02-22f6ab35f73a",
   "metadata": {},
   "outputs": [],
   "source": [
    "name=\"Ritik\""
   ]
  },
  {
   "cell_type": "code",
   "execution_count": 13,
   "id": "9bc63d35-5c76-4098-8ff0-2bc4de1d9291",
   "metadata": {},
   "outputs": [
    {
     "name": "stdout",
     "output_type": "stream",
     "text": [
      "Ritik\n"
     ]
    }
   ],
   "source": [
    "print(name)"
   ]
  },
  {
   "cell_type": "code",
   "execution_count": 14,
   "id": "11aa5a88-e9c0-42c1-a60d-d3d9b5f8a3d2",
   "metadata": {},
   "outputs": [],
   "source": [
    " # Q10\n"
   ]
  },
  {
   "cell_type": "code",
   "execution_count": 15,
   "id": "2becdfba-892b-422a-86d2-058179aafc8d",
   "metadata": {},
   "outputs": [],
   "source": [
    "a=\"Hello, World \" "
   ]
  },
  {
   "cell_type": "code",
   "execution_count": 16,
   "id": "66d54be9-9bc0-4ea7-8490-b280a27ab21d",
   "metadata": {},
   "outputs": [
    {
     "data": {
      "text/plain": [
       "'Hello, World '"
      ]
     },
     "execution_count": 16,
     "metadata": {},
     "output_type": "execute_result"
    }
   ],
   "source": [
    "a"
   ]
  },
  {
   "cell_type": "code",
   "execution_count": 33,
   "id": "50fdaaf5-e2f4-4a0c-99fe-d00fb84cb7ea",
   "metadata": {},
   "outputs": [
    {
     "data": {
      "text/plain": [
       "' World'"
      ]
     },
     "execution_count": 33,
     "metadata": {},
     "output_type": "execute_result"
    }
   ],
   "source": [
    "a[6:12]"
   ]
  },
  {
   "cell_type": "code",
   "execution_count": 34,
   "id": "340c1e2f-d993-44ba-9afb-83f5d4055f7c",
   "metadata": {},
   "outputs": [],
   "source": [
    "# Q11"
   ]
  },
  {
   "cell_type": "code",
   "execution_count": 35,
   "id": "fe076627-c58b-40dd-9e7b-3f67a06c1ac8",
   "metadata": {},
   "outputs": [],
   "source": [
    "is_student=True"
   ]
  },
  {
   "cell_type": "code",
   "execution_count": 36,
   "id": "3d2a490a-6760-4611-a55a-b1c3ff6241b0",
   "metadata": {},
   "outputs": [
    {
     "data": {
      "text/plain": [
       "bool"
      ]
     },
     "execution_count": 36,
     "metadata": {},
     "output_type": "execute_result"
    }
   ],
   "source": [
    "type(is_student)"
   ]
  },
  {
   "cell_type": "code",
   "execution_count": null,
   "id": "07a6abad-9644-440d-be34-dd6122fbd90e",
   "metadata": {},
   "outputs": [],
   "source": []
  }
 ],
 "metadata": {
  "kernelspec": {
   "display_name": "Python 3 (ipykernel)",
   "language": "python",
   "name": "python3"
  },
  "language_info": {
   "codemirror_mode": {
    "name": "ipython",
    "version": 3
   },
   "file_extension": ".py",
   "mimetype": "text/x-python",
   "name": "python",
   "nbconvert_exporter": "python",
   "pygments_lexer": "ipython3",
   "version": "3.10.8"
  }
 },
 "nbformat": 4,
 "nbformat_minor": 5
}

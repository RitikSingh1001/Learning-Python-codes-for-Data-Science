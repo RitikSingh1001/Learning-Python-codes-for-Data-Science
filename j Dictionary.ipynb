{
 "cells": [
  {
   "cell_type": "code",
   "execution_count": 1,
   "id": "e647eb87-0ea2-4943-8e46-848109f24475",
   "metadata": {},
   "outputs": [],
   "source": [
    "s= {}"
   ]
  },
  {
   "cell_type": "code",
   "execution_count": 2,
   "id": "90bf1962-16b5-4afe-bab6-ac6366c8a9c8",
   "metadata": {},
   "outputs": [
    {
     "data": {
      "text/plain": [
       "dict"
      ]
     },
     "execution_count": 2,
     "metadata": {},
     "output_type": "execute_result"
    }
   ],
   "source": [
    "type(s\n",
    "    )"
   ]
  },
  {
   "cell_type": "code",
   "execution_count": 3,
   "id": "b117ea79-a6e9-4eb5-96f6-b43e7a38f4c5",
   "metadata": {},
   "outputs": [],
   "source": [
    "s={2,3,4,5,6}"
   ]
  },
  {
   "cell_type": "code",
   "execution_count": 4,
   "id": "fe329b1e-e864-4af6-8bab-e09f0eca5fc2",
   "metadata": {},
   "outputs": [
    {
     "data": {
      "text/plain": [
       "set"
      ]
     },
     "execution_count": 4,
     "metadata": {},
     "output_type": "execute_result"
    }
   ],
   "source": [
    "type(s)"
   ]
  },
  {
   "cell_type": "code",
   "execution_count": 5,
   "id": "f38b5628-1f11-42cd-8a03-d140d6998160",
   "metadata": {},
   "outputs": [],
   "source": [
    "d={}"
   ]
  },
  {
   "cell_type": "code",
   "execution_count": 6,
   "id": "57ef23fb-a78c-4fe9-9655-645906407191",
   "metadata": {},
   "outputs": [
    {
     "data": {
      "text/plain": [
       "dict"
      ]
     },
     "execution_count": 6,
     "metadata": {},
     "output_type": "execute_result"
    }
   ],
   "source": [
    "type(d\n",
    "    )"
   ]
  },
  {
   "cell_type": "code",
   "execution_count": 10,
   "id": "732aa637-f228-4895-994b-3ab4f1febe9a",
   "metadata": {},
   "outputs": [],
   "source": [
    "d={'a':1}"
   ]
  },
  {
   "cell_type": "code",
   "execution_count": 8,
   "id": "94bc0e01-52ad-4912-8090-7bc3d6f59ff0",
   "metadata": {},
   "outputs": [],
   "source": [
    "a=1"
   ]
  },
  {
   "cell_type": "code",
   "execution_count": 11,
   "id": "175c8c5b-ac5f-46c1-8c7d-23f3fe8b7c59",
   "metadata": {},
   "outputs": [
    {
     "data": {
      "text/plain": [
       "{'a': 1}"
      ]
     },
     "execution_count": 11,
     "metadata": {},
     "output_type": "execute_result"
    }
   ],
   "source": [
    "d"
   ]
  },
  {
   "cell_type": "code",
   "execution_count": 17,
   "id": "e46dab40-c68a-4066-b773-820216a5afd0",
   "metadata": {},
   "outputs": [],
   "source": [
    "d1={'name':'ritik'}\n"
   ]
  },
  {
   "cell_type": "code",
   "execution_count": 18,
   "id": "cdb08590-8808-446c-b856-f010e4f23beb",
   "metadata": {},
   "outputs": [
    {
     "data": {
      "text/plain": [
       "'ritik'"
      ]
     },
     "execution_count": 18,
     "metadata": {},
     "output_type": "execute_result"
    }
   ],
   "source": [
    "d1['name']\n"
   ]
  },
  {
   "cell_type": "code",
   "execution_count": 15,
   "id": "4d5c8aad-69d7-450a-b6ff-aa1aea3f5d15",
   "metadata": {},
   "outputs": [],
   "source": [
    "l=[3,4,5,6]"
   ]
  },
  {
   "cell_type": "code",
   "execution_count": 16,
   "id": "d1b8e009-0735-4dc0-8517-273108dd4ba8",
   "metadata": {},
   "outputs": [
    {
     "data": {
      "text/plain": [
       "5"
      ]
     },
     "execution_count": 16,
     "metadata": {},
     "output_type": "execute_result"
    }
   ],
   "source": [
    "l[2]"
   ]
  },
  {
   "cell_type": "code",
   "execution_count": 19,
   "id": "d13e06a6-8cec-4586-9069-116db3733508",
   "metadata": {},
   "outputs": [],
   "source": [
    "d2={234234:'ritik'}"
   ]
  },
  {
   "cell_type": "code",
   "execution_count": 20,
   "id": "249dd55c-03d3-4608-8eae-cef2949ab7aa",
   "metadata": {},
   "outputs": [
    {
     "data": {
      "text/plain": [
       "'ritik'"
      ]
     },
     "execution_count": 20,
     "metadata": {},
     "output_type": "execute_result"
    }
   ],
   "source": [
    "d2[234234]"
   ]
  },
  {
   "cell_type": "code",
   "execution_count": 24,
   "id": "b746911e-6d87-4109-ae61-3333e9f30005",
   "metadata": {},
   "outputs": [
    {
     "ename": "SyntaxError",
     "evalue": "invalid syntax (2708637913.py, line 1)",
     "output_type": "error",
     "traceback": [
      "\u001b[0;36m  Cell \u001b[0;32mIn[24], line 1\u001b[0;36m\u001b[0m\n\u001b[0;31m    d3={$123123:'ritik'}\u001b[0m\n\u001b[0m        ^\u001b[0m\n\u001b[0;31mSyntaxError\u001b[0m\u001b[0;31m:\u001b[0m invalid syntax\n"
     ]
    }
   ],
   "source": [
    "d3={$123123:'ritik'}"
   ]
  },
  {
   "cell_type": "code",
   "execution_count": 26,
   "id": "29e6965f-9e1e-4ab3-9e4d-104c6ecd832e",
   "metadata": {},
   "outputs": [],
   "source": [
    "#special case characters can't be in the starting of the key"
   ]
  },
  {
   "cell_type": "code",
   "execution_count": 28,
   "id": "b3ed5f99-e736-4784-946f-2ace445332e3",
   "metadata": {},
   "outputs": [
    {
     "ename": "TypeError",
     "evalue": "unhashable type: 'list'",
     "output_type": "error",
     "traceback": [
      "\u001b[0;31m---------------------------------------------------------------------------\u001b[0m",
      "\u001b[0;31mTypeError\u001b[0m                                 Traceback (most recent call last)",
      "Cell \u001b[0;32mIn[28], line 1\u001b[0m\n\u001b[0;32m----> 1\u001b[0m d4\u001b[38;5;241m=\u001b[39m{[\u001b[38;5;241m1\u001b[39m,\u001b[38;5;241m2\u001b[39m,\u001b[38;5;241m3\u001b[39m]:\u001b[38;5;124m'\u001b[39m\u001b[38;5;124mritik\u001b[39m\u001b[38;5;124m'\u001b[39m}\n",
      "\u001b[0;31mTypeError\u001b[0m: unhashable type: 'list'"
     ]
    }
   ],
   "source": [
    "d4={[1,2,3]:'ritik'}"
   ]
  },
  {
   "cell_type": "code",
   "execution_count": 29,
   "id": "c8fe47d7-ffc9-4254-9690-c09785da0f57",
   "metadata": {},
   "outputs": [],
   "source": [
    "d5={(1,2,3):'ritik'}"
   ]
  },
  {
   "cell_type": "code",
   "execution_count": 30,
   "id": "62c1dbc0-960c-41a3-b6b1-dc7202d6807b",
   "metadata": {},
   "outputs": [
    {
     "data": {
      "text/plain": [
       "'ritik'"
      ]
     },
     "execution_count": 30,
     "metadata": {},
     "output_type": "execute_result"
    }
   ],
   "source": [
    "d5[1,2,3]"
   ]
  },
  {
   "cell_type": "code",
   "execution_count": 31,
   "id": "3fddc04a-8f58-4e51-b5ed-c3691a465440",
   "metadata": {},
   "outputs": [
    {
     "ename": "TypeError",
     "evalue": "unhashable type: 'set'",
     "output_type": "error",
     "traceback": [
      "\u001b[0;31m---------------------------------------------------------------------------\u001b[0m",
      "\u001b[0;31mTypeError\u001b[0m                                 Traceback (most recent call last)",
      "Cell \u001b[0;32mIn[31], line 1\u001b[0m\n\u001b[0;32m----> 1\u001b[0m d5\u001b[38;5;241m=\u001b[39m{{\u001b[38;5;241m1\u001b[39m,\u001b[38;5;241m2\u001b[39m,\u001b[38;5;241m3\u001b[39m}:\u001b[38;5;124m'\u001b[39m\u001b[38;5;124mritik\u001b[39m\u001b[38;5;124m'\u001b[39m}\n",
      "\u001b[0;31mTypeError\u001b[0m: unhashable type: 'set'"
     ]
    }
   ],
   "source": [
    "d5={{1,2,3}:'ritik'}"
   ]
  },
  {
   "cell_type": "code",
   "execution_count": 32,
   "id": "855b9fc6-42b1-4593-ae20-a6560df62851",
   "metadata": {},
   "outputs": [],
   "source": [
    "d6={True:'ritik'}"
   ]
  },
  {
   "cell_type": "code",
   "execution_count": 33,
   "id": "7c602510-4c93-494b-98c8-8d01c9ced568",
   "metadata": {},
   "outputs": [
    {
     "ename": "TypeError",
     "evalue": "unhashable type: 'dict'",
     "output_type": "error",
     "traceback": [
      "\u001b[0;31m---------------------------------------------------------------------------\u001b[0m",
      "\u001b[0;31mTypeError\u001b[0m                                 Traceback (most recent call last)",
      "Cell \u001b[0;32mIn[33], line 1\u001b[0m\n\u001b[0;32m----> 1\u001b[0m d6\u001b[38;5;241m=\u001b[39m{{\u001b[38;5;241m345\u001b[39m:\u001b[38;5;124m'\u001b[39m\u001b[38;5;124mkalu\u001b[39m\u001b[38;5;124m'\u001b[39m}:\u001b[38;5;124m'\u001b[39m\u001b[38;5;124mritik\u001b[39m\u001b[38;5;124m'\u001b[39m}\n",
      "\u001b[0;31mTypeError\u001b[0m: unhashable type: 'dict'"
     ]
    }
   ],
   "source": [
    "d6={{345:'kalu'}:'ritik'}"
   ]
  },
  {
   "cell_type": "code",
   "execution_count": 34,
   "id": "81640e79-7a84-490e-a6fa-8cfec1c87b68",
   "metadata": {},
   "outputs": [],
   "source": [
    "d7={'name':'ritik','name':'pwskills'}"
   ]
  },
  {
   "cell_type": "code",
   "execution_count": 35,
   "id": "14e1fdeb-50f4-480b-a97f-44ba3f3bb11c",
   "metadata": {},
   "outputs": [
    {
     "data": {
      "text/plain": [
       "{'name': 'pwskills'}"
      ]
     },
     "execution_count": 35,
     "metadata": {},
     "output_type": "execute_result"
    }
   ],
   "source": [
    "d7"
   ]
  },
  {
   "cell_type": "code",
   "execution_count": 36,
   "id": "c10a671c-4403-4b5e-bf58-4a938524b262",
   "metadata": {},
   "outputs": [],
   "source": [
    "#key cannot be duplicate in the dictionary."
   ]
  },
  {
   "cell_type": "code",
   "execution_count": 37,
   "id": "5e958c85-8c02-4e8a-bd5a-adc884f8e949",
   "metadata": {},
   "outputs": [],
   "source": [
    " d8={'name':'ritik','email_id':'ritiksingh070904@gmail.com','subject':['dsm','big data', 'data']}"
   ]
  },
  {
   "cell_type": "code",
   "execution_count": 38,
   "id": "60d273f6-7b62-422b-a3f4-0758e15fbdf2",
   "metadata": {},
   "outputs": [
    {
     "data": {
      "text/plain": [
       "{'name': 'ritik',\n",
       " 'email_id': 'ritiksingh070904@gmail.com',\n",
       " 'subject': ['dsm', 'big data', 'data']}"
      ]
     },
     "execution_count": 38,
     "metadata": {},
     "output_type": "execute_result"
    }
   ],
   "source": [
    "d8"
   ]
  },
  {
   "cell_type": "code",
   "execution_count": 39,
   "id": "7eaa3830-adfe-4a7d-afa1-514dc551e9ac",
   "metadata": {},
   "outputs": [
    {
     "data": {
      "text/plain": [
       "['dsm', 'big data', 'data']"
      ]
     },
     "execution_count": 39,
     "metadata": {},
     "output_type": "execute_result"
    }
   ],
   "source": [
    "d8['subject']"
   ]
  },
  {
   "cell_type": "code",
   "execution_count": 40,
   "id": "40406acd-3e8c-4d69-8b49-6ced75e97c48",
   "metadata": {},
   "outputs": [
    {
     "data": {
      "text/plain": [
       "True"
      ]
     },
     "execution_count": 40,
     "metadata": {},
     "output_type": "execute_result"
    }
   ],
   "source": [
    "'dsm' in d8['subject']"
   ]
  },
  {
   "cell_type": "code",
   "execution_count": 41,
   "id": "11ef5039-b474-490a-a82e-6e1e49606b8a",
   "metadata": {},
   "outputs": [
    {
     "data": {
      "text/plain": [
       "'big data'"
      ]
     },
     "execution_count": 41,
     "metadata": {},
     "output_type": "execute_result"
    }
   ],
   "source": [
    "d8['subject'][1]"
   ]
  },
  {
   "cell_type": "code",
   "execution_count": 47,
   "id": "f545e57d-1359-4543-bdad-1c40ddbf711d",
   "metadata": {},
   "outputs": [],
   "source": [
    "d9={'name':'pwskills','email_id':'ritiksingh070904@gmail.com','subject':['dsm','big data', 'data']\n",
    "   , 'batches':('dsm','jds','fsdm'),\n",
    "    'mentor':{'sudhanshu','krish','vishwamohan','sanket'}\n",
    "  , 'date':{'fsds':\"29th April'23\",\"dsm\":\"6th may'23\", \"jds\":\"13th may'23\"}\n",
    "   \n",
    "   \n",
    "   \n",
    "   }"
   ]
  },
  {
   "cell_type": "code",
   "execution_count": 48,
   "id": "8b5bb122-0d3f-4c8c-9ca8-b34e25110732",
   "metadata": {},
   "outputs": [
    {
     "data": {
      "text/plain": [
       "{'name': 'pwskills',\n",
       " 'email_id': 'ritiksingh070904@gmail.com',\n",
       " 'subject': ['dsm', 'big data', 'data'],\n",
       " 'batches': ('dsm', 'jds', 'fsdm'),\n",
       " 'mentor': {'krish', 'sanket', 'sudhanshu', 'vishwamohan'},\n",
       " 'date': {'fsds': \"29th April'23\", 'dsm': \"6th may'23\", 'jds': \"13th may'23\"}}"
      ]
     },
     "execution_count": 48,
     "metadata": {},
     "output_type": "execute_result"
    }
   ],
   "source": [
    "d9"
   ]
  },
  {
   "cell_type": "code",
   "execution_count": 49,
   "id": "0484f0ab-e9b2-4443-b8d4-bb8ed1423ef5",
   "metadata": {},
   "outputs": [
    {
     "data": {
      "text/plain": [
       "{'fsds': \"29th April'23\", 'dsm': \"6th may'23\", 'jds': \"13th may'23\"}"
      ]
     },
     "execution_count": 49,
     "metadata": {},
     "output_type": "execute_result"
    }
   ],
   "source": [
    "d9['date']"
   ]
  },
  {
   "cell_type": "code",
   "execution_count": 50,
   "id": "46da4c8b-5d1d-4faa-9609-6650bfc0c8fc",
   "metadata": {},
   "outputs": [
    {
     "data": {
      "text/plain": [
       "dict"
      ]
     },
     "execution_count": 50,
     "metadata": {},
     "output_type": "execute_result"
    }
   ],
   "source": [
    "type(d9['date'])"
   ]
  },
  {
   "cell_type": "code",
   "execution_count": 51,
   "id": "bd3764cf-2168-4a95-bc56-4c400d4cdadd",
   "metadata": {},
   "outputs": [
    {
     "data": {
      "text/plain": [
       "\"6th may'23\""
      ]
     },
     "execution_count": 51,
     "metadata": {},
     "output_type": "execute_result"
    }
   ],
   "source": [
    "d9['date']['dsm']"
   ]
  },
  {
   "cell_type": "code",
   "execution_count": 52,
   "id": "72227014-0779-4653-b880-8a64338e14e7",
   "metadata": {},
   "outputs": [],
   "source": [
    "d9['batch name']='binary 2.0'"
   ]
  },
  {
   "cell_type": "code",
   "execution_count": 53,
   "id": "06675e33-8217-4ce5-9dc7-302e118a1d87",
   "metadata": {},
   "outputs": [
    {
     "data": {
      "text/plain": [
       "{'name': 'pwskills',\n",
       " 'email_id': 'ritiksingh070904@gmail.com',\n",
       " 'subject': ['dsm', 'big data', 'data'],\n",
       " 'batches': ('dsm', 'jds', 'fsdm'),\n",
       " 'mentor': {'krish', 'sanket', 'sudhanshu', 'vishwamohan'},\n",
       " 'date': {'fsds': \"29th April'23\", 'dsm': \"6th may'23\", 'jds': \"13th may'23\"},\n",
       " 'batch name': 'binary 2.0'}"
      ]
     },
     "execution_count": 53,
     "metadata": {},
     "output_type": "execute_result"
    }
   ],
   "source": [
    "d9"
   ]
  },
  {
   "cell_type": "code",
   "execution_count": 54,
   "id": "28434228-9fa6-43ca-b014-4230b9a1d121",
   "metadata": {},
   "outputs": [],
   "source": [
    "d9['email_id']='su@gmail.com'"
   ]
  },
  {
   "cell_type": "code",
   "execution_count": 55,
   "id": "4767258b-7e1c-451b-a3f0-c8fe1a769864",
   "metadata": {},
   "outputs": [
    {
     "data": {
      "text/plain": [
       "{'name': 'pwskills',\n",
       " 'email_id': 'su@gmail.com',\n",
       " 'subject': ['dsm', 'big data', 'data'],\n",
       " 'batches': ('dsm', 'jds', 'fsdm'),\n",
       " 'mentor': {'krish', 'sanket', 'sudhanshu', 'vishwamohan'},\n",
       " 'date': {'fsds': \"29th April'23\", 'dsm': \"6th may'23\", 'jds': \"13th may'23\"},\n",
       " 'batch name': 'binary 2.0'}"
      ]
     },
     "execution_count": 55,
     "metadata": {},
     "output_type": "execute_result"
    }
   ],
   "source": [
    "d9"
   ]
  },
  {
   "cell_type": "code",
   "execution_count": 57,
   "id": "0c11dc32-3589-406a-b653-56b677391850",
   "metadata": {},
   "outputs": [],
   "source": [
    "del d9['email_id']"
   ]
  },
  {
   "cell_type": "code",
   "execution_count": 58,
   "id": "be67e97b-cf43-45bf-85dd-5cb862b668f4",
   "metadata": {},
   "outputs": [
    {
     "data": {
      "text/plain": [
       "{'name': 'pwskills',\n",
       " 'subject': ['dsm', 'big data', 'data'],\n",
       " 'batches': ('dsm', 'jds', 'fsdm'),\n",
       " 'mentor': {'krish', 'sanket', 'sudhanshu', 'vishwamohan'},\n",
       " 'date': {'fsds': \"29th April'23\", 'dsm': \"6th may'23\", 'jds': \"13th may'23\"},\n",
       " 'batch name': 'binary 2.0'}"
      ]
     },
     "execution_count": 58,
     "metadata": {},
     "output_type": "execute_result"
    }
   ],
   "source": [
    "d9"
   ]
  },
  {
   "cell_type": "code",
   "execution_count": 59,
   "id": "9997aeee-588c-402e-8d73-242fa15a44b7",
   "metadata": {},
   "outputs": [
    {
     "data": {
      "text/plain": [
       "dict_keys(['name', 'subject', 'batches', 'mentor', 'date', 'batch name'])"
      ]
     },
     "execution_count": 59,
     "metadata": {},
     "output_type": "execute_result"
    }
   ],
   "source": [
    "d9.keys()"
   ]
  },
  {
   "cell_type": "code",
   "execution_count": 60,
   "id": "c0a9e492-13f5-47f9-9de7-4b1740d47b61",
   "metadata": {},
   "outputs": [
    {
     "data": {
      "text/plain": [
       "dict_values(['pwskills', ['dsm', 'big data', 'data'], ('dsm', 'jds', 'fsdm'), {'krish', 'vishwamohan', 'sudhanshu', 'sanket'}, {'fsds': \"29th April'23\", 'dsm': \"6th may'23\", 'jds': \"13th may'23\"}, 'binary 2.0'])"
      ]
     },
     "execution_count": 60,
     "metadata": {},
     "output_type": "execute_result"
    }
   ],
   "source": [
    "d9.values()"
   ]
  },
  {
   "cell_type": "code",
   "execution_count": 61,
   "id": "da43df46-9803-4814-9bd2-4637510c9d27",
   "metadata": {},
   "outputs": [
    {
     "data": {
      "text/plain": [
       "['pwskills',\n",
       " ['dsm', 'big data', 'data'],\n",
       " ('dsm', 'jds', 'fsdm'),\n",
       " {'krish', 'sanket', 'sudhanshu', 'vishwamohan'},\n",
       " {'fsds': \"29th April'23\", 'dsm': \"6th may'23\", 'jds': \"13th may'23\"},\n",
       " 'binary 2.0']"
      ]
     },
     "execution_count": 61,
     "metadata": {},
     "output_type": "execute_result"
    }
   ],
   "source": [
    "list(d9.values())"
   ]
  },
  {
   "cell_type": "code",
   "execution_count": 62,
   "id": "01465013-9c24-4f7d-8e9b-036281fbb1ca",
   "metadata": {},
   "outputs": [
    {
     "data": {
      "text/plain": [
       "dict_items([('name', 'pwskills'), ('subject', ['dsm', 'big data', 'data']), ('batches', ('dsm', 'jds', 'fsdm')), ('mentor', {'krish', 'vishwamohan', 'sudhanshu', 'sanket'}), ('date', {'fsds': \"29th April'23\", 'dsm': \"6th may'23\", 'jds': \"13th may'23\"}), ('batch name', 'binary 2.0')])"
      ]
     },
     "execution_count": 62,
     "metadata": {},
     "output_type": "execute_result"
    }
   ],
   "source": [
    "d9.items()"
   ]
  },
  {
   "cell_type": "code",
   "execution_count": 63,
   "id": "477e1497-b6b5-4cee-add5-50c0f04326ff",
   "metadata": {},
   "outputs": [
    {
     "data": {
      "text/plain": [
       "[('name', 'pwskills'),\n",
       " ('subject', ['dsm', 'big data', 'data']),\n",
       " ('batches', ('dsm', 'jds', 'fsdm')),\n",
       " ('mentor', {'krish', 'sanket', 'sudhanshu', 'vishwamohan'}),\n",
       " ('date',\n",
       "  {'fsds': \"29th April'23\", 'dsm': \"6th may'23\", 'jds': \"13th may'23\"}),\n",
       " ('batch name', 'binary 2.0')]"
      ]
     },
     "execution_count": 63,
     "metadata": {},
     "output_type": "execute_result"
    }
   ],
   "source": [
    "list(d9.items())"
   ]
  },
  {
   "cell_type": "code",
   "execution_count": null,
   "id": "f96e4155-3c6f-4582-8c26-ba7e3af6f305",
   "metadata": {},
   "outputs": [],
   "source": []
  }
 ],
 "metadata": {
  "kernelspec": {
   "display_name": "Python 3 (ipykernel)",
   "language": "python",
   "name": "python3"
  },
  "language_info": {
   "codemirror_mode": {
    "name": "ipython",
    "version": 3
   },
   "file_extension": ".py",
   "mimetype": "text/x-python",
   "name": "python",
   "nbconvert_exporter": "python",
   "pygments_lexer": "ipython3",
   "version": "3.10.8"
  }
 },
 "nbformat": 4,
 "nbformat_minor": 5
}

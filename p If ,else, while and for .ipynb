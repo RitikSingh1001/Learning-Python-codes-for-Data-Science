{
 "cells": [
  {
   "cell_type": "code",
   "execution_count": 3,
   "id": "e4b28b96-13fd-4eb4-9770-42e303b617a9",
   "metadata": {},
   "outputs": [],
   "source": [
    "a=10\n",
    "if a>10:\n",
    "    print(\"yes a greater than 10\")"
   ]
  },
  {
   "cell_type": "code",
   "execution_count": 4,
   "id": "8f2c05ff-9d05-4ece-a269-ba50fe3ae11b",
   "metadata": {},
   "outputs": [
    {
     "data": {
      "text/plain": [
       "False"
      ]
     },
     "execution_count": 4,
     "metadata": {},
     "output_type": "execute_result"
    }
   ],
   "source": [
    "a>10"
   ]
  },
  {
   "cell_type": "code",
   "execution_count": 5,
   "id": "2fac749a-2dae-483e-a4aa-927cc70c5e84",
   "metadata": {},
   "outputs": [
    {
     "name": "stdout",
     "output_type": "stream",
     "text": [
      "yes a is greater  then 10\n"
     ]
    }
   ],
   "source": [
    "a=10\n",
    "if a>=10:\n",
    "    print(\"yes a is greater  then 10\")"
   ]
  },
  {
   "cell_type": "code",
   "execution_count": 6,
   "id": "bc82210d-5c05-4897-bf30-8aef950780d2",
   "metadata": {},
   "outputs": [
    {
     "data": {
      "text/plain": [
       "True"
      ]
     },
     "execution_count": 6,
     "metadata": {},
     "output_type": "execute_result"
    }
   ],
   "source": [
    "a>=10"
   ]
  },
  {
   "cell_type": "code",
   "execution_count": 13,
   "id": "d9deb903-05b1-471d-9adb-31654b6be426",
   "metadata": {},
   "outputs": [
    {
     "name": "stdout",
     "output_type": "stream",
     "text": [
      "yes b is lesser then 40\n"
     ]
    }
   ],
   "source": [
    "b=20\n",
    "if b>30:\n",
    "    print(\"yes b is greater then 30\")\n",
    "elif b<40:\n",
    "        print ( \"yes b is lesser then 40\")\n",
    "else :\n",
    "        print(\"this is my default\")"
   ]
  },
  {
   "cell_type": "code",
   "execution_count": 10,
   "id": "63fd4d3e-43ab-4bf6-947c-05f9893866ae",
   "metadata": {},
   "outputs": [
    {
     "data": {
      "text/plain": [
       "False"
      ]
     },
     "execution_count": 10,
     "metadata": {},
     "output_type": "execute_result"
    }
   ],
   "source": [
    "b>30"
   ]
  },
  {
   "cell_type": "code",
   "execution_count": 15,
   "id": "7212e4f7-5c66-4fec-9ea8-66c8d2b39b69",
   "metadata": {},
   "outputs": [
    {
     "name": "stdout",
     "output_type": "stream",
     "text": [
      "this is my default\n"
     ]
    }
   ],
   "source": [
    "b=20\n",
    "if b>30:\n",
    "    print(\"yes b is greater then 30\")\n",
    "elif b>40:\n",
    "        print ( \"yes b is lesser then 40\")\n",
    "else :\n",
    "        print(\"this is my default\")"
   ]
  },
  {
   "cell_type": "code",
   "execution_count": 17,
   "id": "55ebc4f9-0734-426d-b8bf-44d0e7301d3f",
   "metadata": {},
   "outputs": [
    {
     "name": "stdout",
     "output_type": "stream",
     "text": [
      "yes b is lesser then 40\n"
     ]
    }
   ],
   "source": [
    "b=20\n",
    "if b>30:\n",
    "    print(\"yes b is greater then 30\")\n",
    "elif b<40:\n",
    "        print ( \"yes b is lesser then 40\")\n",
    "elif b>100:\n",
    "        print(\"yes b  is greater than 100\")\n",
    "else :\n",
    "        print(\"this is my default\")"
   ]
  },
  {
   "cell_type": "code",
   "execution_count": 18,
   "id": "d16d844e-c95a-45c0-a7e0-a1df81af8146",
   "metadata": {},
   "outputs": [
    {
     "name": "stdin",
     "output_type": "stream",
     "text": [
      " 324\n"
     ]
    },
    {
     "data": {
      "text/plain": [
       "'324'"
      ]
     },
     "execution_count": 18,
     "metadata": {},
     "output_type": "execute_result"
    }
   ],
   "source": [
    "input()"
   ]
  },
  {
   "cell_type": "code",
   "execution_count": 20,
   "id": "cf7d5582-d081-4795-a6f0-d71c9bfd5a69",
   "metadata": {},
   "outputs": [
    {
     "name": "stdin",
     "output_type": "stream",
     "text": [
      " 45\n"
     ]
    }
   ],
   "source": [
    "b =int(input())"
   ]
  },
  {
   "cell_type": "code",
   "execution_count": 21,
   "id": "2b194c06-439b-425d-b569-7266e0164251",
   "metadata": {},
   "outputs": [
    {
     "data": {
      "text/plain": [
       "45"
      ]
     },
     "execution_count": 21,
     "metadata": {},
     "output_type": "execute_result"
    }
   ],
   "source": [
    "b\n"
   ]
  },
  {
   "cell_type": "code",
   "execution_count": 22,
   "id": "18c29561-ebd9-4f89-ac68-e55ba3ad6a90",
   "metadata": {},
   "outputs": [
    {
     "data": {
      "text/plain": [
       "int"
      ]
     },
     "execution_count": 22,
     "metadata": {},
     "output_type": "execute_result"
    }
   ],
   "source": [
    "type(b)"
   ]
  },
  {
   "cell_type": "code",
   "execution_count": 28,
   "id": "64fdb4f4-8cfa-4c9f-b322-95e1d2a4d974",
   "metadata": {},
   "outputs": [
    {
     "name": "stdin",
     "output_type": "stream",
     "text": [
      " 2\n"
     ]
    },
    {
     "name": "stdout",
     "output_type": "stream",
     "text": [
      "this is my default\n"
     ]
    }
   ],
   "source": [
    "b= int(input())\n",
    "if b>30:\n",
    "    print(\"yes b is greater then 30\")\n",
    "elif b>40:\n",
    "        print ( \"yes b is lesser then 40\")\n",
    "elif b>100:\n",
    "        print(\"yes b  is greater than 100\")\n",
    "else :\n",
    "        print(\"this is my default\")"
   ]
  },
  {
   "cell_type": "code",
   "execution_count": 29,
   "id": "b5419952-7eea-4ab7-bb27-02f37fb0d147",
   "metadata": {},
   "outputs": [
    {
     "name": "stdout",
     "output_type": "stream",
     "text": [
      "1\n",
      "2\n",
      "3\n"
     ]
    }
   ],
   "source": [
    "n=4\n",
    "i=1\n",
    "while i<n:\n",
    "    print(i)\n",
    "    i=i+1"
   ]
  },
  {
   "cell_type": "code",
   "execution_count": 30,
   "id": "fc1b6cd8-1dfa-49d1-ac1d-5f3aead55fad",
   "metadata": {},
   "outputs": [
    {
     "name": "stdout",
     "output_type": "stream",
     "text": [
      "1\n",
      "2\n",
      "3\n",
      "this  is my else\n"
     ]
    }
   ],
   "source": [
    "n=4\n",
    "i=1\n",
    "while i<n:\n",
    "    print(i)\n",
    "    i=i+1\n",
    "else:\n",
    "        print(\"this  is my else\")"
   ]
  },
  {
   "cell_type": "code",
   "execution_count": 31,
   "id": "c4b81930-d4fe-4911-adf7-784205c10672",
   "metadata": {},
   "outputs": [
    {
     "name": "stdout",
     "output_type": "stream",
     "text": [
      "1\n",
      "2\n"
     ]
    }
   ],
   "source": [
    "n=4\n",
    "i=1\n",
    "while i<n:\n",
    "    print(i)\n",
    "    i=i+1\n",
    "    if i ==3:\n",
    "        break\n",
    "else:\n",
    "        print(\"this  is my else\")\n",
    "        "
   ]
  },
  {
   "cell_type": "code",
   "execution_count": 32,
   "id": "1765bb33-2518-4965-a5a6-f3ee7a89b137",
   "metadata": {},
   "outputs": [
    {
     "name": "stdout",
     "output_type": "stream",
     "text": [
      "r\n",
      "i\n",
      "t\n",
      "i\n",
      "k\n"
     ]
    }
   ],
   "source": [
    "s=\"ritik\"\n",
    "for i in s :\n",
    "    print(i)"
   ]
  },
  {
   "cell_type": "code",
   "execution_count": 33,
   "id": "06fb9847-51b8-4d3a-ae6c-f14f5dbd07ad",
   "metadata": {},
   "outputs": [],
   "source": [
    "l=[2,3,4,5,6,\"ritik\", \"pwskkills\", 23.45, True]"
   ]
  },
  {
   "cell_type": "code",
   "execution_count": 34,
   "id": "402bb1bf-ec14-4796-9f5f-eda12320572c",
   "metadata": {},
   "outputs": [
    {
     "name": "stdout",
     "output_type": "stream",
     "text": [
      "<class 'int'>\n",
      "<class 'int'>\n",
      "<class 'int'>\n",
      "<class 'int'>\n",
      "<class 'int'>\n",
      "<class 'str'>\n",
      "<class 'str'>\n",
      "<class 'float'>\n",
      "<class 'bool'>\n"
     ]
    }
   ],
   "source": [
    "for i in l:\n",
    "    print(type(i))"
   ]
  },
  {
   "cell_type": "code",
   "execution_count": 35,
   "id": "09906f86-58bd-4ac5-b392-0087df8e062c",
   "metadata": {},
   "outputs": [
    {
     "name": "stdout",
     "output_type": "stream",
     "text": [
      "<class 'int'>\n",
      "<class 'int'>\n",
      "<class 'int'>\n",
      "<class 'int'>\n",
      "<class 'int'>\n",
      "<class 'str'>\n",
      "<class 'str'>\n",
      "<class 'float'>\n",
      "<class 'bool'>\n",
      "this will be executed once for loop will complete tself successfully\n"
     ]
    }
   ],
   "source": [
    "for i in l:\n",
    "    print(type(i))\n",
    "else:\n",
    "        print(\"this will be executed once for loop will complete tself successfully\")"
   ]
  },
  {
   "cell_type": "code",
   "execution_count": 36,
   "id": "b8d11c00-bf72-4100-a7e6-d5cb28f2b411",
   "metadata": {},
   "outputs": [
    {
     "name": "stdout",
     "output_type": "stream",
     "text": [
      "<class 'int'>\n",
      "<class 'int'>\n",
      "<class 'int'>\n",
      "<class 'int'>\n",
      "<class 'int'>\n"
     ]
    }
   ],
   "source": [
    "for i in l:\n",
    "    print(type(i))\n",
    "    if i==6:\n",
    "        break\n",
    "else:\n",
    "        print(\"this will be executed once for loop will complete tself successfully\")"
   ]
  },
  {
   "cell_type": "code",
   "execution_count": 37,
   "id": "02dde4d8-fd6b-494b-a7f0-478ffa4949a0",
   "metadata": {},
   "outputs": [
    {
     "name": "stdout",
     "output_type": "stream",
     "text": [
      "<class 'int'>\n",
      "<class 'int'>\n",
      "<class 'int'>\n",
      "<class 'int'>\n",
      "<class 'int'>\n",
      "<class 'str'>\n",
      "<class 'str'>\n",
      "<class 'float'>\n",
      "<class 'bool'>\n",
      "this will be executed once for loop will complete tself successfully\n"
     ]
    }
   ],
   "source": [
    "for i in l:\n",
    "    print(type(i))\n",
    "    if i==6:\n",
    "        continue\n",
    "else:\n",
    "        print(\"this will be executed once for loop will complete tself successfully\")"
   ]
  },
  {
   "cell_type": "code",
   "execution_count": 39,
   "id": "4e407e87-04ca-48c9-aadb-f1d45a54d78a",
   "metadata": {},
   "outputs": [
    {
     "name": "stdout",
     "output_type": "stream",
     "text": [
      "<class 'int'>\n",
      "2\n",
      "<class 'int'>\n",
      "3\n",
      "<class 'int'>\n",
      "4\n",
      "<class 'int'>\n",
      "5\n",
      "<class 'int'>\n",
      "<class 'str'>\n",
      "ritik\n",
      "<class 'str'>\n",
      "pwskkills\n",
      "<class 'float'>\n",
      "23.45\n",
      "<class 'bool'>\n",
      "True\n",
      "this will be executed once for loop will complete tself successfully\n"
     ]
    }
   ],
   "source": [
    "for i in l:\n",
    "    print(type(i))\n",
    "    if i==6:\n",
    "        continue\n",
    "    print(i)\n",
    "else:\n",
    "        print(\"this will be executed once for loop will complete tself successfully\")"
   ]
  },
  {
   "cell_type": "code",
   "execution_count": 40,
   "id": "0bd729af-1094-468c-8719-d2115cf9b4e9",
   "metadata": {},
   "outputs": [
    {
     "data": {
      "text/plain": [
       "range(0, 10)"
      ]
     },
     "execution_count": 40,
     "metadata": {},
     "output_type": "execute_result"
    }
   ],
   "source": [
    "range(10)"
   ]
  },
  {
   "cell_type": "code",
   "execution_count": 41,
   "id": "fe1974ef-2a30-44ec-84a7-8f76035f0ad5",
   "metadata": {},
   "outputs": [
    {
     "data": {
      "text/plain": [
       "[0, 1, 2, 3, 4, 5, 6, 7, 8, 9]"
      ]
     },
     "execution_count": 41,
     "metadata": {},
     "output_type": "execute_result"
    }
   ],
   "source": [
    "list(range(10))"
   ]
  },
  {
   "cell_type": "code",
   "execution_count": null,
   "id": "1264f6dc-6989-436f-86be-55092c32ff80",
   "metadata": {},
   "outputs": [],
   "source": []
  }
 ],
 "metadata": {
  "kernelspec": {
   "display_name": "Python 3 (ipykernel)",
   "language": "python",
   "name": "python3"
  },
  "language_info": {
   "codemirror_mode": {
    "name": "ipython",
    "version": 3
   },
   "file_extension": ".py",
   "mimetype": "text/x-python",
   "name": "python",
   "nbconvert_exporter": "python",
   "pygments_lexer": "ipython3",
   "version": "3.10.8"
  }
 },
 "nbformat": 4,
 "nbformat_minor": 5
}

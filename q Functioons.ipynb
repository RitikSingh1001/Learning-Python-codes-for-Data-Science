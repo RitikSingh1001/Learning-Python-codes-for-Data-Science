{
 "cells": [
  {
   "cell_type": "code",
   "execution_count": 1,
   "id": "2dd79eb5-82c8-4d7d-91ef-711d14f04880",
   "metadata": {},
   "outputs": [
    {
     "name": "stdout",
     "output_type": "stream",
     "text": [
      "this is my print\n"
     ]
    }
   ],
   "source": [
    "print(\"this is my print\")\n"
   ]
  },
  {
   "cell_type": "code",
   "execution_count": 2,
   "id": "d465e278-801c-4732-806c-3b2adb2780ec",
   "metadata": {},
   "outputs": [],
   "source": [
    "l=[324, 45, 67, 789]"
   ]
  },
  {
   "cell_type": "code",
   "execution_count": 3,
   "id": "e9bf4ba9-eb69-413e-b1e0-c75e268547cb",
   "metadata": {},
   "outputs": [
    {
     "data": {
      "text/plain": [
       "4"
      ]
     },
     "execution_count": 3,
     "metadata": {},
     "output_type": "execute_result"
    }
   ],
   "source": [
    "len(l)"
   ]
  },
  {
   "cell_type": "code",
   "execution_count": 3,
   "id": "0d27ed72-38bb-4415-9f97-ceb6f7f9a466",
   "metadata": {},
   "outputs": [
    {
     "data": {
      "text/plain": [
       "list"
      ]
     },
     "execution_count": 3,
     "metadata": {},
     "output_type": "execute_result"
    }
   ],
   "source": [
    "type(l)"
   ]
  },
  {
   "cell_type": "code",
   "execution_count": 6,
   "id": "d2685266-03d1-49f5-b0d9-27d75a5c2055",
   "metadata": {},
   "outputs": [],
   "source": [
    "def test():\n",
    "    pass"
   ]
  },
  {
   "cell_type": "code",
   "execution_count": 10,
   "id": "367490ae-1090-4df2-88a2-cdc92c201a02",
   "metadata": {},
   "outputs": [],
   "source": [
    "# def key word is used for defination."
   ]
  },
  {
   "cell_type": "code",
   "execution_count": 7,
   "id": "dba06886-5778-4ea7-9a6f-fa54717d530b",
   "metadata": {},
   "outputs": [],
   "source": [
    "def test1():\n",
    "    print('this is my very very first function')"
   ]
  },
  {
   "cell_type": "code",
   "execution_count": 8,
   "id": "f29d5f5a-507f-4cc7-b5f5-6d59ce30bad3",
   "metadata": {},
   "outputs": [
    {
     "name": "stdout",
     "output_type": "stream",
     "text": [
      "this is my very very first function\n"
     ]
    }
   ],
   "source": [
    "test1()"
   ]
  },
  {
   "cell_type": "code",
   "execution_count": 9,
   "id": "34a10d92-e214-4762-9f47-fd8bdfcf1eb3",
   "metadata": {},
   "outputs": [
    {
     "name": "stdout",
     "output_type": "stream",
     "text": [
      "this is my very very first function\n"
     ]
    }
   ],
   "source": [
    "test1()"
   ]
  },
  {
   "cell_type": "code",
   "execution_count": 12,
   "id": "5a563488-8659-4088-a946-d85c97f3b09e",
   "metadata": {},
   "outputs": [
    {
     "name": "stdout",
     "output_type": "stream",
     "text": [
      "this is my very very first function\n"
     ]
    },
    {
     "ename": "TypeError",
     "evalue": "unsupported operand type(s) for +: 'NoneType' and 'str'",
     "output_type": "error",
     "traceback": [
      "\u001b[0;31m---------------------------------------------------------------------------\u001b[0m",
      "\u001b[0;31mTypeError\u001b[0m                                 Traceback (most recent call last)",
      "Cell \u001b[0;32mIn[12], line 1\u001b[0m\n\u001b[0;32m----> 1\u001b[0m \u001b[43mtest1\u001b[49m\u001b[43m(\u001b[49m\u001b[43m)\u001b[49m\u001b[38;5;241;43m+\u001b[39;49m\u001b[38;5;124;43m\"\u001b[39;49m\u001b[38;5;124;43mritik\u001b[39;49m\u001b[38;5;124;43m\"\u001b[39;49m\n",
      "\u001b[0;31mTypeError\u001b[0m: unsupported operand type(s) for +: 'NoneType' and 'str'"
     ]
    }
   ],
   "source": [
    "test1()+\"ritik\""
   ]
  },
  {
   "cell_type": "code",
   "execution_count": 13,
   "id": "d7bffd75-a693-49ef-a5fa-3acc08b59894",
   "metadata": {},
   "outputs": [],
   "source": [
    "def test2():\n",
    "    return\"this is my very first return\""
   ]
  },
  {
   "cell_type": "code",
   "execution_count": 14,
   "id": "17524d1a-358f-4249-86ed-ead76aa612ec",
   "metadata": {},
   "outputs": [
    {
     "data": {
      "text/plain": [
       "'this is my very first return'"
      ]
     },
     "execution_count": 14,
     "metadata": {},
     "output_type": "execute_result"
    }
   ],
   "source": [
    "test2()"
   ]
  },
  {
   "cell_type": "code",
   "execution_count": 15,
   "id": "52e71a2c-d608-4ee9-99aa-6dc5da9a51c9",
   "metadata": {},
   "outputs": [
    {
     "data": {
      "text/plain": [
       "'this is my very first return ritik'"
      ]
     },
     "execution_count": 15,
     "metadata": {},
     "output_type": "execute_result"
    }
   ],
   "source": [
    "test2()+\" ritik\""
   ]
  },
  {
   "cell_type": "code",
   "execution_count": 16,
   "id": "21fff371-2d23-4b06-8fe3-c40e0a85f9af",
   "metadata": {},
   "outputs": [],
   "source": [
    "def test3():\n",
    "    return \"ritik\", 34,567.56,[1,2,3,4]"
   ]
  },
  {
   "cell_type": "code",
   "execution_count": 17,
   "id": "dcedfe4a-82e0-479b-81ad-b9d31887418a",
   "metadata": {},
   "outputs": [
    {
     "data": {
      "text/plain": [
       "('ritik', 34, 567.56, [1, 2, 3, 4])"
      ]
     },
     "execution_count": 17,
     "metadata": {},
     "output_type": "execute_result"
    }
   ],
   "source": [
    "test3()"
   ]
  },
  {
   "cell_type": "code",
   "execution_count": 19,
   "id": "5df74dcd-973a-4345-a49b-d7cd5e3c0466",
   "metadata": {},
   "outputs": [],
   "source": [
    "a,b,c,d=test3()"
   ]
  },
  {
   "cell_type": "code",
   "execution_count": 20,
   "id": "cdb14144-4bbc-40d2-948e-d221cd6113f6",
   "metadata": {},
   "outputs": [
    {
     "data": {
      "text/plain": [
       "'ritik'"
      ]
     },
     "execution_count": 20,
     "metadata": {},
     "output_type": "execute_result"
    }
   ],
   "source": [
    "a"
   ]
  },
  {
   "cell_type": "code",
   "execution_count": 21,
   "id": "e8c0327b-fc0a-4d94-ae09-7623557badb3",
   "metadata": {},
   "outputs": [
    {
     "data": {
      "text/plain": [
       "34"
      ]
     },
     "execution_count": 21,
     "metadata": {},
     "output_type": "execute_result"
    }
   ],
   "source": [
    "b"
   ]
  },
  {
   "cell_type": "code",
   "execution_count": 22,
   "id": "64e7ec8a-406f-4c4c-94a5-1aad037d1822",
   "metadata": {},
   "outputs": [
    {
     "data": {
      "text/plain": [
       "567.56"
      ]
     },
     "execution_count": 22,
     "metadata": {},
     "output_type": "execute_result"
    }
   ],
   "source": [
    "c"
   ]
  },
  {
   "cell_type": "code",
   "execution_count": 24,
   "id": "5b966ee4-62a1-4782-9eb1-496781fe4178",
   "metadata": {},
   "outputs": [
    {
     "data": {
      "text/plain": [
       "[1, 2, 3, 4]"
      ]
     },
     "execution_count": 24,
     "metadata": {},
     "output_type": "execute_result"
    }
   ],
   "source": [
    "d\n"
   ]
  },
  {
   "cell_type": "code",
   "execution_count": 25,
   "id": "e31ac692-70ad-4c0f-9bba-dac8f5ed7dbd",
   "metadata": {},
   "outputs": [],
   "source": [
    "a=1\n",
    "b=4"
   ]
  },
  {
   "cell_type": "code",
   "execution_count": null,
   "id": "c84792a3-612d-420b-8646-3483f54de5f2",
   "metadata": {},
   "outputs": [],
   "source": [
    "#can be written as this also."
   ]
  },
  {
   "cell_type": "code",
   "execution_count": 26,
   "id": "2e1176ac-0f50-4ed8-8bb9-ec4640640e68",
   "metadata": {},
   "outputs": [],
   "source": [
    "a,b=1,4"
   ]
  },
  {
   "cell_type": "code",
   "execution_count": 27,
   "id": "83032fe8-4bd9-4d81-827a-67e22b3ce84c",
   "metadata": {},
   "outputs": [],
   "source": [
    "def test4():\n",
    "    a=5+6/7\n",
    "    return a\n",
    "    \n",
    "  "
   ]
  },
  {
   "cell_type": "code",
   "execution_count": 28,
   "id": "5d7a07d9-c22d-4733-9477-213bcd0ab9b2",
   "metadata": {},
   "outputs": [
    {
     "data": {
      "text/plain": [
       "5.857142857142857"
      ]
     },
     "execution_count": 28,
     "metadata": {},
     "output_type": "execute_result"
    }
   ],
   "source": [
    "test4()"
   ]
  },
  {
   "cell_type": "code",
   "execution_count": 19,
   "id": "9367a2a7-39d0-419e-a7c5-0946cb4f36f0",
   "metadata": {},
   "outputs": [],
   "source": [
    "def test5(a,b,c):\n",
    "    d=a+b/c\n",
    "    return d"
   ]
  },
  {
   "cell_type": "code",
   "execution_count": 30,
   "id": "547dffec-4824-4c47-bedf-06b6f870850b",
   "metadata": {},
   "outputs": [
    {
     "ename": "TypeError",
     "evalue": "test5() missing 3 required positional arguments: 'a', 'b', and 'c'",
     "output_type": "error",
     "traceback": [
      "\u001b[0;31m---------------------------------------------------------------------------\u001b[0m",
      "\u001b[0;31mTypeError\u001b[0m                                 Traceback (most recent call last)",
      "Cell \u001b[0;32mIn[30], line 1\u001b[0m\n\u001b[0;32m----> 1\u001b[0m \u001b[43mtest5\u001b[49m\u001b[43m(\u001b[49m\u001b[43m)\u001b[49m\n",
      "\u001b[0;31mTypeError\u001b[0m: test5() missing 3 required positional arguments: 'a', 'b', and 'c'"
     ]
    }
   ],
   "source": [
    "test5()"
   ]
  },
  {
   "cell_type": "code",
   "execution_count": 20,
   "id": "ceeb31ec-3205-4ea6-bb21-aba800c3a721",
   "metadata": {},
   "outputs": [
    {
     "data": {
      "text/plain": [
       "2.75"
      ]
     },
     "execution_count": 20,
     "metadata": {},
     "output_type": "execute_result"
    }
   ],
   "source": [
    "test5(2,3,4)"
   ]
  },
  {
   "cell_type": "code",
   "execution_count": 21,
   "id": "abdf8b0f-b4e3-43bf-9912-5d5caf6d646d",
   "metadata": {},
   "outputs": [],
   "source": [
    "def test6(a,b):\n",
    "    return a+b"
   ]
  },
  {
   "cell_type": "code",
   "execution_count": 22,
   "id": "ba6b2e71-c896-40c6-a3c9-67c412b3dc69",
   "metadata": {},
   "outputs": [
    {
     "data": {
      "text/plain": [
       "7"
      ]
     },
     "execution_count": 22,
     "metadata": {},
     "output_type": "execute_result"
    }
   ],
   "source": [
    "test6(3,4)"
   ]
  },
  {
   "cell_type": "code",
   "execution_count": 23,
   "id": "9b8d46d3-d46c-4195-883e-8d448fe22d27",
   "metadata": {},
   "outputs": [
    {
     "data": {
      "text/plain": [
       "'ritiksingh'"
      ]
     },
     "execution_count": 23,
     "metadata": {},
     "output_type": "execute_result"
    }
   ],
   "source": [
    "test6('ritik', 'singh')"
   ]
  },
  {
   "cell_type": "code",
   "execution_count": 24,
   "id": "7c9c9dcd-2a6d-4cb3-9169-538dc2b9adfa",
   "metadata": {},
   "outputs": [
    {
     "data": {
      "text/plain": [
       "[1, 2, 3, 4, 5, 6, 4, 5, 6, 7, 8, 9]"
      ]
     },
     "execution_count": 24,
     "metadata": {},
     "output_type": "execute_result"
    }
   ],
   "source": [
    "test6([1,2,3,4,5,6], [4,5,6,7,8,9])"
   ]
  },
  {
   "cell_type": "code",
   "execution_count": 25,
   "id": "7376017b-4f36-4c19-99c9-55316b3345ef",
   "metadata": {},
   "outputs": [],
   "source": [
    "l=[1,2,3,4,5,6,'ritik', 'sinngh', [1,2,3,4,5,6]]"
   ]
  },
  {
   "cell_type": "code",
   "execution_count": 27,
   "id": "df074575-cf6a-4e14-b224-7d73c1656ecf",
   "metadata": {},
   "outputs": [],
   "source": [
    "l1=[]\n",
    "for i  in l:\n",
    "    if type (i)==int or type(i)==float:\n",
    "        l1.append(i)\n",
    "        "
   ]
  },
  {
   "cell_type": "code",
   "execution_count": 28,
   "id": "84bf8a95-d56d-4f7d-8030-fb51c1f89ca1",
   "metadata": {},
   "outputs": [
    {
     "data": {
      "text/plain": [
       "[1, 2, 3, 4, 5, 6]"
      ]
     },
     "execution_count": 28,
     "metadata": {},
     "output_type": "execute_result"
    }
   ],
   "source": [
    "l1"
   ]
  },
  {
   "cell_type": "code",
   "execution_count": 29,
   "id": "c8c162ca-8e57-4ca8-a2da-8f0916602b7e",
   "metadata": {},
   "outputs": [],
   "source": [
    "def test7(l):\n",
    "    for i in l:\n",
    "        if type (i)==int or type(i)==float:\n",
    "            l1.append(i)\n",
    "            return l1"
   ]
  },
  {
   "cell_type": "code",
   "execution_count": 31,
   "id": "2830e913-8dec-4ca9-96d6-c976a8a1a085",
   "metadata": {},
   "outputs": [
    {
     "data": {
      "text/plain": [
       "[1, 2, 3, 4, 5, 6, 1]"
      ]
     },
     "execution_count": 31,
     "metadata": {},
     "output_type": "execute_result"
    }
   ],
   "source": [
    "test7(l)"
   ]
  },
  {
   "cell_type": "code",
   "execution_count": 42,
   "id": "f13132b6-52ac-46f1-98f0-2ec5e26c8e05",
   "metadata": {},
   "outputs": [
    {
     "data": {
      "text/plain": [
       "[1,\n",
       " 2,\n",
       " 3,\n",
       " 4,\n",
       " 5,\n",
       " 6,\n",
       " 'ritik',\n",
       " 'sinngh',\n",
       " [1, 2, 3, 4, 5, 6],\n",
       " 1,\n",
       " 2,\n",
       " 3,\n",
       " 4,\n",
       " 5,\n",
       " 6,\n",
       " 1,\n",
       " 2,\n",
       " 3,\n",
       " 4,\n",
       " 5,\n",
       " 6,\n",
       " 1,\n",
       " 2,\n",
       " 3,\n",
       " 4,\n",
       " 5,\n",
       " 6]"
      ]
     },
     "execution_count": 42,
     "metadata": {},
     "output_type": "execute_result"
    }
   ],
   "source": [
    "l"
   ]
  },
  {
   "cell_type": "code",
   "execution_count": 45,
   "id": "2df80978-4e0e-47b1-bf9c-c0295a598b84",
   "metadata": {},
   "outputs": [],
   "source": [
    "def test8(a):\n",
    "    for i in a:\n",
    "        if type(i)==list:\n",
    "            for j in i:\n",
    "                l.append(j)\n",
    "            else:\n",
    "                if type(i)==int or type (i)==float:\n",
    "                    l.append(i)\n",
    "                return l"
   ]
  },
  {
   "cell_type": "code",
   "execution_count": 46,
   "id": "f1b6df4d-6317-4e4a-b689-b6883bc05150",
   "metadata": {},
   "outputs": [
    {
     "data": {
      "text/plain": [
       "[1,\n",
       " 2,\n",
       " 3,\n",
       " 4,\n",
       " 5,\n",
       " 6,\n",
       " 'ritik',\n",
       " 'sinngh',\n",
       " [1, 2, 3, 4, 5, 6],\n",
       " 1,\n",
       " 2,\n",
       " 3,\n",
       " 4,\n",
       " 5,\n",
       " 6,\n",
       " 1,\n",
       " 2,\n",
       " 3,\n",
       " 4,\n",
       " 5,\n",
       " 6,\n",
       " 1,\n",
       " 2,\n",
       " 3,\n",
       " 4,\n",
       " 5,\n",
       " 6,\n",
       " 1,\n",
       " 2,\n",
       " 3,\n",
       " 4,\n",
       " 5,\n",
       " 6,\n",
       " 1,\n",
       " 2,\n",
       " 3,\n",
       " 4,\n",
       " 5,\n",
       " 6]"
      ]
     },
     "execution_count": 46,
     "metadata": {},
     "output_type": "execute_result"
    }
   ],
   "source": [
    "test8(l)"
   ]
  },
  {
   "cell_type": "code",
   "execution_count": 44,
   "id": "3ca35e7a-9f50-4562-b525-20d9eb525f2a",
   "metadata": {},
   "outputs": [
    {
     "data": {
      "text/plain": [
       "[1,\n",
       " 2,\n",
       " 3,\n",
       " 4,\n",
       " 5,\n",
       " 6,\n",
       " 'ritik',\n",
       " 'sinngh',\n",
       " [1, 2, 3, 4, 5, 6],\n",
       " 1,\n",
       " 2,\n",
       " 3,\n",
       " 4,\n",
       " 5,\n",
       " 6,\n",
       " 1,\n",
       " 2,\n",
       " 3,\n",
       " 4,\n",
       " 5,\n",
       " 6,\n",
       " 1,\n",
       " 2,\n",
       " 3,\n",
       " 4,\n",
       " 5,\n",
       " 6,\n",
       " 1,\n",
       " 2,\n",
       " 3,\n",
       " 4,\n",
       " 5,\n",
       " 6]"
      ]
     },
     "execution_count": 44,
     "metadata": {},
     "output_type": "execute_result"
    }
   ],
   "source": [
    "l"
   ]
  },
  {
   "cell_type": "code",
   "execution_count": null,
   "id": "b80ab662-c0a9-43e2-aa83-7af627eb1a7c",
   "metadata": {},
   "outputs": [],
   "source": [
    "test8()"
   ]
  },
  {
   "cell_type": "code",
   "execution_count": null,
   "id": "bfde06ef-40d5-461e-9fa3-6033f9d7358d",
   "metadata": {},
   "outputs": [],
   "source": [
    "len()"
   ]
  },
  {
   "cell_type": "code",
   "execution_count": 56,
   "id": "c573e2a1-0497-4119-8229-06d7d173ce46",
   "metadata": {},
   "outputs": [],
   "source": [
    "def test9():\n",
    "    \"\"\"this is my function to add 9 and 6 \"\"\"\n",
    "    p=9+6\n",
    "    return p\n",
    "    "
   ]
  },
  {
   "cell_type": "code",
   "execution_count": 57,
   "id": "714edc31-3d85-4341-84a2-fbbc1dc63279",
   "metadata": {},
   "outputs": [
    {
     "data": {
      "text/plain": [
       "15"
      ]
     },
     "execution_count": 57,
     "metadata": {},
     "output_type": "execute_result"
    }
   ],
   "source": [
    "test9()"
   ]
  },
  {
   "cell_type": "code",
   "execution_count": 58,
   "id": "dd64053e-375d-484d-841a-44cf1a27ca23",
   "metadata": {},
   "outputs": [],
   "source": [
    "def test10(a,b):\n",
    "    return a+b"
   ]
  },
  {
   "cell_type": "code",
   "execution_count": 59,
   "id": "65af8f3d-39f4-450f-8ab2-99eba1e6041e",
   "metadata": {},
   "outputs": [],
   "source": [
    "def test11(*args):\n",
    "    return args"
   ]
  },
  {
   "cell_type": "code",
   "execution_count": 60,
   "id": "0b4376f1-b6e3-451b-a9e9-237d4fd27d67",
   "metadata": {},
   "outputs": [
    {
     "data": {
      "text/plain": [
       "()"
      ]
     },
     "execution_count": 60,
     "metadata": {},
     "output_type": "execute_result"
    }
   ],
   "source": [
    "test11()"
   ]
  },
  {
   "cell_type": "code",
   "execution_count": 61,
   "id": "9ca8e563-190b-411e-af53-00dd9a6f55c4",
   "metadata": {},
   "outputs": [
    {
     "data": {
      "text/plain": [
       "tuple"
      ]
     },
     "execution_count": 61,
     "metadata": {},
     "output_type": "execute_result"
    }
   ],
   "source": [
    "type(test11())"
   ]
  },
  {
   "cell_type": "code",
   "execution_count": 62,
   "id": "ee795c2f-57ce-48f8-a5ff-ed6ebc884cf6",
   "metadata": {},
   "outputs": [
    {
     "data": {
      "text/plain": [
       "(1, 2, 3)"
      ]
     },
     "execution_count": 62,
     "metadata": {},
     "output_type": "execute_result"
    }
   ],
   "source": [
    "test11(1,2,3)"
   ]
  },
  {
   "cell_type": "code",
   "execution_count": 63,
   "id": "127e37e6-21fc-4e71-9267-0f5d31ac689f",
   "metadata": {},
   "outputs": [
    {
     "data": {
      "text/plain": [
       "(1, 3, 4, 4, 44, 5, 'ritik', 'yuoun', 56.777)"
      ]
     },
     "execution_count": 63,
     "metadata": {},
     "output_type": "execute_result"
    }
   ],
   "source": [
    "test11(1,3,4,4,44,5,\"ritik\",\"yuoun\", 56.777)"
   ]
  },
  {
   "cell_type": "code",
   "execution_count": 67,
   "id": "42140efb-05dd-4548-af5d-ac06ca9f82b0",
   "metadata": {},
   "outputs": [],
   "source": [
    "def test12(*ritik):\n",
    "    return ritik\n",
    "    "
   ]
  },
  {
   "cell_type": "code",
   "execution_count": 68,
   "id": "e8bf92a3-1904-4e8f-8242-18acff437a63",
   "metadata": {},
   "outputs": [
    {
     "data": {
      "text/plain": [
       "(35, 45, 5463634636)"
      ]
     },
     "execution_count": 68,
     "metadata": {},
     "output_type": "execute_result"
    }
   ],
   "source": [
    "test12(35,45,5463634636)"
   ]
  },
  {
   "cell_type": "code",
   "execution_count": 69,
   "id": "02bc6236-db33-4795-a4f4-3f0e89a509ab",
   "metadata": {},
   "outputs": [],
   "source": [
    "def test13(*args, a):\n",
    "    return args,a"
   ]
  },
  {
   "cell_type": "code",
   "execution_count": 70,
   "id": "0e41fe78-a730-4360-868a-a66208997f7f",
   "metadata": {},
   "outputs": [
    {
     "ename": "TypeError",
     "evalue": "test13() missing 1 required keyword-only argument: 'a'",
     "output_type": "error",
     "traceback": [
      "\u001b[0;31m---------------------------------------------------------------------------\u001b[0m",
      "\u001b[0;31mTypeError\u001b[0m                                 Traceback (most recent call last)",
      "Cell \u001b[0;32mIn[70], line 1\u001b[0m\n\u001b[0;32m----> 1\u001b[0m \u001b[43mtest13\u001b[49m\u001b[43m(\u001b[49m\u001b[38;5;241;43m1\u001b[39;49m\u001b[43m,\u001b[49m\u001b[38;5;241;43m2\u001b[39;49m\u001b[43m,\u001b[49m\u001b[38;5;241;43m34\u001b[39;49m\u001b[43m)\u001b[49m\n",
      "\u001b[0;31mTypeError\u001b[0m: test13() missing 1 required keyword-only argument: 'a'"
     ]
    }
   ],
   "source": [
    "test13(1,2,34)"
   ]
  },
  {
   "cell_type": "code",
   "execution_count": 71,
   "id": "0b5d83c6-22d4-4553-b715-06609f73b628",
   "metadata": {},
   "outputs": [
    {
     "data": {
      "text/plain": [
       "((34, 5, 6, 7, 8), 67)"
      ]
     },
     "execution_count": 71,
     "metadata": {},
     "output_type": "execute_result"
    }
   ],
   "source": [
    "test13(34,5,6,7,8, a=67)"
   ]
  },
  {
   "cell_type": "code",
   "execution_count": 72,
   "id": "0c68ea29-3b3e-42a1-bfc9-211db81e9a00",
   "metadata": {},
   "outputs": [],
   "source": [
    "def  test14(c,d,a=23,b=1):\n",
    "    return a,b,c,d"
   ]
  },
  {
   "cell_type": "code",
   "execution_count": 73,
   "id": "c487a56a-24a7-406f-9a08-5301256405fd",
   "metadata": {},
   "outputs": [
    {
     "data": {
      "text/plain": [
       "(23, 1, 2, 3)"
      ]
     },
     "execution_count": 73,
     "metadata": {},
     "output_type": "execute_result"
    }
   ],
   "source": [
    "test14(2,3)"
   ]
  },
  {
   "cell_type": "code",
   "execution_count": 74,
   "id": "42ec28ec-1322-44d5-b259-5e5a143273e3",
   "metadata": {},
   "outputs": [
    {
     "data": {
      "text/plain": [
       "(2345, 1, 2, 5)"
      ]
     },
     "execution_count": 74,
     "metadata": {},
     "output_type": "execute_result"
    }
   ],
   "source": [
    "test14(2,5,a=2345)"
   ]
  },
  {
   "cell_type": "code",
   "execution_count": 83,
   "id": "e02ef888-4ba6-46df-833b-ecb0f4429089",
   "metadata": {},
   "outputs": [],
   "source": [
    "def test15(**kwargs):\n",
    "    return kwargs"
   ]
  },
  {
   "cell_type": "code",
   "execution_count": 84,
   "id": "4e00472c-0be9-4973-8ff4-c07c8f6d6658",
   "metadata": {},
   "outputs": [
    {
     "data": {
      "text/plain": [
       "{}"
      ]
     },
     "execution_count": 84,
     "metadata": {},
     "output_type": "execute_result"
    }
   ],
   "source": [
    "test15()"
   ]
  },
  {
   "cell_type": "code",
   "execution_count": 85,
   "id": "a85f1764-c7ec-4d3a-a4b7-a7e7188ca20c",
   "metadata": {},
   "outputs": [
    {
     "data": {
      "text/plain": [
       "dict"
      ]
     },
     "execution_count": 85,
     "metadata": {},
     "output_type": "execute_result"
    }
   ],
   "source": [
    "type(test15())"
   ]
  },
  {
   "cell_type": "code",
   "execution_count": 86,
   "id": "fa2ea612-06fd-45d8-9d33-6280dfd98b64",
   "metadata": {},
   "outputs": [
    {
     "data": {
      "text/plain": [
       "{'a': [1, 2, 3, 4], 'b': 'ritiik', 'c': 34.56}"
      ]
     },
     "execution_count": 86,
     "metadata": {},
     "output_type": "execute_result"
    }
   ],
   "source": [
    "test15(a=[1,2,3,4], b=\"ritiik\", c=34.56)"
   ]
  },
  {
   "cell_type": "code",
   "execution_count": null,
   "id": "0c7067ac-a927-4d90-9f54-ae7909a45319",
   "metadata": {},
   "outputs": [],
   "source": []
  },
  {
   "cell_type": "code",
   "execution_count": null,
   "id": "5749446c-83a4-4e75-a0ef-963da0884f6f",
   "metadata": {},
   "outputs": [],
   "source": []
  }
 ],
 "metadata": {
  "kernelspec": {
   "display_name": "Python 3 (ipykernel)",
   "language": "python",
   "name": "python3"
  },
  "language_info": {
   "codemirror_mode": {
    "name": "ipython",
    "version": 3
   },
   "file_extension": ".py",
   "mimetype": "text/x-python",
   "name": "python",
   "nbconvert_exporter": "python",
   "pygments_lexer": "ipython3",
   "version": "3.10.8"
  }
 },
 "nbformat": 4,
 "nbformat_minor": 5
}

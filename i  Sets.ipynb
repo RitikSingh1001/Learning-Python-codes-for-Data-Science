{
 "cells": [
  {
   "cell_type": "code",
   "execution_count": 1,
   "id": "d816a740-265d-4938-8beb-226aaabaf9df",
   "metadata": {},
   "outputs": [],
   "source": [
    "s={}"
   ]
  },
  {
   "cell_type": "code",
   "execution_count": 2,
   "id": "51d1b00e-935c-4e28-b914-f7f3798d3c7c",
   "metadata": {},
   "outputs": [
    {
     "data": {
      "text/plain": [
       "dict"
      ]
     },
     "execution_count": 2,
     "metadata": {},
     "output_type": "execute_result"
    }
   ],
   "source": [
    "type(s)"
   ]
  },
  {
   "cell_type": "code",
   "execution_count": 3,
   "id": "9027bb82-f85f-4989-9796-25042d8c843b",
   "metadata": {},
   "outputs": [],
   "source": [
    "s1={1,2,3,4,5,6,7,1,2,2,3,34,4,5,6,6,'ritik',  'kalu', 'pwskills', 'data'}"
   ]
  },
  {
   "cell_type": "code",
   "execution_count": 4,
   "id": "976ad8be-bb29-45a1-aba0-001df5057c4b",
   "metadata": {},
   "outputs": [
    {
     "data": {
      "text/plain": [
       "{1, 2, 3, 34, 4, 5, 6, 7, 'data', 'kalu', 'pwskills', 'ritik'}"
      ]
     },
     "execution_count": 4,
     "metadata": {},
     "output_type": "execute_result"
    }
   ],
   "source": [
    "s1"
   ]
  },
  {
   "cell_type": "code",
   "execution_count": 9,
   "id": "ef667866-8f65-43ad-8132-9a21d7cdee2f",
   "metadata": {},
   "outputs": [],
   "source": [
    "s2={'ritik','Ritik', 'ritik'}"
   ]
  },
  {
   "cell_type": "code",
   "execution_count": 10,
   "id": "5b05d557-1fd1-41d8-9a95-2287db70d13f",
   "metadata": {},
   "outputs": [
    {
     "data": {
      "text/plain": [
       "{'Ritik', 'ritik'}"
      ]
     },
     "execution_count": 10,
     "metadata": {},
     "output_type": "execute_result"
    }
   ],
   "source": [
    "s2"
   ]
  },
  {
   "cell_type": "code",
   "execution_count": 11,
   "id": "c04502c0-d703-4bfa-8f0b-09a8cd9a6609",
   "metadata": {},
   "outputs": [],
   "source": [
    "s2.add('pwskills')"
   ]
  },
  {
   "cell_type": "code",
   "execution_count": 12,
   "id": "78f157c3-6265-486a-a0bf-0c20e057c8d7",
   "metadata": {},
   "outputs": [
    {
     "data": {
      "text/plain": [
       "{'Ritik', 'pwskills', 'ritik'}"
      ]
     },
     "execution_count": 12,
     "metadata": {},
     "output_type": "execute_result"
    }
   ],
   "source": [
    "s2"
   ]
  },
  {
   "cell_type": "code",
   "execution_count": 13,
   "id": "e91c19aa-b612-449a-b999-aa5f86ecdaab",
   "metadata": {},
   "outputs": [],
   "source": [
    "s2.add('pwskills')"
   ]
  },
  {
   "cell_type": "code",
   "execution_count": 14,
   "id": "d701d59b-7e23-4c87-8f36-143911be3511",
   "metadata": {},
   "outputs": [
    {
     "data": {
      "text/plain": [
       "{'Ritik', 'pwskills', 'ritik'}"
      ]
     },
     "execution_count": 14,
     "metadata": {},
     "output_type": "execute_result"
    }
   ],
   "source": [
    "s2"
   ]
  },
  {
   "cell_type": "code",
   "execution_count": 15,
   "id": "e2ceef16-c0fc-4859-b509-8bb2f4a92b71",
   "metadata": {},
   "outputs": [
    {
     "ename": "TypeError",
     "evalue": "unhashable type: 'list'",
     "output_type": "error",
     "traceback": [
      "\u001b[0;31m---------------------------------------------------------------------------\u001b[0m",
      "\u001b[0;31mTypeError\u001b[0m                                 Traceback (most recent call last)",
      "Cell \u001b[0;32mIn[15], line 1\u001b[0m\n\u001b[0;32m----> 1\u001b[0m \u001b[43ms2\u001b[49m\u001b[38;5;241;43m.\u001b[39;49m\u001b[43madd\u001b[49m\u001b[43m(\u001b[49m\u001b[43m[\u001b[49m\u001b[38;5;241;43m3\u001b[39;49m\u001b[43m,\u001b[49m\u001b[38;5;241;43m4\u001b[39;49m\u001b[43m,\u001b[49m\u001b[38;5;241;43m5\u001b[39;49m\u001b[43m,\u001b[49m\u001b[38;5;241;43m6\u001b[39;49m\u001b[43m]\u001b[49m\u001b[43m)\u001b[49m\n",
      "\u001b[0;31mTypeError\u001b[0m: unhashable type: 'list'"
     ]
    }
   ],
   "source": [
    "s2.add([3,4,5,6])"
   ]
  },
  {
   "cell_type": "code",
   "execution_count": 16,
   "id": "a02ff4f1-933f-4dc8-b622-20be73f9100b",
   "metadata": {},
   "outputs": [],
   "source": [
    "s2.add((2,3,4,5,6))"
   ]
  },
  {
   "cell_type": "code",
   "execution_count": 17,
   "id": "5aacf5eb-4857-42ec-aafb-2f8f8a1dc736",
   "metadata": {},
   "outputs": [
    {
     "data": {
      "text/plain": [
       "{(2, 3, 4, 5, 6), 'Ritik', 'pwskills', 'ritik'}"
      ]
     },
     "execution_count": 17,
     "metadata": {},
     "output_type": "execute_result"
    }
   ],
   "source": [
    "s2"
   ]
  },
  {
   "cell_type": "code",
   "execution_count": 18,
   "id": "30b3e825-e271-4f29-9b41-62e1e0df3711",
   "metadata": {},
   "outputs": [
    {
     "ename": "TypeError",
     "evalue": "unhashable type: 'set'",
     "output_type": "error",
     "traceback": [
      "\u001b[0;31m---------------------------------------------------------------------------\u001b[0m",
      "\u001b[0;31mTypeError\u001b[0m                                 Traceback (most recent call last)",
      "Cell \u001b[0;32mIn[18], line 1\u001b[0m\n\u001b[0;32m----> 1\u001b[0m \u001b[43ms2\u001b[49m\u001b[38;5;241;43m.\u001b[39;49m\u001b[43madd\u001b[49m\u001b[43m(\u001b[49m\u001b[43m{\u001b[49m\u001b[38;5;241;43m2\u001b[39;49m\u001b[43m,\u001b[49m\u001b[38;5;241;43m3\u001b[39;49m\u001b[43m,\u001b[49m\u001b[38;5;241;43m4\u001b[39;49m\u001b[43m,\u001b[49m\u001b[38;5;241;43m5\u001b[39;49m\u001b[43m}\u001b[49m\u001b[43m)\u001b[49m\n",
      "\u001b[0;31mTypeError\u001b[0m: unhashable type: 'set'"
     ]
    }
   ],
   "source": [
    "s2.add({2,3,4,5})"
   ]
  },
  {
   "cell_type": "code",
   "execution_count": 19,
   "id": "1af0618c-485d-4939-afc1-ad6d31a7afe6",
   "metadata": {},
   "outputs": [],
   "source": [
    " s2.clear()"
   ]
  },
  {
   "cell_type": "code",
   "execution_count": 20,
   "id": "dc397880-19a4-4af0-ab3e-ecaa9813240d",
   "metadata": {},
   "outputs": [
    {
     "data": {
      "text/plain": [
       "set()"
      ]
     },
     "execution_count": 20,
     "metadata": {},
     "output_type": "execute_result"
    }
   ],
   "source": [
    "s2"
   ]
  },
  {
   "cell_type": "code",
   "execution_count": 22,
   "id": "e75a6773-fec3-43c1-8832-1e8bdb57aeff",
   "metadata": {},
   "outputs": [],
   "source": [
    "l=[2,3,4,5,6,7,8,9,2,3,4,6,7,78]"
   ]
  },
  {
   "cell_type": "code",
   "execution_count": 26,
   "id": "7a1c6ae2-05ad-4695-898d-2952bb6d14c1",
   "metadata": {},
   "outputs": [
    {
     "data": {
      "text/plain": [
       "[2, 3, 4, 5, 6, 7, 8, 9, 78]"
      ]
     },
     "execution_count": 26,
     "metadata": {},
     "output_type": "execute_result"
    }
   ],
   "source": [
    "list(set(l))"
   ]
  },
  {
   "cell_type": "code",
   "execution_count": 24,
   "id": "70b44b07-0072-4775-a202-5f2752e6ee5c",
   "metadata": {},
   "outputs": [],
   "source": [
    "t=(2,3,4,5,6,6,7,8,5,6,7,8,'ritik')"
   ]
  },
  {
   "cell_type": "code",
   "execution_count": 27,
   "id": "395a09a8-2bd9-4c41-9f4d-89ab43ad804e",
   "metadata": {},
   "outputs": [
    {
     "data": {
      "text/plain": [
       "(2, 3, 4, 5, 6, 7, 8, 'ritik')"
      ]
     },
     "execution_count": 27,
     "metadata": {},
     "output_type": "execute_result"
    }
   ],
   "source": [
    "tuple(set(t))"
   ]
  },
  {
   "cell_type": "code",
   "execution_count": 28,
   "id": "62ee8dfd-7dd6-4754-92df-4e1dc6e20729",
   "metadata": {},
   "outputs": [
    {
     "data": {
      "text/plain": [
       "{1, 2, 3, 34, 4, 5, 6, 7, 'data', 'kalu', 'pwskills', 'ritik'}"
      ]
     },
     "execution_count": 28,
     "metadata": {},
     "output_type": "execute_result"
    }
   ],
   "source": [
    "s1"
   ]
  },
  {
   "cell_type": "code",
   "execution_count": 29,
   "id": "f9a95881-7ebe-4b58-9c98-06f9424c0a74",
   "metadata": {},
   "outputs": [],
   "source": [
    "s1.remove(34)"
   ]
  },
  {
   "cell_type": "code",
   "execution_count": 30,
   "id": "e97afdca-72d5-48fd-a038-8eb454b19ae7",
   "metadata": {},
   "outputs": [
    {
     "data": {
      "text/plain": [
       "{1, 2, 3, 4, 5, 6, 7, 'data', 'kalu', 'pwskills', 'ritik'}"
      ]
     },
     "execution_count": 30,
     "metadata": {},
     "output_type": "execute_result"
    }
   ],
   "source": [
    "s1"
   ]
  },
  {
   "cell_type": "code",
   "execution_count": 33,
   "id": "419cc5ad-0f3a-4b22-87cc-3294a26bc923",
   "metadata": {},
   "outputs": [],
   "source": [
    "s1.discard(7)"
   ]
  },
  {
   "cell_type": "code",
   "execution_count": 32,
   "id": "392563af-702b-4185-a62e-50b7289b5936",
   "metadata": {},
   "outputs": [
    {
     "data": {
      "text/plain": [
       "{1, 2, 3, 4, 5, 6, 'data', 'kalu', 'pwskills', 'ritik'}"
      ]
     },
     "execution_count": 32,
     "metadata": {},
     "output_type": "execute_result"
    }
   ],
   "source": [
    "s1"
   ]
  },
  {
   "cell_type": "code",
   "execution_count": 32,
   "id": "a61e3f5c-8566-4ee5-b526-e061101005cd",
   "metadata": {},
   "outputs": [
    {
     "data": {
      "text/plain": [
       "{1, 2, 3, 4, 5, 6, 'data', 'kalu', 'pwskills', 'ritik'}"
      ]
     },
     "execution_count": 32,
     "metadata": {},
     "output_type": "execute_result"
    }
   ],
   "source": [
    "s1"
   ]
  },
  {
   "cell_type": "code",
   "execution_count": 34,
   "id": "415d5ba5-8a12-4c66-9a41-5ecf17e1c9f4",
   "metadata": {},
   "outputs": [
    {
     "ename": "KeyError",
     "evalue": "100",
     "output_type": "error",
     "traceback": [
      "\u001b[0;31m---------------------------------------------------------------------------\u001b[0m",
      "\u001b[0;31mKeyError\u001b[0m                                  Traceback (most recent call last)",
      "Cell \u001b[0;32mIn[34], line 1\u001b[0m\n\u001b[0;32m----> 1\u001b[0m \u001b[43ms1\u001b[49m\u001b[38;5;241;43m.\u001b[39;49m\u001b[43mremove\u001b[49m\u001b[43m(\u001b[49m\u001b[38;5;241;43m100\u001b[39;49m\u001b[43m)\u001b[49m\n",
      "\u001b[0;31mKeyError\u001b[0m: 100"
     ]
    }
   ],
   "source": [
    "s1.remove(100)"
   ]
  },
  {
   "cell_type": "code",
   "execution_count": 35,
   "id": "41c9dd2b-416b-4992-b987-fefd9c9d61fd",
   "metadata": {},
   "outputs": [],
   "source": [
    "s1.discard(7)"
   ]
  },
  {
   "cell_type": "code",
   "execution_count": 36,
   "id": "1254e70a-8001-44d7-b81d-2e0b0337930b",
   "metadata": {},
   "outputs": [
    {
     "data": {
      "text/plain": [
       "{1, 2, 3, 4, 5, 6, 'data', 'kalu', 'pwskills', 'ritik'}"
      ]
     },
     "execution_count": 36,
     "metadata": {},
     "output_type": "execute_result"
    }
   ],
   "source": [
    "s1"
   ]
  },
  {
   "cell_type": "code",
   "execution_count": 37,
   "id": "794fe59b-82fe-401d-bd6a-2feb509f1af3",
   "metadata": {},
   "outputs": [],
   "source": [
    "s1.discard(100)"
   ]
  },
  {
   "cell_type": "code",
   "execution_count": 38,
   "id": "27156c29-0a7c-40d7-bd13-2883b829b919",
   "metadata": {},
   "outputs": [
    {
     "data": {
      "text/plain": [
       "{1, 2, 3, 4, 5, 6, 'data', 'kalu', 'pwskills', 'ritik'}"
      ]
     },
     "execution_count": 38,
     "metadata": {},
     "output_type": "execute_result"
    }
   ],
   "source": [
    "s1"
   ]
  },
  {
   "cell_type": "code",
   "execution_count": 39,
   "id": "ddd2a0f1-48d4-4fd8-ac04-3da3895000d1",
   "metadata": {},
   "outputs": [
    {
     "data": {
      "text/plain": [
       "1"
      ]
     },
     "execution_count": 39,
     "metadata": {},
     "output_type": "execute_result"
    }
   ],
   "source": [
    "s1.pop()"
   ]
  },
  {
   "cell_type": "code",
   "execution_count": 40,
   "id": "580ac659-64d3-4ba0-80d1-c5dbd6f92e02",
   "metadata": {},
   "outputs": [
    {
     "data": {
      "text/plain": [
       "2"
      ]
     },
     "execution_count": 40,
     "metadata": {},
     "output_type": "execute_result"
    }
   ],
   "source": [
    "s1.pop()"
   ]
  },
  {
   "cell_type": "code",
   "execution_count": 41,
   "id": "36d8121e-a240-4b8d-b795-4f8e012a991e",
   "metadata": {},
   "outputs": [
    {
     "data": {
      "text/plain": [
       "{3, 4, 5, 6, 'data', 'kalu', 'pwskills', 'ritik'}"
      ]
     },
     "execution_count": 41,
     "metadata": {},
     "output_type": "execute_result"
    }
   ],
   "source": [
    "s1"
   ]
  },
  {
   "cell_type": "code",
   "execution_count": 42,
   "id": "0ee1cb72-3a45-4b93-91ff-dfb79484b105",
   "metadata": {},
   "outputs": [
    {
     "data": {
      "text/plain": [
       "{3, 4, 5, 6, 'data', 'kalu', 'pwskills', 'ritik'}"
      ]
     },
     "execution_count": 42,
     "metadata": {},
     "output_type": "execute_result"
    }
   ],
   "source": [
    "s1"
   ]
  },
  {
   "cell_type": "code",
   "execution_count": 43,
   "id": "d703ece5-1a8d-47e9-bc52-595279854c6f",
   "metadata": {},
   "outputs": [
    {
     "ename": "TypeError",
     "evalue": "'set' object is not subscriptable",
     "output_type": "error",
     "traceback": [
      "\u001b[0;31m---------------------------------------------------------------------------\u001b[0m",
      "\u001b[0;31mTypeError\u001b[0m                                 Traceback (most recent call last)",
      "Cell \u001b[0;32mIn[43], line 1\u001b[0m\n\u001b[0;32m----> 1\u001b[0m \u001b[43ms1\u001b[49m\u001b[43m[\u001b[49m\u001b[38;5;241;43m0\u001b[39;49m\u001b[43m]\u001b[49m\n",
      "\u001b[0;31mTypeError\u001b[0m: 'set' object is not subscriptable"
     ]
    }
   ],
   "source": [
    "s1[0]"
   ]
  },
  {
   "cell_type": "code",
   "execution_count": 44,
   "id": "f3f4baea-cb7b-452a-bdfe-35096c814699",
   "metadata": {},
   "outputs": [],
   "source": [
    "#set arrange data in a random manner"
   ]
  },
  {
   "cell_type": "code",
   "execution_count": null,
   "id": "75d4e1b5-db07-42b6-8a53-dc690bf5ce46",
   "metadata": {},
   "outputs": [],
   "source": []
  }
 ],
 "metadata": {
  "kernelspec": {
   "display_name": "Python 3 (ipykernel)",
   "language": "python",
   "name": "python3"
  },
  "language_info": {
   "codemirror_mode": {
    "name": "ipython",
    "version": 3
   },
   "file_extension": ".py",
   "mimetype": "text/x-python",
   "name": "python",
   "nbconvert_exporter": "python",
   "pygments_lexer": "ipython3",
   "version": "3.10.8"
  }
 },
 "nbformat": 4,
 "nbformat_minor": 5
}

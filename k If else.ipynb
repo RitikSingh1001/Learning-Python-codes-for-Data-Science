{
 "cells": [
  {
   "cell_type": "code",
   "execution_count": 24,
   "id": "00d0b94c-766e-4e7b-b00e-fb7ab3150b4e",
   "metadata": {},
   "outputs": [],
   "source": [
    "a=1000"
   ]
  },
  {
   "cell_type": "code",
   "execution_count": 27,
   "id": "0aa18dc3-22df-4c29-8c55-d9f0bd07ea3e",
   "metadata": {},
   "outputs": [
    {
     "name": "stdout",
     "output_type": "stream",
     "text": [
      "if if is false then execute this \n"
     ]
    }
   ],
   "source": [
    "price = 400\n",
    "if price >500:\n",
    "    print(\"ok i will buy\")\n",
    "else:\n",
    "        print(\"if if is false then execute this \")"
   ]
  },
  {
   "cell_type": "code",
   "execution_count": 28,
   "id": "6b7c96e9-e171-41ff-8108-8f9fb4ace00e",
   "metadata": {},
   "outputs": [
    {
     "data": {
      "text/plain": [
       "True"
      ]
     },
     "execution_count": 28,
     "metadata": {},
     "output_type": "execute_result"
    }
   ],
   "source": [
    "price<=500"
   ]
  },
  {
   "cell_type": "code",
   "execution_count": 29,
   "id": "467e1da5-c332-4393-a9cd-9d7b8feb3fca",
   "metadata": {},
   "outputs": [
    {
     "data": {
      "text/plain": [
       "False"
      ]
     },
     "execution_count": 29,
     "metadata": {},
     "output_type": "execute_result"
    }
   ],
   "source": [
    "price>500"
   ]
  },
  {
   "cell_type": "code",
   "execution_count": 37,
   "id": "303dd27c-f600-44c0-9cd9-937663db5a21",
   "metadata": {},
   "outputs": [
    {
     "name": "stdin",
     "output_type": "stream",
     "text": [
      "enter the value for price 546\n"
     ]
    }
   ],
   "source": [
    "price=int(input('enter the value for price'))"
   ]
  },
  {
   "cell_type": "code",
   "execution_count": 38,
   "id": "ebc0f0b6-d90e-4189-8db7-fc3c475926fb",
   "metadata": {},
   "outputs": [
    {
     "data": {
      "text/plain": [
       "546"
      ]
     },
     "execution_count": 38,
     "metadata": {},
     "output_type": "execute_result"
    }
   ],
   "source": [
    "price"
   ]
  },
  {
   "cell_type": "code",
   "execution_count": 39,
   "id": "d38d7df7-e43d-479f-bc90-22fda05f2714",
   "metadata": {},
   "outputs": [
    {
     "data": {
      "text/plain": [
       "int"
      ]
     },
     "execution_count": 39,
     "metadata": {},
     "output_type": "execute_result"
    }
   ],
   "source": [
    "type(price)"
   ]
  },
  {
   "cell_type": "code",
   "execution_count": 40,
   "id": "1712cc4d-26e8-487f-ac62-4d1da725d5b9",
   "metadata": {},
   "outputs": [
    {
     "name": "stdin",
     "output_type": "stream",
     "text": [
      "enter price 1000\n"
     ]
    },
    {
     "name": "stdout",
     "output_type": "stream",
     "text": [
      "i wont but anything\n"
     ]
    }
   ],
   "source": [
    "price=int(input(\"enter price\"))\n",
    "if price<100:\n",
    "    print('i will buy the tshirt')\n",
    "else:\n",
    "    print(\"i wont but anything\")"
   ]
  },
  {
   "cell_type": "code",
   "execution_count": 43,
   "id": "b699dac1-8b9b-49f9-8a3d-675a8138e9d8",
   "metadata": {},
   "outputs": [
    {
     "name": "stdin",
     "output_type": "stream",
     "text": [
      "enter price 1000\n"
     ]
    },
    {
     "name": "stdout",
     "output_type": "stream",
     "text": [
      "i will buy the shirt\n"
     ]
    }
   ],
   "source": [
    "price=int(input(\"enter price\"))\n",
    "if price<100:\n",
    "    print('i will buy the tshirt')\n",
    "elif price >500:\n",
    "        print (\"i will buy the shirt\")\n",
    "else:\n",
    "    print(\"i wont but anything\")"
   ]
  },
  {
   "cell_type": "code",
   "execution_count": null,
   "id": "ea255362-1ca7-4b36-aa75-9ae7f3199f68",
   "metadata": {},
   "outputs": [],
   "source": [
    "price=int(input(\"enter price\"))\n",
    "if price<100:\n",
    "    print('i will buy the tshirt')\n",
    "elif price >500:\n",
    "        print (\"i will buy the shirt\")\n",
    "elif price >500:\n",
    "        print (\"i will buy the shirt\")\n",
    "else:\n",
    "    print(\"i wont but anything\")\n",
    "    \n",
    "    #We can write as many 'elif' but if wont work as a unit.\n",
    "    "
   ]
  },
  {
   "cell_type": "code",
   "execution_count": null,
   "id": "04d5e6e5-9632-47a0-97dc-47a0b33c6c45",
   "metadata": {},
   "outputs": [],
   "source": []
  }
 ],
 "metadata": {
  "kernelspec": {
   "display_name": "Python 3 (ipykernel)",
   "language": "python",
   "name": "python3"
  },
  "language_info": {
   "codemirror_mode": {
    "name": "ipython",
    "version": 3
   },
   "file_extension": ".py",
   "mimetype": "text/x-python",
   "name": "python",
   "nbconvert_exporter": "python",
   "pygments_lexer": "ipython3",
   "version": "3.10.8"
  }
 },
 "nbformat": 4,
 "nbformat_minor": 5
}

{
 "cells": [
  {
   "cell_type": "code",
   "execution_count": 1,
   "id": "1520845f-f096-4033-9c98-e87be42d6b37",
   "metadata": {},
   "outputs": [],
   "source": [
    "l  = [2,45,6789,True, 'ritik']"
   ]
  },
  {
   "cell_type": "code",
   "execution_count": 2,
   "id": "69625fdf-0101-49ba-bedd-42d080ed2d14",
   "metadata": {},
   "outputs": [
    {
     "data": {
      "text/plain": [
       "[2, 45, 6789, True, 'ritik']"
      ]
     },
     "execution_count": 2,
     "metadata": {},
     "output_type": "execute_result"
    }
   ],
   "source": [
    "l"
   ]
  },
  {
   "cell_type": "code",
   "execution_count": 3,
   "id": "c5cbcf98-c1c1-4fac-b79f-3d320492805c",
   "metadata": {},
   "outputs": [
    {
     "data": {
      "text/plain": [
       "list"
      ]
     },
     "execution_count": 3,
     "metadata": {},
     "output_type": "execute_result"
    }
   ],
   "source": [
    "type(l)"
   ]
  },
  {
   "cell_type": "code",
   "execution_count": 4,
   "id": "c2b6c20b-be17-49ca-baaa-a98398dadd64",
   "metadata": {},
   "outputs": [
    {
     "data": {
      "text/plain": [
       "[2, 45, 6789, True, 'ritik', 2, 45, 6789, True, 'ritik']"
      ]
     },
     "execution_count": 4,
     "metadata": {},
     "output_type": "execute_result"
    }
   ],
   "source": [
    "l*2"
   ]
  },
  {
   "cell_type": "code",
   "execution_count": 5,
   "id": "0307b4fc-9d3d-4339-8097-fcdafd10563f",
   "metadata": {},
   "outputs": [
    {
     "data": {
      "text/plain": [
       "[2,\n",
       " 45,\n",
       " 6789,\n",
       " True,\n",
       " 'ritik',\n",
       " 2,\n",
       " 45,\n",
       " 6789,\n",
       " True,\n",
       " 'ritik',\n",
       " 2,\n",
       " 45,\n",
       " 6789,\n",
       " True,\n",
       " 'ritik']"
      ]
     },
     "execution_count": 5,
     "metadata": {},
     "output_type": "execute_result"
    }
   ],
   "source": [
    "l*3"
   ]
  },
  {
   "cell_type": "code",
   "execution_count": 6,
   "id": "e0913286-e429-4a7d-8088-6f3a95084331",
   "metadata": {},
   "outputs": [],
   "source": [
    "s= 'ritik'"
   ]
  },
  {
   "cell_type": "code",
   "execution_count": 7,
   "id": "7c562dc1-a952-4df5-9b0b-a110bb86bc13",
   "metadata": {},
   "outputs": [
    {
     "data": {
      "text/plain": [
       "'ritikritikritik'"
      ]
     },
     "execution_count": 7,
     "metadata": {},
     "output_type": "execute_result"
    }
   ],
   "source": [
    "s*3"
   ]
  },
  {
   "cell_type": "code",
   "execution_count": 8,
   "id": "51d62e98-6b0d-48bf-8be1-d4da03164b42",
   "metadata": {},
   "outputs": [],
   "source": [
    "s= ' ritik '"
   ]
  },
  {
   "cell_type": "code",
   "execution_count": 9,
   "id": "814fffbe-0151-48a7-a6df-bf37134fa30a",
   "metadata": {},
   "outputs": [
    {
     "data": {
      "text/plain": [
       "' ritik  ritik  ritik '"
      ]
     },
     "execution_count": 9,
     "metadata": {},
     "output_type": "execute_result"
    }
   ],
   "source": [
    "s*3"
   ]
  },
  {
   "cell_type": "code",
   "execution_count": 10,
   "id": "81684977-28f6-4cd5-94db-635a9e85f4fc",
   "metadata": {},
   "outputs": [
    {
     "data": {
      "text/plain": [
       "[2, 45, 6789, True, 'ritik']"
      ]
     },
     "execution_count": 10,
     "metadata": {},
     "output_type": "execute_result"
    }
   ],
   "source": [
    "l"
   ]
  },
  {
   "cell_type": "code",
   "execution_count": 11,
   "id": "b0e28f02-4535-494e-9dcd-20af5f7a7ba2",
   "metadata": {},
   "outputs": [],
   "source": [
    "l1= [3,4,5,6]"
   ]
  },
  {
   "cell_type": "code",
   "execution_count": 12,
   "id": "a02b1de8-dbbe-4f8b-a297-5ede0d69a4b4",
   "metadata": {},
   "outputs": [
    {
     "data": {
      "text/plain": [
       "[2, 45, 6789, True, 'ritik', 3, 4, 5, 6]"
      ]
     },
     "execution_count": 12,
     "metadata": {},
     "output_type": "execute_result"
    }
   ],
   "source": [
    "l+l1"
   ]
  },
  {
   "cell_type": "code",
   "execution_count": 2,
   "id": "fdb4d6eb-75a3-40b7-868e-7491e9e88fe3",
   "metadata": {},
   "outputs": [],
   "source": [
    "l1=[2,4,6,7]"
   ]
  },
  {
   "cell_type": "code",
   "execution_count": 3,
   "id": "f8084744-fd0b-44e9-a067-1e3417a0e68a",
   "metadata": {},
   "outputs": [],
   "source": [
    "l=[2,'ritik',True]"
   ]
  },
  {
   "cell_type": "code",
   "execution_count": 4,
   "id": "a544909e-dcd3-47ed-a0df-2abdf1cd301d",
   "metadata": {},
   "outputs": [
    {
     "data": {
      "text/plain": [
       "[2, 4, 6, 7, 2, 'ritik', True]"
      ]
     },
     "execution_count": 4,
     "metadata": {},
     "output_type": "execute_result"
    }
   ],
   "source": [
    "l1+l"
   ]
  },
  {
   "cell_type": "code",
   "execution_count": 7,
   "id": "c1654d34-d13c-4622-bd76-e76c7907c2bb",
   "metadata": {},
   "outputs": [
    {
     "data": {
      "text/plain": [
       "[2, 'ritik', True, 2, 4, 6, 7]"
      ]
     },
     "execution_count": 7,
     "metadata": {},
     "output_type": "execute_result"
    }
   ],
   "source": [
    "l+l1"
   ]
  },
  {
   "cell_type": "code",
   "execution_count": 2,
   "id": "d05bb28f-3460-43fe-bd01-03df5b8440e6",
   "metadata": {},
   "outputs": [],
   "source": [
    "l=[2,'ritik',True]"
   ]
  },
  {
   "cell_type": "code",
   "execution_count": null,
   "id": "6183f4e9-8b53-45c8-bd61-3452393dca03",
   "metadata": {},
   "outputs": [],
   "source": []
  },
  {
   "cell_type": "code",
   "execution_count": 3,
   "id": "bc2a040e-826c-4143-8670-cecb795a1dcf",
   "metadata": {},
   "outputs": [
    {
     "ename": "TypeError",
     "evalue": "can only concatenate list (not \"int\") to list",
     "output_type": "error",
     "traceback": [
      "\u001b[0;31m---------------------------------------------------------------------------\u001b[0m",
      "\u001b[0;31mTypeError\u001b[0m                                 Traceback (most recent call last)",
      "Cell \u001b[0;32mIn[3], line 1\u001b[0m\n\u001b[0;32m----> 1\u001b[0m \u001b[43ml\u001b[49m\u001b[38;5;241;43m+\u001b[39;49m\u001b[38;5;241;43m1\u001b[39;49m\n",
      "\u001b[0;31mTypeError\u001b[0m: can only concatenate list (not \"int\") to list"
     ]
    }
   ],
   "source": [
    "l+1"
   ]
  },
  {
   "cell_type": "code",
   "execution_count": 4,
   "id": "9dc017ca-8127-4740-b9a2-baa4627ff6d1",
   "metadata": {},
   "outputs": [
    {
     "ename": "TypeError",
     "evalue": "unsupported operand type(s) for +: 'int' and 'str'",
     "output_type": "error",
     "traceback": [
      "\u001b[0;31m---------------------------------------------------------------------------\u001b[0m",
      "\u001b[0;31mTypeError\u001b[0m                                 Traceback (most recent call last)",
      "Cell \u001b[0;32mIn[4], line 1\u001b[0m\n\u001b[0;32m----> 1\u001b[0m \u001b[38;5;241;43m1\u001b[39;49m\u001b[38;5;241;43m+\u001b[39;49m\u001b[38;5;124;43m'\u001b[39;49m\u001b[38;5;124;43mritik\u001b[39;49m\u001b[38;5;124;43m'\u001b[39;49m\n",
      "\u001b[0;31mTypeError\u001b[0m: unsupported operand type(s) for +: 'int' and 'str'"
     ]
    }
   ],
   "source": [
    "1+'ritik'"
   ]
  },
  {
   "cell_type": "code",
   "execution_count": 5,
   "id": "57be5373-202a-417c-aa8b-8d94c9fd6a7c",
   "metadata": {},
   "outputs": [
    {
     "data": {
      "text/plain": [
       "3"
      ]
     },
     "execution_count": 5,
     "metadata": {},
     "output_type": "execute_result"
    }
   ],
   "source": [
    "len(l)"
   ]
  },
  {
   "cell_type": "code",
   "execution_count": 6,
   "id": "c92a9649-193b-418d-a381-7495c5a17a6c",
   "metadata": {},
   "outputs": [],
   "source": [
    "a='ritik  '"
   ]
  },
  {
   "cell_type": "code",
   "execution_count": 7,
   "id": "91d166d0-b50b-4157-87eb-81fbbb085e30",
   "metadata": {},
   "outputs": [
    {
     "data": {
      "text/plain": [
       "7"
      ]
     },
     "execution_count": 7,
     "metadata": {},
     "output_type": "execute_result"
    }
   ],
   "source": [
    "len(a)"
   ]
  },
  {
   "cell_type": "code",
   "execution_count": 1,
   "id": "ff2634f3-36fb-4cc7-b882-13dee15026d4",
   "metadata": {},
   "outputs": [],
   "source": [
    "d= 'asdfghjkl   qwertyuiop'"
   ]
  },
  {
   "cell_type": "code",
   "execution_count": 2,
   "id": "8cc16c79-f673-4439-bd54-702854af2094",
   "metadata": {},
   "outputs": [
    {
     "data": {
      "text/plain": [
       "22"
      ]
     },
     "execution_count": 2,
     "metadata": {},
     "output_type": "execute_result"
    }
   ],
   "source": [
    "len(d)"
   ]
  },
  {
   "cell_type": "code",
   "execution_count": 3,
   "id": "20ad233d-68c4-43d8-bb33-248d6be69568",
   "metadata": {},
   "outputs": [],
   "source": [
    "l=[3,4,5,34,56,'ritik', True]"
   ]
  },
  {
   "cell_type": "code",
   "execution_count": 4,
   "id": "b57ab0f1-ccba-4281-9692-395701b1d74b",
   "metadata": {},
   "outputs": [
    {
     "data": {
      "text/plain": [
       "[3, 4, 5, 34, 56, 'ritik', True]"
      ]
     },
     "execution_count": 4,
     "metadata": {},
     "output_type": "execute_result"
    }
   ],
   "source": [
    "l"
   ]
  },
  {
   "cell_type": "code",
   "execution_count": 5,
   "id": "b41227fe-cc0a-4e00-b50c-dd797dbd0291",
   "metadata": {},
   "outputs": [
    {
     "data": {
      "text/plain": [
       "True"
      ]
     },
     "execution_count": 5,
     "metadata": {},
     "output_type": "execute_result"
    }
   ],
   "source": [
    "'ritik' in l"
   ]
  },
  {
   "cell_type": "code",
   "execution_count": 6,
   "id": "170efdc5-e780-47fe-9150-991f91b0955e",
   "metadata": {},
   "outputs": [
    {
     "data": {
      "text/plain": [
       "False"
      ]
     },
     "execution_count": 6,
     "metadata": {},
     "output_type": "execute_result"
    }
   ],
   "source": [
    "1000 in l"
   ]
  },
  {
   "cell_type": "code",
   "execution_count": 8,
   "id": "a7fa5c43-2897-4fca-a752-08f58241f5ac",
   "metadata": {},
   "outputs": [],
   "source": [
    "l1= [3,4,5,6]"
   ]
  },
  {
   "cell_type": "code",
   "execution_count": null,
   "id": "9181b6b4-653e-4eb8-a9c6-57a2d8ff69fd",
   "metadata": {},
   "outputs": [],
   "source": []
  },
  {
   "cell_type": "code",
   "execution_count": 9,
   "id": "5b44577e-ab02-409c-8b90-46f15251a2e2",
   "metadata": {},
   "outputs": [
    {
     "data": {
      "text/plain": [
       "[3, 4, 5, 6]"
      ]
     },
     "execution_count": 9,
     "metadata": {},
     "output_type": "execute_result"
    }
   ],
   "source": [
    "l1"
   ]
  },
  {
   "cell_type": "code",
   "execution_count": 10,
   "id": "cdc54e20-81e4-4d79-bdb3-66f8b0ef0be0",
   "metadata": {},
   "outputs": [
    {
     "data": {
      "text/plain": [
       "6"
      ]
     },
     "execution_count": 10,
     "metadata": {},
     "output_type": "execute_result"
    }
   ],
   "source": [
    "max(l1)"
   ]
  },
  {
   "cell_type": "code",
   "execution_count": 11,
   "id": "2b4cca8e-4b01-46bc-81a9-bbb2b203097b",
   "metadata": {},
   "outputs": [
    {
     "ename": "TypeError",
     "evalue": "'>' not supported between instances of 'str' and 'int'",
     "output_type": "error",
     "traceback": [
      "\u001b[0;31m---------------------------------------------------------------------------\u001b[0m",
      "\u001b[0;31mTypeError\u001b[0m                                 Traceback (most recent call last)",
      "Cell \u001b[0;32mIn[11], line 1\u001b[0m\n\u001b[0;32m----> 1\u001b[0m \u001b[38;5;28;43mmax\u001b[39;49m\u001b[43m(\u001b[49m\u001b[43ml\u001b[49m\u001b[43m)\u001b[49m\n",
      "\u001b[0;31mTypeError\u001b[0m: '>' not supported between instances of 'str' and 'int'"
     ]
    }
   ],
   "source": [
    "max(l)"
   ]
  },
  {
   "cell_type": "code",
   "execution_count": 12,
   "id": "e3cf9582-aaac-426b-82d4-1e8336f91d72",
   "metadata": {},
   "outputs": [],
   "source": [
    "l2=['ritik', \"audh\", \"abc\", \"zrt\"]"
   ]
  },
  {
   "cell_type": "code",
   "execution_count": 13,
   "id": "09cec377-8850-4e87-83a0-73f2d5c74c3a",
   "metadata": {},
   "outputs": [
    {
     "data": {
      "text/plain": [
       "['ritik', 'audh', 'abc', 'zrt']"
      ]
     },
     "execution_count": 13,
     "metadata": {},
     "output_type": "execute_result"
    }
   ],
   "source": [
    "l2"
   ]
  },
  {
   "cell_type": "code",
   "execution_count": 14,
   "id": "65918c18-3b12-4976-aeb4-dce011e0981b",
   "metadata": {},
   "outputs": [
    {
     "data": {
      "text/plain": [
       "'zrt'"
      ]
     },
     "execution_count": 14,
     "metadata": {},
     "output_type": "execute_result"
    }
   ],
   "source": [
    "max(l2)"
   ]
  },
  {
   "cell_type": "code",
   "execution_count": 15,
   "id": "4ba9996f-cba1-4d4b-8ede-b6824d9ccd22",
   "metadata": {},
   "outputs": [
    {
     "data": {
      "text/plain": [
       "'abc'"
      ]
     },
     "execution_count": 15,
     "metadata": {},
     "output_type": "execute_result"
    }
   ],
   "source": [
    "min(l2)"
   ]
  },
  {
   "cell_type": "code",
   "execution_count": 16,
   "id": "4513532c-1770-4840-bb26-b888f8b4524e",
   "metadata": {},
   "outputs": [],
   "source": [
    "l3=[ True, False]"
   ]
  },
  {
   "cell_type": "code",
   "execution_count": 17,
   "id": "ffcd2a5d-d95c-46ae-89cd-89a54037bba9",
   "metadata": {},
   "outputs": [
    {
     "data": {
      "text/plain": [
       "True"
      ]
     },
     "execution_count": 17,
     "metadata": {},
     "output_type": "execute_result"
    }
   ],
   "source": [
    "max(l3)"
   ]
  },
  {
   "cell_type": "code",
   "execution_count": 18,
   "id": "9881d8f2-f8ec-44f7-9c3c-af1f68a7dec3",
   "metadata": {},
   "outputs": [
    {
     "data": {
      "text/plain": [
       "False"
      ]
     },
     "execution_count": 18,
     "metadata": {},
     "output_type": "execute_result"
    }
   ],
   "source": [
    "min(l3)"
   ]
  },
  {
   "cell_type": "code",
   "execution_count": 19,
   "id": "68dfd9b3-caee-4279-894b-86f7156683a9",
   "metadata": {},
   "outputs": [
    {
     "data": {
      "text/plain": [
       "['ritik', 'audh', 'abc', 'zrt']"
      ]
     },
     "execution_count": 19,
     "metadata": {},
     "output_type": "execute_result"
    }
   ],
   "source": [
    "l2"
   ]
  },
  {
   "cell_type": "code",
   "execution_count": 20,
   "id": "0a76e740-5d04-416c-96e6-0eb1ad92bffa",
   "metadata": {},
   "outputs": [],
   "source": [
    "l2.append(45)"
   ]
  },
  {
   "cell_type": "code",
   "execution_count": 21,
   "id": "217bbac3-1423-454d-be54-10b054dcb264",
   "metadata": {},
   "outputs": [
    {
     "data": {
      "text/plain": [
       "['ritik', 'audh', 'abc', 'zrt', 45]"
      ]
     },
     "execution_count": 21,
     "metadata": {},
     "output_type": "execute_result"
    }
   ],
   "source": [
    "l2"
   ]
  },
  {
   "cell_type": "code",
   "execution_count": 23,
   "id": "f8fac064-4cf7-469f-b005-5d3f18a53e4a",
   "metadata": {},
   "outputs": [],
   "source": [
    "l2.append('pwskills')\n"
   ]
  },
  {
   "cell_type": "code",
   "execution_count": 24,
   "id": "e60d36ab-4f3a-47a5-abbf-478a01a3c7b2",
   "metadata": {},
   "outputs": [
    {
     "data": {
      "text/plain": [
       "['ritik', 'audh', 'abc', 'zrt', 45, 'pwskills']"
      ]
     },
     "execution_count": 24,
     "metadata": {},
     "output_type": "execute_result"
    }
   ],
   "source": [
    "l2"
   ]
  },
  {
   "cell_type": "code",
   "execution_count": 25,
   "id": "98e5fc5f-cc48-40ba-88ff-031070f2b7d8",
   "metadata": {},
   "outputs": [],
   "source": [
    "l2.insert(1, 353)"
   ]
  },
  {
   "cell_type": "code",
   "execution_count": 26,
   "id": "e40ec11f-4c0a-4b43-8ae4-e75b72160d53",
   "metadata": {},
   "outputs": [
    {
     "data": {
      "text/plain": [
       "['ritik', 353, 'audh', 'abc', 'zrt', 45, 'pwskills']"
      ]
     },
     "execution_count": 26,
     "metadata": {},
     "output_type": "execute_result"
    }
   ],
   "source": [
    "l2"
   ]
  },
  {
   "cell_type": "code",
   "execution_count": 27,
   "id": "0cfe5958-cf75-4bf4-ac42-a49bf3af1da6",
   "metadata": {},
   "outputs": [],
   "source": [
    "l2.insert(4,678)"
   ]
  },
  {
   "cell_type": "code",
   "execution_count": 28,
   "id": "494a8fb5-1526-4c05-b2f7-4736763a0233",
   "metadata": {},
   "outputs": [
    {
     "data": {
      "text/plain": [
       "['ritik', 353, 'audh', 'abc', 678, 'zrt', 45, 'pwskills']"
      ]
     },
     "execution_count": 28,
     "metadata": {},
     "output_type": "execute_result"
    }
   ],
   "source": [
    "l2"
   ]
  },
  {
   "cell_type": "code",
   "execution_count": 29,
   "id": "104a5d88-2b33-47b6-bf4e-94c10780b645",
   "metadata": {},
   "outputs": [],
   "source": [
    "l2.insert(0,2423)"
   ]
  },
  {
   "cell_type": "code",
   "execution_count": 30,
   "id": "45a1197b-bcea-4083-bae1-ada6b06c1ba2",
   "metadata": {},
   "outputs": [
    {
     "data": {
      "text/plain": [
       "[2423, 'ritik', 353, 'audh', 'abc', 678, 'zrt', 45, 'pwskills']"
      ]
     },
     "execution_count": 30,
     "metadata": {},
     "output_type": "execute_result"
    }
   ],
   "source": [
    "l2"
   ]
  },
  {
   "cell_type": "code",
   "execution_count": 31,
   "id": "43b3e48d-3bf8-46a4-ac42-95dfec3959ce",
   "metadata": {},
   "outputs": [
    {
     "data": {
      "text/plain": [
       "'pwskills'"
      ]
     },
     "execution_count": 31,
     "metadata": {},
     "output_type": "execute_result"
    }
   ],
   "source": [
    "l2.pop()"
   ]
  },
  {
   "cell_type": "code",
   "execution_count": 32,
   "id": "3a8d7029-08b1-41f7-bb5e-1a438e2aa984",
   "metadata": {},
   "outputs": [
    {
     "data": {
      "text/plain": [
       "[2423, 'ritik', 353, 'audh', 'abc', 678, 'zrt', 45]"
      ]
     },
     "execution_count": 32,
     "metadata": {},
     "output_type": "execute_result"
    }
   ],
   "source": [
    "l2"
   ]
  },
  {
   "cell_type": "code",
   "execution_count": 33,
   "id": "30c0675b-d4d6-488f-9584-db770d6a5ea5",
   "metadata": {},
   "outputs": [
    {
     "data": {
      "text/plain": [
       "353"
      ]
     },
     "execution_count": 33,
     "metadata": {},
     "output_type": "execute_result"
    }
   ],
   "source": [
    "l2.pop(2)"
   ]
  },
  {
   "cell_type": "code",
   "execution_count": 34,
   "id": "f8f8b043-6d0a-4210-a16c-5220cf3274d7",
   "metadata": {},
   "outputs": [
    {
     "data": {
      "text/plain": [
       "[2423, 'ritik', 'audh', 'abc', 678, 'zrt', 45]"
      ]
     },
     "execution_count": 34,
     "metadata": {},
     "output_type": "execute_result"
    }
   ],
   "source": [
    "l2"
   ]
  },
  {
   "cell_type": "code",
   "execution_count": 35,
   "id": "b1d4335a-2c6a-4c3d-aefd-b40458afd61e",
   "metadata": {},
   "outputs": [
    {
     "data": {
      "text/plain": [
       "[2423, 'ritik', 'audh', 'abc', 678, 'zrt', 45]"
      ]
     },
     "execution_count": 35,
     "metadata": {},
     "output_type": "execute_result"
    }
   ],
   "source": [
    "l2"
   ]
  },
  {
   "cell_type": "code",
   "execution_count": 36,
   "id": "55c31b1d-19f4-4a8d-afb3-b4fa1b705e17",
   "metadata": {},
   "outputs": [
    {
     "data": {
      "text/plain": [
       "[45, 'zrt', 678, 'abc', 'audh', 'ritik', 2423]"
      ]
     },
     "execution_count": 36,
     "metadata": {},
     "output_type": "execute_result"
    }
   ],
   "source": [
    "l2[::-1]"
   ]
  },
  {
   "cell_type": "code",
   "execution_count": 42,
   "id": "ab60fcd0-7172-4895-b7b0-37c2dbb20608",
   "metadata": {},
   "outputs": [],
   "source": [
    "l2.reverse()"
   ]
  },
  {
   "cell_type": "code",
   "execution_count": 43,
   "id": "d1d7d379-c9b8-4b77-9f98-034fdae08586",
   "metadata": {},
   "outputs": [
    {
     "data": {
      "text/plain": [
       "[45, 'zrt', 678, 'abc', 'audh', 'ritik', 2423]"
      ]
     },
     "execution_count": 43,
     "metadata": {},
     "output_type": "execute_result"
    }
   ],
   "source": [
    "l2\n"
   ]
  },
  {
   "cell_type": "code",
   "execution_count": 45,
   "id": "455c2735-11f0-465d-aa12-d77ebadcec2d",
   "metadata": {},
   "outputs": [],
   "source": [
    "l1.sort()"
   ]
  },
  {
   "cell_type": "code",
   "execution_count": 46,
   "id": "4e48b7d9-e291-4c63-be46-3ba1a0d13617",
   "metadata": {},
   "outputs": [
    {
     "data": {
      "text/plain": [
       "[3, 4, 5, 6]"
      ]
     },
     "execution_count": 46,
     "metadata": {},
     "output_type": "execute_result"
    }
   ],
   "source": [
    "l1"
   ]
  },
  {
   "cell_type": "code",
   "execution_count": 47,
   "id": "d23130f1-629e-47d7-8fe8-fea6f58d4792",
   "metadata": {},
   "outputs": [],
   "source": [
    "l4=[2,5,4,8,0]"
   ]
  },
  {
   "cell_type": "code",
   "execution_count": 48,
   "id": "ceea052d-10d9-4b56-8c6b-e695e769b940",
   "metadata": {},
   "outputs": [],
   "source": [
    "l4.sort()"
   ]
  },
  {
   "cell_type": "code",
   "execution_count": 49,
   "id": "50f5dfaa-e962-4c4f-9f82-7301b88c7326",
   "metadata": {},
   "outputs": [
    {
     "data": {
      "text/plain": [
       "[0, 2, 4, 5, 8]"
      ]
     },
     "execution_count": 49,
     "metadata": {},
     "output_type": "execute_result"
    }
   ],
   "source": [
    "l4"
   ]
  },
  {
   "cell_type": "code",
   "execution_count": 50,
   "id": "3191b917-8beb-403c-ac47-57461e5ec90d",
   "metadata": {},
   "outputs": [],
   "source": [
    "l5=['pwskills','collegewallah','ritik','python']"
   ]
  },
  {
   "cell_type": "code",
   "execution_count": 51,
   "id": "afdc831d-12fb-427e-a306-a8e8832fcd5b",
   "metadata": {},
   "outputs": [],
   "source": [
    "l5.sort()"
   ]
  },
  {
   "cell_type": "code",
   "execution_count": 52,
   "id": "339068bd-d961-49ad-ab99-78bcc5df7fe7",
   "metadata": {},
   "outputs": [
    {
     "data": {
      "text/plain": [
       "['collegewallah', 'pwskills', 'python', 'ritik']"
      ]
     },
     "execution_count": 52,
     "metadata": {},
     "output_type": "execute_result"
    }
   ],
   "source": [
    "l5"
   ]
  },
  {
   "cell_type": "code",
   "execution_count": 53,
   "id": "d921e289-83cb-4d37-9667-30179da00bb0",
   "metadata": {},
   "outputs": [],
   "source": [
    "l5.sort(reverse=True)"
   ]
  },
  {
   "cell_type": "code",
   "execution_count": 55,
   "id": "dd8daee7-65be-4f97-aca5-713a0f64980f",
   "metadata": {},
   "outputs": [
    {
     "data": {
      "text/plain": [
       "['ritik', 'python', 'pwskills', 'collegewallah']"
      ]
     },
     "execution_count": 55,
     "metadata": {},
     "output_type": "execute_result"
    }
   ],
   "source": [
    "l5\n"
   ]
  },
  {
   "cell_type": "code",
   "execution_count": 56,
   "id": "b9f3961d-a2cf-411c-bac5-0d74edd1b86e",
   "metadata": {},
   "outputs": [],
   "source": [
    "l4.sort(reverse=False)"
   ]
  },
  {
   "cell_type": "code",
   "execution_count": 57,
   "id": "312a5ddc-e468-43c3-92c9-9acd08ad7b31",
   "metadata": {},
   "outputs": [
    {
     "data": {
      "text/plain": [
       "[0, 2, 4, 5, 8]"
      ]
     },
     "execution_count": 57,
     "metadata": {},
     "output_type": "execute_result"
    }
   ],
   "source": [
    "l4\n"
   ]
  },
  {
   "cell_type": "code",
   "execution_count": 58,
   "id": "c7bb2925-22c4-489b-86a8-34340e89569a",
   "metadata": {},
   "outputs": [
    {
     "data": {
      "text/plain": [
       "[[3, 4, 5, 6],\n",
       " [45, 'zrt', 678, 'abc', 'audh', 'ritik', 2423],\n",
       " [True, False],\n",
       " [0, 2, 4, 5, 8]]"
      ]
     },
     "execution_count": 58,
     "metadata": {},
     "output_type": "execute_result"
    }
   ],
   "source": [
    "[l1,l2,l3,l4]\n"
   ]
  },
  {
   "cell_type": "code",
   "execution_count": 62,
   "id": "b88b48f1-fa89-42e0-af0b-8ac6eb836014",
   "metadata": {},
   "outputs": [],
   "source": [
    "l6=[l1,l2]"
   ]
  },
  {
   "cell_type": "code",
   "execution_count": 64,
   "id": "e8def52f-ec43-40e5-a62a-89b6bb56575e",
   "metadata": {},
   "outputs": [
    {
     "data": {
      "text/plain": [
       "2"
      ]
     },
     "execution_count": 64,
     "metadata": {},
     "output_type": "execute_result"
    }
   ],
   "source": [
    "len(l6)"
   ]
  },
  {
   "cell_type": "code",
   "execution_count": 65,
   "id": "85eb3905-e7e3-4794-b8b8-4317753077e7",
   "metadata": {},
   "outputs": [],
   "source": [
    "l6=[l1,l2,l3,'ritik', 56,76,98,True,5+6j]\n"
   ]
  },
  {
   "cell_type": "code",
   "execution_count": 66,
   "id": "ed15cea7-c426-4828-a871-7d1e8afaa42a",
   "metadata": {},
   "outputs": [
    {
     "data": {
      "text/plain": [
       "[[3, 4, 5, 6],\n",
       " [45, 'zrt', 678, 'abc', 'audh', 'ritik', 2423],\n",
       " [True, False],\n",
       " 'ritik',\n",
       " 56,\n",
       " 76,\n",
       " 98,\n",
       " True,\n",
       " (5+6j)]"
      ]
     },
     "execution_count": 66,
     "metadata": {},
     "output_type": "execute_result"
    }
   ],
   "source": [
    "l6"
   ]
  },
  {
   "cell_type": "code",
   "execution_count": 68,
   "id": "9b4392e9-6e97-4aa9-bd4e-6e3285fc5ddf",
   "metadata": {},
   "outputs": [
    {
     "data": {
      "text/plain": [
       "678"
      ]
     },
     "execution_count": 68,
     "metadata": {},
     "output_type": "execute_result"
    }
   ],
   "source": [
    "l6[1][2]\n",
    "    "
   ]
  },
  {
   "cell_type": "code",
   "execution_count": 69,
   "id": "009db848-a947-4b1f-9aab-5ae900914c57",
   "metadata": {},
   "outputs": [
    {
     "data": {
      "text/plain": [
       "'ritik'"
      ]
     },
     "execution_count": 69,
     "metadata": {},
     "output_type": "execute_result"
    }
   ],
   "source": [
    "l6[3]"
   ]
  },
  {
   "cell_type": "code",
   "execution_count": 70,
   "id": "f22600aa-6bc2-4aba-8b26-d5aa3c03a38c",
   "metadata": {},
   "outputs": [
    {
     "data": {
      "text/plain": [
       "'ritik'"
      ]
     },
     "execution_count": 70,
     "metadata": {},
     "output_type": "execute_result"
    }
   ],
   "source": [
    "l6[1][5]"
   ]
  },
  {
   "cell_type": "code",
   "execution_count": 71,
   "id": "6daa9e1c-d3c2-4d87-af94-2c706f6682c9",
   "metadata": {},
   "outputs": [
    {
     "data": {
      "text/plain": [
       "'t'"
      ]
     },
     "execution_count": 71,
     "metadata": {},
     "output_type": "execute_result"
    }
   ],
   "source": [
    "l6[3][2]"
   ]
  },
  {
   "cell_type": "code",
   "execution_count": null,
   "id": "08e5921e-844f-4626-87dc-cde4d9d2c9a3",
   "metadata": {},
   "outputs": [],
   "source": []
  }
 ],
 "metadata": {
  "kernelspec": {
   "display_name": "Python 3 (ipykernel)",
   "language": "python",
   "name": "python3"
  },
  "language_info": {
   "codemirror_mode": {
    "name": "ipython",
    "version": 3
   },
   "file_extension": ".py",
   "mimetype": "text/x-python",
   "name": "python",
   "nbconvert_exporter": "python",
   "pygments_lexer": "ipython3",
   "version": "3.10.8"
  }
 },
 "nbformat": 4,
 "nbformat_minor": 5
}

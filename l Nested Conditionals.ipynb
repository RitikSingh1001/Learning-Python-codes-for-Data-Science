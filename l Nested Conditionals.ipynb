{
 "cells": [
  {
   "cell_type": "code",
   "execution_count": 5,
   "id": "e1fe9f3b-aa20-448b-8c2e-efdde427f11f",
   "metadata": {},
   "outputs": [
    {
     "name": "stdin",
     "output_type": "stream",
     "text": [
      "enter a number 54\n"
     ]
    }
   ],
   "source": [
    "a=int(input('enter a number'))"
   ]
  },
  {
   "cell_type": "code",
   "execution_count": 3,
   "id": "31754ab4-0740-4152-ac58-20b811710df5",
   "metadata": {},
   "outputs": [
    {
     "data": {
      "text/plain": [
       "'54'"
      ]
     },
     "execution_count": 3,
     "metadata": {},
     "output_type": "execute_result"
    }
   ],
   "source": [
    "a"
   ]
  },
  {
   "cell_type": "code",
   "execution_count": 6,
   "id": "0059cfe6-911d-45d5-9e78-22bf5a3f18b8",
   "metadata": {},
   "outputs": [
    {
     "data": {
      "text/plain": [
       "int"
      ]
     },
     "execution_count": 6,
     "metadata": {},
     "output_type": "execute_result"
    }
   ],
   "source": [
    "type(a)"
   ]
  },
  {
   "cell_type": "code",
   "execution_count": 13,
   "id": "1cbae753-17b9-4209-a7a5-ff4cfdc8e86a",
   "metadata": {},
   "outputs": [
    {
     "name": "stdin",
     "output_type": "stream",
     "text": [
      "enter a number 65\n"
     ]
    },
    {
     "name": "stdout",
     "output_type": "stream",
     "text": [
      "this number was positive\n"
     ]
    }
   ],
   "source": [
    "a=int(input(\"enter a number\"))\n",
    "if a>0:\n",
    "    print('this number was positive')\n",
    "elif a<0:\n",
    "        print (\"this number was a negative number\")\n",
    "else:\n",
    "            print(\"number is zero\")"
   ]
  },
  {
   "cell_type": "code",
   "execution_count": 28,
   "id": "9979b6b9-3cd6-4848-93c8-66adbbe068f4",
   "metadata": {},
   "outputs": [
    {
     "name": "stdin",
     "output_type": "stream",
     "text": [
      "enter a number to check its even or odd 0\n"
     ]
    },
    {
     "name": "stdout",
     "output_type": "stream",
     "text": [
      "the input number is zero \n"
     ]
    }
   ],
   "source": [
    "n=int(input(\"enter a number to check its even or odd\"))\n",
    "if n % 2==0:\n",
    "    if n==0:\n",
    "        print (\"the input number is zero \")\n",
    "    else :\n",
    "        print(\"number is even\")\n",
    "else:\n",
    "        print(\"the number is odd\")"
   ]
  },
  {
   "cell_type": "code",
   "execution_count": 32,
   "id": "048c98bd-f779-45f0-bbd4-8040aa7cdb92",
   "metadata": {},
   "outputs": [
    {
     "name": "stdin",
     "output_type": "stream",
     "text": [
      "enter your age 20\n",
      "are you a citizen m\n",
      "do you have a voter id card no\n"
     ]
    },
    {
     "name": "stdout",
     "output_type": "stream",
     "text": [
      "as you are not a citizen you are not allowed to cast your  vote\n"
     ]
    }
   ],
   "source": [
    "age=int(input(\"enter your age\"))\n",
    "citizen=input(\"are you a citizen\")\n",
    "voter_id=input('do you have a voter id card')\n",
    "\n",
    "if age >18:\n",
    "    if citizen==\"yes\":\n",
    "        print(\"yes you are a citizen\")\n",
    "    else:\n",
    "        print(\"as you are not a citizen you are not allowed to cast your  vote\")\n",
    "        if voter_id==\"yes\":\n",
    "            print(\"yes you can give vote\")\n",
    "else :\n",
    "                print(\"no you cant give a vote\")"
   ]
  },
  {
   "cell_type": "code",
   "execution_count": null,
   "id": "35d721cb-86d6-400c-b12c-b5c5a99fbccb",
   "metadata": {},
   "outputs": [],
   "source": []
  }
 ],
 "metadata": {
  "kernelspec": {
   "display_name": "Python 3 (ipykernel)",
   "language": "python",
   "name": "python3"
  },
  "language_info": {
   "codemirror_mode": {
    "name": "ipython",
    "version": 3
   },
   "file_extension": ".py",
   "mimetype": "text/x-python",
   "name": "python",
   "nbconvert_exporter": "python",
   "pygments_lexer": "ipython3",
   "version": "3.10.8"
  }
 },
 "nbformat": 4,
 "nbformat_minor": 5
}

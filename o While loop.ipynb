{
 "cells": [
  {
   "cell_type": "code",
   "execution_count": 1,
   "id": "87f5644b-f2e0-4d94-b5fa-212729306120",
   "metadata": {},
   "outputs": [
    {
     "name": "stdout",
     "output_type": "stream",
     "text": [
      "1\n",
      "2\n",
      "3\n",
      "4\n",
      "5\n"
     ]
    }
   ],
   "source": [
    "n=5\n",
    "i=1\n",
    "\n",
    "while i <=5:\n",
    "    print(i)\n",
    "    i=i+1"
   ]
  },
  {
   "cell_type": "code",
   "execution_count": 3,
   "id": "51dca06b-db79-4736-98b1-3f000d430092",
   "metadata": {},
   "outputs": [
    {
     "name": "stdout",
     "output_type": "stream",
     "text": [
      "1\n",
      "2\n",
      "3\n",
      "4\n",
      "5\n",
      "this will be executed once while will compllete successfully.\n"
     ]
    }
   ],
   "source": [
    "n=5\n",
    "i=1\n",
    "\n",
    "while i<=5:\n",
    "    print(i)\n",
    "    i=i+1\n",
    "else:\n",
    "    print('this will be executed once while will compllete successfully.')"
   ]
  },
  {
   "cell_type": "code",
   "execution_count": 5,
   "id": "d4aeae60-ed44-4ed5-a8f9-e4d710fc551e",
   "metadata": {},
   "outputs": [
    {
     "name": "stdout",
     "output_type": "stream",
     "text": [
      "1\n",
      "2\n",
      "3\n"
     ]
    }
   ],
   "source": [
    "n=5\n",
    "i=1\n",
    "\n",
    "while i<=5:\n",
    "    print(i)\n",
    "    if i==3:\n",
    "            break\n",
    "    i=i+1\n",
    "else:\n",
    "    print('this will be executed once while will compllete successfully.')"
   ]
  },
  {
   "cell_type": "code",
   "execution_count": 6,
   "id": "3082615c-322d-4117-887c-1770ad2853b6",
   "metadata": {},
   "outputs": [
    {
     "name": "stdout",
     "output_type": "stream",
     "text": [
      "1275\n"
     ]
    }
   ],
   "source": [
    "s=0\n",
    "i=1\n",
    "while i<=50:\n",
    "    s=s+i\n",
    "    i=i+1\n",
    "print(s)"
   ]
  },
  {
   "cell_type": "code",
   "execution_count": 9,
   "id": "2ba5f5f4-1527-412d-aef6-d55b65040f92",
   "metadata": {},
   "outputs": [
    {
     "name": "stdout",
     "output_type": "stream",
     "text": [
      "650\n"
     ]
    }
   ],
   "source": [
    "s=0\n",
    "i=1\n",
    "while i<=50:\n",
    "    if i%2==0:  \n",
    "        s=s+i\n",
    "    i=i+1\n",
    "print(s)"
   ]
  },
  {
   "cell_type": "code",
   "execution_count": 12,
   "id": "78999319-dfdb-4544-ad14-f2636da05522",
   "metadata": {},
   "outputs": [
    {
     "name": "stdin",
     "output_type": "stream",
     "text": [
      "enter a number to finding out a factorial 5\n"
     ]
    },
    {
     "name": "stdout",
     "output_type": "stream",
     "text": [
      "120\n"
     ]
    }
   ],
   "source": [
    "# 5*4*3*2*1\n",
    "n=int(input('enter a number to finding out a factorial'))\n",
    "f=1\n",
    "while n>0:\n",
    "    f=f*n\n",
    "    n=n-1\n",
    "print(f)\n"
   ]
  },
  {
   "cell_type": "code",
   "execution_count": null,
   "id": "0ad38af0-5340-4181-a4ec-37ed8f361250",
   "metadata": {},
   "outputs": [],
   "source": []
  }
 ],
 "metadata": {
  "kernelspec": {
   "display_name": "Python 3 (ipykernel)",
   "language": "python",
   "name": "python3"
  },
  "language_info": {
   "codemirror_mode": {
    "name": "ipython",
    "version": 3
   },
   "file_extension": ".py",
   "mimetype": "text/x-python",
   "name": "python",
   "nbconvert_exporter": "python",
   "pygments_lexer": "ipython3",
   "version": "3.10.8"
  }
 },
 "nbformat": 4,
 "nbformat_minor": 5
}

{
 "cells": [
  {
   "cell_type": "code",
   "execution_count": 1,
   "id": "09223b10-a532-4b7d-8583-10a73f861235",
   "metadata": {},
   "outputs": [],
   "source": [
    "# Q1 "
   ]
  },
  {
   "cell_type": "code",
   "execution_count": 2,
   "id": "d6fcf3c5-a9d5-4b5a-bd3d-585c9c5a88a9",
   "metadata": {},
   "outputs": [],
   "source": [
    "a=\"pw skills\""
   ]
  },
  {
   "cell_type": "code",
   "execution_count": 3,
   "id": "929eb98d-80d6-4667-87de-c9030b316890",
   "metadata": {},
   "outputs": [
    {
     "data": {
      "text/plain": [
       "'pw skills'"
      ]
     },
     "execution_count": 3,
     "metadata": {},
     "output_type": "execute_result"
    }
   ],
   "source": [
    "a"
   ]
  },
  {
   "cell_type": "code",
   "execution_count": 4,
   "id": "31901155-63bf-48b6-bf52-7dfc9a0ee35c",
   "metadata": {},
   "outputs": [
    {
     "data": {
      "text/plain": [
       "str"
      ]
     },
     "execution_count": 4,
     "metadata": {},
     "output_type": "execute_result"
    }
   ],
   "source": [
    "type(a)"
   ]
  },
  {
   "cell_type": "code",
   "execution_count": 5,
   "id": "f1947715-0104-4af1-95f5-ffbdc02924bc",
   "metadata": {},
   "outputs": [],
   "source": [
    "b=[\"pwskills\"]"
   ]
  },
  {
   "cell_type": "code",
   "execution_count": 6,
   "id": "c85d7427-be17-4785-a945-50625437dcbc",
   "metadata": {},
   "outputs": [
    {
     "data": {
      "text/plain": [
       "['pwskills']"
      ]
     },
     "execution_count": 6,
     "metadata": {},
     "output_type": "execute_result"
    }
   ],
   "source": [
    "b"
   ]
  },
  {
   "cell_type": "code",
   "execution_count": 7,
   "id": "5b946f33-3dcb-412a-8ec5-5460c85a0c7e",
   "metadata": {},
   "outputs": [
    {
     "data": {
      "text/plain": [
       "list"
      ]
     },
     "execution_count": 7,
     "metadata": {},
     "output_type": "execute_result"
    }
   ],
   "source": [
    "type(b)"
   ]
  },
  {
   "cell_type": "code",
   "execution_count": 8,
   "id": "6c5a6fe3-eaed-4b96-8fd8-12428469fbef",
   "metadata": {},
   "outputs": [],
   "source": [
    "c=56.67"
   ]
  },
  {
   "cell_type": "code",
   "execution_count": 9,
   "id": "8223292b-d464-44b6-8668-28868048558f",
   "metadata": {},
   "outputs": [
    {
     "data": {
      "text/plain": [
       "56.67"
      ]
     },
     "execution_count": 9,
     "metadata": {},
     "output_type": "execute_result"
    }
   ],
   "source": [
    "c"
   ]
  },
  {
   "cell_type": "code",
   "execution_count": 10,
   "id": "7c5da306-bfbd-4336-82f6-c905140ef7f0",
   "metadata": {},
   "outputs": [
    {
     "data": {
      "text/plain": [
       "float"
      ]
     },
     "execution_count": 10,
     "metadata": {},
     "output_type": "execute_result"
    }
   ],
   "source": [
    "type(c)"
   ]
  },
  {
   "cell_type": "code",
   "execution_count": 14,
   "id": "7c28c5ca-2a78-4264-95b1-ed5e8c4398c8",
   "metadata": {},
   "outputs": [],
   "source": [
    "d=(56,45,True,\"pwskills\")"
   ]
  },
  {
   "cell_type": "code",
   "execution_count": 15,
   "id": "e19aa24f-bec1-488a-8240-a31a421324ce",
   "metadata": {},
   "outputs": [
    {
     "data": {
      "text/plain": [
       "(56, 45, True, 'pwskills')"
      ]
     },
     "execution_count": 15,
     "metadata": {},
     "output_type": "execute_result"
    }
   ],
   "source": [
    "d"
   ]
  },
  {
   "cell_type": "code",
   "execution_count": 16,
   "id": "9fa55c84-0b8a-4ff7-bbf0-e7c5d1bd0285",
   "metadata": {},
   "outputs": [
    {
     "data": {
      "text/plain": [
       "tuple"
      ]
     },
     "execution_count": 16,
     "metadata": {},
     "output_type": "execute_result"
    }
   ],
   "source": [
    "type(d)"
   ]
  },
  {
   "cell_type": "code",
   "execution_count": null,
   "id": "37bb5c65-1115-4d68-9f23-376644fd030e",
   "metadata": {},
   "outputs": [],
   "source": [
    "# Q2\n",
    "\n",
    "(i) str\n",
    "(ii) str\n",
    "(iii) list\n",
    "(iv) int"
   ]
  },
  {
   "cell_type": "code",
   "execution_count": null,
   "id": "ced39194-a6c2-41a9-8c8e-b563790f3d26",
   "metadata": {},
   "outputs": [],
   "source": [
    "#Q3\n",
    "\n",
    "(i) It is the  division operator it gives the result after dividing numbers.\n",
    "(ii) it is the Modulus operator which gives reminder after division.\n",
    "(iii) it gives the quotient.\n",
    "(iv) it is power operator or exponent operator which helps to give raise to the power to a number."
   ]
  },
  {
   "cell_type": "code",
   "execution_count": null,
   "id": "af4fe845-f13f-4072-bf91-e63fa2edede6",
   "metadata": {},
   "outputs": [],
   "source": [
    "# Q4"
   ]
  },
  {
   "cell_type": "code",
   "execution_count": 20,
   "id": "2b45edc4-c763-48f8-ba94-c0c1ae745cea",
   "metadata": {},
   "outputs": [],
   "source": [
    "l=[2,3,4,5,6,True,6+2j,45.5,\"pwskilss\",\"python\"]"
   ]
  },
  {
   "cell_type": "code",
   "execution_count": 21,
   "id": "5f30d28e-5ec4-4c35-97b5-e0848eb5d82f",
   "metadata": {},
   "outputs": [
    {
     "name": "stdout",
     "output_type": "stream",
     "text": [
      "2\n",
      "<class 'int'>\n",
      "3\n",
      "<class 'int'>\n",
      "4\n",
      "<class 'int'>\n",
      "5\n",
      "<class 'int'>\n",
      "6\n",
      "True\n",
      "<class 'bool'>\n",
      "(6+2j)\n",
      "<class 'complex'>\n",
      "45.5\n",
      "<class 'float'>\n",
      "pwskilss\n",
      "<class 'str'>\n",
      "python\n",
      "<class 'str'>\n"
     ]
    }
   ],
   "source": [
    "for  i in l:\n",
    "    print(i) \n",
    "    if i==6:\n",
    "        continue\n",
    "    print(type(i))"
   ]
  },
  {
   "cell_type": "code",
   "execution_count": 8,
   "id": "ba02ce26-de92-4c2a-9ee1-b1f7959f6dcd",
   "metadata": {},
   "outputs": [],
   "source": [
    "# Q6\n",
    "    "
   ]
  },
  {
   "cell_type": "code",
   "execution_count": 9,
   "id": "7832f01f-417d-4e1f-b365-705a2a0df68d",
   "metadata": {},
   "outputs": [
    {
     "data": {
      "text/plain": [
       "range(0, 26)"
      ]
     },
     "execution_count": 9,
     "metadata": {},
     "output_type": "execute_result"
    }
   ],
   "source": [
    "range(26)"
   ]
  },
  {
   "cell_type": "code",
   "execution_count": 14,
   "id": "bc549c3a-0cab-49ff-a983-50e4c77fc20e",
   "metadata": {},
   "outputs": [],
   "source": [
    "l1 =list(range(26))"
   ]
  },
  {
   "cell_type": "code",
   "execution_count": 15,
   "id": "6c68493e-201f-4b27-ae4d-3806df885292",
   "metadata": {},
   "outputs": [
    {
     "name": "stdout",
     "output_type": "stream",
     "text": [
      "0\n",
      "3\n",
      "6\n",
      "9\n",
      "12\n",
      "15\n",
      "18\n",
      "21\n",
      "24\n"
     ]
    }
   ],
   "source": [
    "for i in l1:\n",
    "    if i%3==0:\n",
    "        print(i)\n",
    "    "
   ]
  },
  {
   "cell_type": "code",
   "execution_count": 16,
   "id": "bd6a7efc-cda6-4962-9758-5acd450460fc",
   "metadata": {},
   "outputs": [],
   "source": [
    "# Q7"
   ]
  },
  {
   "cell_type": "code",
   "execution_count": 17,
   "id": "da3a158a-0f13-4031-9156-b6431939b10f",
   "metadata": {},
   "outputs": [],
   "source": [
    "#lists are mutable data type where tupples are not . lists can be manipulated and tuples cant. "
   ]
  },
  {
   "cell_type": "code",
   "execution_count": 18,
   "id": "18446a64-3296-4a1a-b429-cf25aa332aa0",
   "metadata": {},
   "outputs": [],
   "source": [
    "l2=[2,3,4,5]"
   ]
  },
  {
   "cell_type": "code",
   "execution_count": 19,
   "id": "f4b89007-bed3-4864-8540-c283d68c684c",
   "metadata": {},
   "outputs": [
    {
     "data": {
      "text/plain": [
       "5"
      ]
     },
     "execution_count": 19,
     "metadata": {},
     "output_type": "execute_result"
    }
   ],
   "source": [
    "l2[3]"
   ]
  },
  {
   "cell_type": "code",
   "execution_count": 20,
   "id": "464da676-5a98-4dbf-b2ad-814ce061460a",
   "metadata": {},
   "outputs": [],
   "source": [
    "l2[3]=3"
   ]
  },
  {
   "cell_type": "code",
   "execution_count": 21,
   "id": "9df93f4b-a443-4d24-aa8f-389e7c29ff6b",
   "metadata": {},
   "outputs": [
    {
     "data": {
      "text/plain": [
       "[2, 3, 4, 3]"
      ]
     },
     "execution_count": 21,
     "metadata": {},
     "output_type": "execute_result"
    }
   ],
   "source": [
    "l2"
   ]
  },
  {
   "cell_type": "code",
   "execution_count": 22,
   "id": "134e07cc-0742-4f29-9bd9-9de280be9711",
   "metadata": {},
   "outputs": [],
   "source": [
    "# here in list we can do changes with data."
   ]
  },
  {
   "cell_type": "code",
   "execution_count": 23,
   "id": "237de6f9-e836-4a40-94d8-aebcf95fc71a",
   "metadata": {},
   "outputs": [],
   "source": [
    "l3=(2,3,4,5)"
   ]
  },
  {
   "cell_type": "code",
   "execution_count": 25,
   "id": "f6451da2-33d5-439a-8f95-a3e6966d87bb",
   "metadata": {},
   "outputs": [
    {
     "data": {
      "text/plain": [
       "5"
      ]
     },
     "execution_count": 25,
     "metadata": {},
     "output_type": "execute_result"
    }
   ],
   "source": [
    "l3[3]"
   ]
  },
  {
   "cell_type": "code",
   "execution_count": 26,
   "id": "b1fa47ea-d27c-42da-b99c-d65ceaa7d3f9",
   "metadata": {},
   "outputs": [
    {
     "ename": "TypeError",
     "evalue": "'tuple' object does not support item assignment",
     "output_type": "error",
     "traceback": [
      "\u001b[0;31m---------------------------------------------------------------------------\u001b[0m",
      "\u001b[0;31mTypeError\u001b[0m                                 Traceback (most recent call last)",
      "Cell \u001b[0;32mIn[26], line 1\u001b[0m\n\u001b[0;32m----> 1\u001b[0m \u001b[43ml3\u001b[49m\u001b[43m[\u001b[49m\u001b[38;5;241;43m3\u001b[39;49m\u001b[43m]\u001b[49m\u001b[38;5;241m=\u001b[39m\u001b[38;5;241m23\u001b[39m\n",
      "\u001b[0;31mTypeError\u001b[0m: 'tuple' object does not support item assignment"
     ]
    }
   ],
   "source": [
    "l3[3]=23"
   ]
  },
  {
   "cell_type": "code",
   "execution_count": null,
   "id": "183483cb-22d9-4670-978c-e1cbdb2bd98d",
   "metadata": {},
   "outputs": [],
   "source": [
    "#here in tuple changes cant be made."
   ]
  }
 ],
 "metadata": {
  "kernelspec": {
   "display_name": "Python 3 (ipykernel)",
   "language": "python",
   "name": "python3"
  },
  "language_info": {
   "codemirror_mode": {
    "name": "ipython",
    "version": 3
   },
   "file_extension": ".py",
   "mimetype": "text/x-python",
   "name": "python",
   "nbconvert_exporter": "python",
   "pygments_lexer": "ipython3",
   "version": "3.10.8"
  }
 },
 "nbformat": 4,
 "nbformat_minor": 5
}

{
 "cells": [
  {
   "cell_type": "code",
   "execution_count": 5,
   "id": "43f7b00d-6910-4e20-8e1c-d26485ea5d43",
   "metadata": {},
   "outputs": [],
   "source": [
    "a=\"pwskills\"\n"
   ]
  },
  {
   "cell_type": "code",
   "execution_count": 6,
   "id": "229c20b4-0e4e-4613-bab2-387b0ef26ad8",
   "metadata": {},
   "outputs": [
    {
     "name": "stdout",
     "output_type": "stream",
     "text": [
      "p\n",
      "w\n",
      "s\n",
      "k\n",
      "i\n",
      "l\n",
      "l\n",
      "s\n"
     ]
    }
   ],
   "source": [
    "for i in a:\n",
    "    print(i)"
   ]
  },
  {
   "cell_type": "code",
   "execution_count": 7,
   "id": "9a74cece-bfc0-4b92-837e-2a51ad23a347",
   "metadata": {},
   "outputs": [
    {
     "name": "stdout",
     "output_type": "stream",
     "text": [
      "P\n",
      "W\n",
      "S\n",
      "K\n",
      "I\n",
      "L\n",
      "L\n",
      "S\n"
     ]
    }
   ],
   "source": [
    "for i in a :\n",
    "    print(i.upper())"
   ]
  },
  {
   "cell_type": "code",
   "execution_count": 3,
   "id": "fe78bf4e-fbf7-4b0c-ae0b-fe7b446b0b1f",
   "metadata": {},
   "outputs": [
    {
     "name": "stdout",
     "output_type": "stream",
     "text": [
      "2\n",
      "3\n",
      "4\n",
      "5\n",
      "6\n",
      "7\n",
      "8\n"
     ]
    }
   ],
   "source": [
    "l=[2,3,4,5,6,7,8]\n",
    "for i in l :\n",
    "    print(i)"
   ]
  },
  {
   "cell_type": "code",
   "execution_count": 9,
   "id": "e3ac1ab2-058c-4a7a-8d17-47caaf8004cd",
   "metadata": {},
   "outputs": [
    {
     "name": "stdout",
     "output_type": "stream",
     "text": [
      "4\n",
      "5\n",
      "6\n",
      "7\n",
      "8\n",
      "9\n",
      "10\n"
     ]
    }
   ],
   "source": [
    "for i in l:\n",
    "    print(i+2)"
   ]
  },
  {
   "cell_type": "code",
   "execution_count": 4,
   "id": "82bd8a3a-c2e6-4fa3-86e0-5144a1b6e35c",
   "metadata": {},
   "outputs": [
    {
     "data": {
      "text/plain": [
       "[2, 3, 4, 5, 6, 7, 8]"
      ]
     },
     "execution_count": 4,
     "metadata": {},
     "output_type": "execute_result"
    }
   ],
   "source": [
    "l"
   ]
  },
  {
   "cell_type": "code",
   "execution_count": 11,
   "id": "f3c3aab1-1345-4e9b-b722-edf6a0bda9d7",
   "metadata": {},
   "outputs": [
    {
     "name": "stdout",
     "output_type": "stream",
     "text": [
      "2\n",
      "4\n",
      "6\n",
      "8\n"
     ]
    }
   ],
   "source": [
    "for i in l:\n",
    "    if i % 2==0:\n",
    "        print(i)"
   ]
  },
  {
   "cell_type": "code",
   "execution_count": 6,
   "id": "1c1bff99-2b38-444c-8ee0-f1c07fa7ee7f",
   "metadata": {},
   "outputs": [],
   "source": [
    "l1=[]"
   ]
  },
  {
   "cell_type": "code",
   "execution_count": 7,
   "id": "73e815ce-1937-4b0e-bf8b-08f575a3b64e",
   "metadata": {},
   "outputs": [
    {
     "name": "stdout",
     "output_type": "stream",
     "text": [
      "[2, 4, 6, 8]\n"
     ]
    }
   ],
   "source": [
    "for i in l:\n",
    "    if i%2==0:\n",
    "        l1.append(i)\n",
    "print(l1)"
   ]
  },
  {
   "cell_type": "code",
   "execution_count": 8,
   "id": "e7b97c52-ac56-4fa4-8709-2bbd259dcc6d",
   "metadata": {},
   "outputs": [
    {
     "data": {
      "text/plain": [
       "[2, 3, 4, 5, 6, 7, 8]"
      ]
     },
     "execution_count": 8,
     "metadata": {},
     "output_type": "execute_result"
    }
   ],
   "source": [
    "l"
   ]
  },
  {
   "cell_type": "code",
   "execution_count": 10,
   "id": "274c87ba-4cf4-4e2b-8f73-1102ac2f76ad",
   "metadata": {},
   "outputs": [
    {
     "name": "stdout",
     "output_type": "stream",
     "text": [
      "2\n",
      "3\n",
      "4\n",
      "5\n",
      "6\n",
      "7\n",
      "8\n",
      "this will be executed once the loop complete itself successfully\n"
     ]
    }
   ],
   "source": [
    "for i in l:\n",
    "    print(i)\n",
    "c "
   ]
  },
  {
   "cell_type": "code",
   "execution_count": 14,
   "id": "940deed9-4d1b-4f9d-a985-8f0996f8b64d",
   "metadata": {},
   "outputs": [
    {
     "data": {
      "text/plain": [
       "[2, 3, 4, 5, 6, 7, 8]"
      ]
     },
     "execution_count": 14,
     "metadata": {},
     "output_type": "execute_result"
    }
   ],
   "source": [
    "l"
   ]
  },
  {
   "cell_type": "code",
   "execution_count": 17,
   "id": "1f1274d3-4298-4093-876b-d2f4b7f1dd46",
   "metadata": {},
   "outputs": [
    {
     "name": "stdout",
     "output_type": "stream",
     "text": [
      "2\n",
      "3\n",
      "4\n",
      "5\n"
     ]
    }
   ],
   "source": [
    "for i in l :\n",
    "    print(i)\n",
    "    if i==5:\n",
    "        break\n",
    "else :\n",
    "            print(\"this will be executed once for loop will complete itself successfully\")"
   ]
  },
  {
   "cell_type": "code",
   "execution_count": 18,
   "id": "3161d1c2-ab08-4426-96ce-e1d0eaccfd4d",
   "metadata": {},
   "outputs": [
    {
     "data": {
      "text/plain": [
       "[2, 3, 4, 5, 6, 7, 8]"
      ]
     },
     "execution_count": 18,
     "metadata": {},
     "output_type": "execute_result"
    }
   ],
   "source": [
    "l"
   ]
  },
  {
   "cell_type": "code",
   "execution_count": 22,
   "id": "a4d7894d-5725-4991-8b98-e81afa6b29fa",
   "metadata": {},
   "outputs": [
    {
     "name": "stdout",
     "output_type": "stream",
     "text": [
      "35\n"
     ]
    }
   ],
   "source": [
    "b=0\n",
    "for  i in l:\n",
    "    b=b+i\n",
    "print(b)"
   ]
  },
  {
   "cell_type": "code",
   "execution_count": 23,
   "id": "89b5fa01-dccd-4e3b-8275-38aa36665d77",
   "metadata": {},
   "outputs": [],
   "source": [
    "l2=[2,3,4,5,\"ritik\", \"pwskills\", \"college wallah\", \"python\", 456.456,True,False, True]"
   ]
  },
  {
   "cell_type": "code",
   "execution_count": 30,
   "id": "a700b765-cc5c-4e12-9eb0-a85b3f234a93",
   "metadata": {},
   "outputs": [],
   "source": [
    "l_int=[]\n",
    "l_str=[]\n",
    "l_bool=[]\n",
    "for i in l2:\n",
    "        if type (i)== int:\n",
    "            l_int.append(i)\n",
    "        elif type (i) == str:\n",
    "            l_str.append(i)\n",
    "        elif type (i)==bool:\n",
    "            l_bool.append(i)\n"
   ]
  },
  {
   "cell_type": "code",
   "execution_count": 31,
   "id": "7390cfb9-40cc-45c8-822d-24fa96a78e6c",
   "metadata": {},
   "outputs": [
    {
     "data": {
      "text/plain": [
       "[2, 3, 4, 5]"
      ]
     },
     "execution_count": 31,
     "metadata": {},
     "output_type": "execute_result"
    }
   ],
   "source": [
    "l_int"
   ]
  },
  {
   "cell_type": "code",
   "execution_count": 32,
   "id": "9ab53ff4-e127-4e68-ae42-183026b2d02b",
   "metadata": {},
   "outputs": [
    {
     "data": {
      "text/plain": [
       "[True, False, True]"
      ]
     },
     "execution_count": 32,
     "metadata": {},
     "output_type": "execute_result"
    }
   ],
   "source": [
    "l_bool"
   ]
  },
  {
   "cell_type": "code",
   "execution_count": 33,
   "id": "dd3550ce-513d-40b3-b6e3-40ebd2078cbe",
   "metadata": {},
   "outputs": [
    {
     "data": {
      "text/plain": [
       "['ritik', 'pwskills', 'college wallah', 'python']"
      ]
     },
     "execution_count": 33,
     "metadata": {},
     "output_type": "execute_result"
    }
   ],
   "source": [
    "l_str"
   ]
  },
  {
   "cell_type": "code",
   "execution_count": 34,
   "id": "09e24e8b-a6fe-4654-a578-9b417edf1bee",
   "metadata": {},
   "outputs": [
    {
     "data": {
      "text/plain": [
       "['ritik', 'pwskills', 'college wallah', 'python']"
      ]
     },
     "execution_count": 34,
     "metadata": {},
     "output_type": "execute_result"
    }
   ],
   "source": [
    "l_str"
   ]
  },
  {
   "cell_type": "code",
   "execution_count": 35,
   "id": "06a3daf1-7d95-47e0-8aa7-7e7594bb9917",
   "metadata": {},
   "outputs": [],
   "source": [
    "t=(3,4,5,6,7,8,\"ritik\", \"pwskills\")"
   ]
  },
  {
   "cell_type": "code",
   "execution_count": 36,
   "id": "e7ceffec-6dd3-46b9-9663-5af4045d8774",
   "metadata": {},
   "outputs": [
    {
     "name": "stdout",
     "output_type": "stream",
     "text": [
      "3\n",
      "4\n",
      "5\n",
      "6\n",
      "7\n",
      "8\n",
      "ritik\n",
      "pwskills\n"
     ]
    }
   ],
   "source": [
    "for i in t:\n",
    "    print(i)"
   ]
  },
  {
   "cell_type": "code",
   "execution_count": 37,
   "id": "b0d56293-a9c9-4454-ba3d-530f000d453c",
   "metadata": {},
   "outputs": [],
   "source": [
    "d={'name':'ritik', 'age':'19', 'subject':['pyhthon', 'dsa' , 'da','ml']}"
   ]
  },
  {
   "cell_type": "code",
   "execution_count": 39,
   "id": "7b192a91-b044-4b5a-991c-ffa4cee6a0ac",
   "metadata": {},
   "outputs": [
    {
     "data": {
      "text/plain": [
       "{'name': 'ritik', 'age': '19', 'subject': ['pyhthon', 'dsa', 'da', 'ml']}"
      ]
     },
     "execution_count": 39,
     "metadata": {},
     "output_type": "execute_result"
    }
   ],
   "source": [
    "d"
   ]
  },
  {
   "cell_type": "code",
   "execution_count": 42,
   "id": "a8da4994-4c4e-4a0f-88f8-4b304e5b136e",
   "metadata": {},
   "outputs": [
    {
     "name": "stdout",
     "output_type": "stream",
     "text": [
      "('name', 'ritik')\n",
      "('age', '19')\n",
      "('subject', ['pyhthon', 'dsa', 'da', 'ml'])\n"
     ]
    }
   ],
   "source": [
    "for i in d.items():\n",
    "    print(i)"
   ]
  },
  {
   "cell_type": "code",
   "execution_count": 43,
   "id": "da01cd5b-2aff-4536-bd85-6354bfa0e5a3",
   "metadata": {},
   "outputs": [
    {
     "name": "stdout",
     "output_type": "stream",
     "text": [
      "name\n",
      "age\n",
      "subject\n"
     ]
    }
   ],
   "source": [
    "for i in d.keys():\n",
    "    print(i)"
   ]
  },
  {
   "cell_type": "code",
   "execution_count": 44,
   "id": "4a36473f-7f4e-4560-862a-b616107382d5",
   "metadata": {},
   "outputs": [
    {
     "name": "stdout",
     "output_type": "stream",
     "text": [
      "ritik\n",
      "19\n",
      "['pyhthon', 'dsa', 'da', 'ml']\n"
     ]
    }
   ],
   "source": [
    "for i in d.values():\n",
    "    print(i)"
   ]
  },
  {
   "cell_type": "code",
   "execution_count": 46,
   "id": "bc106f59-b237-4bbe-8d18-df89a7db91d2",
   "metadata": {},
   "outputs": [
    {
     "name": "stdout",
     "output_type": "stream",
     "text": [
      "['pyhthon', 'dsa', 'da', 'ml']\n"
     ]
    }
   ],
   "source": [
    "for i in d.values():\n",
    "    if type(i)==list:\n",
    "        print(i)"
   ]
  },
  {
   "cell_type": "code",
   "execution_count": 47,
   "id": "e68d72d0-97df-42bf-8050-778d3e95a74f",
   "metadata": {},
   "outputs": [
    {
     "name": "stdout",
     "output_type": "stream",
     "text": [
      "True\n"
     ]
    }
   ],
   "source": [
    "for i in d.values():\n",
    "    if type(i)==list:\n",
    "        print('da' in  i)"
   ]
  },
  {
   "cell_type": "code",
   "execution_count": null,
   "id": "ac08a5aa-9d56-4ad2-a26c-8a1a5fb12baf",
   "metadata": {},
   "outputs": [],
   "source": []
  }
 ],
 "metadata": {
  "kernelspec": {
   "display_name": "Python 3 (ipykernel)",
   "language": "python",
   "name": "python3"
  },
  "language_info": {
   "codemirror_mode": {
    "name": "ipython",
    "version": 3
   },
   "file_extension": ".py",
   "mimetype": "text/x-python",
   "name": "python",
   "nbconvert_exporter": "python",
   "pygments_lexer": "ipython3",
   "version": "3.10.8"
  }
 },
 "nbformat": 4,
 "nbformat_minor": 5
}

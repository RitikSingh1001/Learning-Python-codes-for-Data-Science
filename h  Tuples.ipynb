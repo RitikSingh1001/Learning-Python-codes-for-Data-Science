{
 "cells": [
  {
   "cell_type": "code",
   "execution_count": 1,
   "id": "3641e18f-e669-42e4-b0a0-46a0b506f476",
   "metadata": {},
   "outputs": [],
   "source": [
    "t=()"
   ]
  },
  {
   "cell_type": "code",
   "execution_count": 2,
   "id": "c373cafd-1cc3-47b7-999d-acc5992e6149",
   "metadata": {},
   "outputs": [
    {
     "data": {
      "text/plain": [
       "tuple"
      ]
     },
     "execution_count": 2,
     "metadata": {},
     "output_type": "execute_result"
    }
   ],
   "source": [
    "type(t)"
   ]
  },
  {
   "cell_type": "code",
   "execution_count": 3,
   "id": "b60c1893-520b-4daf-b541-7e9ab4e0abc8",
   "metadata": {},
   "outputs": [],
   "source": [
    "t1=(11,2,3,4,5,'ritik',True,5+6j)"
   ]
  },
  {
   "cell_type": "code",
   "execution_count": 5,
   "id": "4c2868c6-7515-454c-b871-8c2690547b03",
   "metadata": {},
   "outputs": [],
   "source": [
    "l=[11,2,3,4,5,'ritik',True,5+6j]"
   ]
  },
  {
   "cell_type": "code",
   "execution_count": 6,
   "id": "185bf7fe-ef17-4a27-a038-cb0d5ea3afe4",
   "metadata": {},
   "outputs": [
    {
     "data": {
      "text/plain": [
       "tuple"
      ]
     },
     "execution_count": 6,
     "metadata": {},
     "output_type": "execute_result"
    }
   ],
   "source": [
    "type(t1)"
   ]
  },
  {
   "cell_type": "code",
   "execution_count": 7,
   "id": "70c293e2-31b9-4545-98ea-89e203e4e2f3",
   "metadata": {},
   "outputs": [
    {
     "data": {
      "text/plain": [
       "list"
      ]
     },
     "execution_count": 7,
     "metadata": {},
     "output_type": "execute_result"
    }
   ],
   "source": [
    "type(l)"
   ]
  },
  {
   "cell_type": "code",
   "execution_count": 9,
   "id": "17e0ac0a-cec4-4d03-9417-1759a8d1bb47",
   "metadata": {},
   "outputs": [
    {
     "data": {
      "text/plain": [
       "'ritik'"
      ]
     },
     "execution_count": 9,
     "metadata": {},
     "output_type": "execute_result"
    }
   ],
   "source": [
    "t1[5]"
   ]
  },
  {
   "cell_type": "code",
   "execution_count": 10,
   "id": "19b0e9ec-8307-4eac-8466-fef1859ded8b",
   "metadata": {},
   "outputs": [
    {
     "data": {
      "text/plain": [
       "'ritik'"
      ]
     },
     "execution_count": 10,
     "metadata": {},
     "output_type": "execute_result"
    }
   ],
   "source": [
    "l[5]"
   ]
  },
  {
   "cell_type": "code",
   "execution_count": 11,
   "id": "7f5c9e66-7f59-4274-8d60-243ca5966a27",
   "metadata": {},
   "outputs": [
    {
     "data": {
      "text/plain": [
       "(11, 2, 3, 4, 5, 'ritik', True, (5+6j))"
      ]
     },
     "execution_count": 11,
     "metadata": {},
     "output_type": "execute_result"
    }
   ],
   "source": [
    "t1"
   ]
  },
  {
   "cell_type": "code",
   "execution_count": 12,
   "id": "8be54b33-a000-4968-ab2a-c6b8619bf6bf",
   "metadata": {},
   "outputs": [
    {
     "data": {
      "text/plain": [
       "[11, 2, 3, 4, 5, 'ritik', True, (5+6j)]"
      ]
     },
     "execution_count": 12,
     "metadata": {},
     "output_type": "execute_result"
    }
   ],
   "source": [
    "l"
   ]
  },
  {
   "cell_type": "code",
   "execution_count": 13,
   "id": "ba6df655-8a11-4a2f-a464-2c314a7013f4",
   "metadata": {},
   "outputs": [
    {
     "data": {
      "text/plain": [
       "'ritik'"
      ]
     },
     "execution_count": 13,
     "metadata": {},
     "output_type": "execute_result"
    }
   ],
   "source": [
    "t1[5]"
   ]
  },
  {
   "cell_type": "code",
   "execution_count": 14,
   "id": "390044c0-2301-4f00-b5dd-47ded96e7019",
   "metadata": {},
   "outputs": [
    {
     "ename": "TypeError",
     "evalue": "'tuple' object does not support item assignment",
     "output_type": "error",
     "traceback": [
      "\u001b[0;31m---------------------------------------------------------------------------\u001b[0m",
      "\u001b[0;31mTypeError\u001b[0m                                 Traceback (most recent call last)",
      "Cell \u001b[0;32mIn[14], line 1\u001b[0m\n\u001b[0;32m----> 1\u001b[0m \u001b[43mt1\u001b[49m\u001b[43m[\u001b[49m\u001b[38;5;241;43m5\u001b[39;49m\u001b[43m]\u001b[49m\u001b[38;5;241m=\u001b[39m\u001b[38;5;124m\"\u001b[39m\u001b[38;5;124mpwskills\u001b[39m\u001b[38;5;124m\"\u001b[39m\n",
      "\u001b[0;31mTypeError\u001b[0m: 'tuple' object does not support item assignment"
     ]
    }
   ],
   "source": [
    "t1[5]=\"pwskills\"\n",
    "#tuples are basically a immutable entity "
   ]
  },
  {
   "cell_type": "code",
   "execution_count": 17,
   "id": "dc3f4780-22e0-4b90-b01d-c4bc5836df8e",
   "metadata": {},
   "outputs": [],
   "source": [
    "l[5]=\"pwskills\"\n",
    "#lists are basically a mutable entity"
   ]
  },
  {
   "cell_type": "code",
   "execution_count": 18,
   "id": "1f46db32-5a29-4c35-98db-ab5b5ee25421",
   "metadata": {},
   "outputs": [
    {
     "data": {
      "text/plain": [
       "[11, 2, 3, 4, 5, 'pwskills', True, (5+6j)]"
      ]
     },
     "execution_count": 18,
     "metadata": {},
     "output_type": "execute_result"
    }
   ],
   "source": [
    "l"
   ]
  },
  {
   "cell_type": "code",
   "execution_count": 19,
   "id": "614087df-968b-4e65-9ff6-5ee95bd2accd",
   "metadata": {},
   "outputs": [
    {
     "data": {
      "text/plain": [
       "(11, 2, 3, 4, 5, 'ritik', True, (5+6j))"
      ]
     },
     "execution_count": 19,
     "metadata": {},
     "output_type": "execute_result"
    }
   ],
   "source": [
    "t1"
   ]
  },
  {
   "cell_type": "code",
   "execution_count": 25,
   "id": "742e894b-4349-4bc4-b655-ff2f339153ba",
   "metadata": {},
   "outputs": [],
   "source": [
    "l1=list(t1)"
   ]
  },
  {
   "cell_type": "code",
   "execution_count": 22,
   "id": "1f82b944-ee6d-47e9-b45f-1c85b96947e1",
   "metadata": {},
   "outputs": [
    {
     "data": {
      "text/plain": [
       "(11, 2, 3, 4, 5, 'ritik', True, (5+6j))"
      ]
     },
     "execution_count": 22,
     "metadata": {},
     "output_type": "execute_result"
    }
   ],
   "source": [
    "t1"
   ]
  },
  {
   "cell_type": "code",
   "execution_count": 24,
   "id": "1ac6d344-49a7-4ef7-a9bf-82552b9c9a7b",
   "metadata": {},
   "outputs": [
    {
     "data": {
      "text/plain": [
       "(11, 2, 3, 4, 5, 'ritik', True, (5+6j))"
      ]
     },
     "execution_count": 24,
     "metadata": {},
     "output_type": "execute_result"
    }
   ],
   "source": [
    "tuple(l1)"
   ]
  },
  {
   "cell_type": "code",
   "execution_count": 26,
   "id": "a83ac6a9-ffa7-4383-86b2-9ec1386b9919",
   "metadata": {},
   "outputs": [
    {
     "data": {
      "text/plain": [
       "0"
      ]
     },
     "execution_count": 26,
     "metadata": {},
     "output_type": "execute_result"
    }
   ],
   "source": [
    "t1.count(100)"
   ]
  },
  {
   "cell_type": "code",
   "execution_count": 28,
   "id": "d753c84e-8bdb-4f3f-8e11-2fae272938e3",
   "metadata": {},
   "outputs": [
    {
     "data": {
      "text/plain": [
       "4"
      ]
     },
     "execution_count": 28,
     "metadata": {},
     "output_type": "execute_result"
    }
   ],
   "source": [
    "t1.index(5\n",
    "    )"
   ]
  },
  {
   "cell_type": "code",
   "execution_count": 29,
   "id": "4d8fb623-f35e-4858-a609-1cd451cb0b3d",
   "metadata": {},
   "outputs": [
    {
     "data": {
      "text/plain": [
       "1"
      ]
     },
     "execution_count": 29,
     "metadata": {},
     "output_type": "execute_result"
    }
   ],
   "source": [
    "t1.count('ritik')"
   ]
  },
  {
   "cell_type": "code",
   "execution_count": 30,
   "id": "6f699588-08ec-4389-a9b0-9ea49ef7b49d",
   "metadata": {},
   "outputs": [
    {
     "data": {
      "text/plain": [
       "5"
      ]
     },
     "execution_count": 30,
     "metadata": {},
     "output_type": "execute_result"
    }
   ],
   "source": [
    "t1.index(\"ritik\")"
   ]
  },
  {
   "cell_type": "code",
   "execution_count": 31,
   "id": "237cf37b-1a71-4bf3-87cc-921eb271d39a",
   "metadata": {},
   "outputs": [],
   "source": [
    "t2=('ritik',3,2,6,7,8,9,7,6,4,'ritik')"
   ]
  },
  {
   "cell_type": "code",
   "execution_count": 32,
   "id": "935471c0-a4d4-493a-9483-8807ac218bbf",
   "metadata": {},
   "outputs": [
    {
     "data": {
      "text/plain": [
       "2"
      ]
     },
     "execution_count": 32,
     "metadata": {},
     "output_type": "execute_result"
    }
   ],
   "source": [
    "t2.count('ritik')"
   ]
  },
  {
   "cell_type": "code",
   "execution_count": 33,
   "id": "c01f2332-165d-4dcb-9790-62082061424f",
   "metadata": {},
   "outputs": [
    {
     "data": {
      "text/plain": [
       "0"
      ]
     },
     "execution_count": 33,
     "metadata": {},
     "output_type": "execute_result"
    }
   ],
   "source": [
    "t2.index(\"ritik\")"
   ]
  },
  {
   "cell_type": "code",
   "execution_count": 34,
   "id": "157ab65f-4d40-42b8-91d8-cbfa3638107d",
   "metadata": {},
   "outputs": [
    {
     "data": {
      "text/plain": [
       "3"
      ]
     },
     "execution_count": 34,
     "metadata": {},
     "output_type": "execute_result"
    }
   ],
   "source": [
    "t2.index(6)"
   ]
  },
  {
   "cell_type": "code",
   "execution_count": 37,
   "id": "f617aeb0-0d0e-453a-9260-45f3d7303ce4",
   "metadata": {},
   "outputs": [],
   "source": [
    "t3=(4,5,6,7,8)"
   ]
  },
  {
   "cell_type": "code",
   "execution_count": 38,
   "id": "2bb61a97-3cb7-4bf1-b2e2-195afc0cc36d",
   "metadata": {},
   "outputs": [
    {
     "data": {
      "text/plain": [
       "4"
      ]
     },
     "execution_count": 38,
     "metadata": {},
     "output_type": "execute_result"
    }
   ],
   "source": [
    "min(t3)"
   ]
  },
  {
   "cell_type": "code",
   "execution_count": 39,
   "id": "724d836c-7af5-4e56-92e3-0d5bbbbd336a",
   "metadata": {},
   "outputs": [
    {
     "data": {
      "text/plain": [
       "8"
      ]
     },
     "execution_count": 39,
     "metadata": {},
     "output_type": "execute_result"
    }
   ],
   "source": [
    "max(t3)"
   ]
  },
  {
   "cell_type": "code",
   "execution_count": 40,
   "id": "e2fab96c-04e8-4c44-a2ee-54e087adc5c5",
   "metadata": {},
   "outputs": [],
   "source": [
    "#tuples cant be manipulated\n",
    "# lists can be manipulated"
   ]
  },
  {
   "cell_type": "code",
   "execution_count": 41,
   "id": "e0905af2-e373-4fd2-bc02-543bed98076b",
   "metadata": {},
   "outputs": [
    {
     "data": {
      "text/plain": [
       "5"
      ]
     },
     "execution_count": 41,
     "metadata": {},
     "output_type": "execute_result"
    }
   ],
   "source": [
    "len(t3)"
   ]
  },
  {
   "cell_type": "code",
   "execution_count": null,
   "id": "b0a4ef62-dbcb-4d5d-a561-384dfa5c12e8",
   "metadata": {},
   "outputs": [],
   "source": []
  }
 ],
 "metadata": {
  "kernelspec": {
   "display_name": "Python 3 (ipykernel)",
   "language": "python",
   "name": "python3"
  },
  "language_info": {
   "codemirror_mode": {
    "name": "ipython",
    "version": 3
   },
   "file_extension": ".py",
   "mimetype": "text/x-python",
   "name": "python",
   "nbconvert_exporter": "python",
   "pygments_lexer": "ipython3",
   "version": "3.10.8"
  }
 },
 "nbformat": 4,
 "nbformat_minor": 5
}

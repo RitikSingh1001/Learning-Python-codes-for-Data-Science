{
 "cells": [
  {
   "cell_type": "code",
   "execution_count": 1,
   "id": "18338251-4839-4842-8218-f30b3419c378",
   "metadata": {},
   "outputs": [
    {
     "data": {
      "text/plain": [
       "3"
      ]
     },
     "execution_count": 1,
     "metadata": {},
     "output_type": "execute_result"
    }
   ],
   "source": [
    "1+2"
   ]
  },
  {
   "cell_type": "code",
   "execution_count": 1,
   "id": "162f2faf-99cb-4fd9-9d65-030f2607193e",
   "metadata": {},
   "outputs": [],
   "source": [
    "a = 2"
   ]
  },
  {
   "cell_type": "code",
   "execution_count": 5,
   "id": "1a53990b-4bb7-4d06-b557-a858859887f1",
   "metadata": {},
   "outputs": [],
   "source": [
    "# name of variables cannot be numerical and alpha numerical and also variable cant start with special characters."
   ]
  },
  {
   "cell_type": "code",
   "execution_count": null,
   "id": "26f1ba6f-1fe6-4322-814b-a232bb89cf4f",
   "metadata": {},
   "outputs": [],
   "source": [
    "_ can be workking to name a variable."
   ]
  },
  {
   "cell_type": "code",
   "execution_count": 2,
   "id": "4d5da5c7-e8a0-4c83-a100-ffe0d7792285",
   "metadata": {},
   "outputs": [
    {
     "data": {
      "text/plain": [
       "2"
      ]
     },
     "execution_count": 2,
     "metadata": {},
     "output_type": "execute_result"
    }
   ],
   "source": [
    "a"
   ]
  },
  {
   "cell_type": "code",
   "execution_count": 4,
   "id": "18581043-e8d5-4a4b-96eb-7b358a94e887",
   "metadata": {},
   "outputs": [
    {
     "data": {
      "text/plain": [
       "int"
      ]
     },
     "execution_count": 4,
     "metadata": {},
     "output_type": "execute_result"
    }
   ],
   "source": [
    "type(a)"
   ]
  },
  {
   "cell_type": "code",
   "execution_count": 5,
   "id": "6ac28278-a2e1-410a-b769-e6912c017cba",
   "metadata": {},
   "outputs": [],
   "source": [
    "b=45.34"
   ]
  },
  {
   "cell_type": "code",
   "execution_count": 6,
   "id": "4defc37e-b37b-46e8-8a38-34754abe4c3a",
   "metadata": {},
   "outputs": [
    {
     "data": {
      "text/plain": [
       "45.34"
      ]
     },
     "execution_count": 6,
     "metadata": {},
     "output_type": "execute_result"
    }
   ],
   "source": [
    "b"
   ]
  },
  {
   "cell_type": "code",
   "execution_count": 7,
   "id": "ad4e8bf0-9a64-414b-b1db-124540caad37",
   "metadata": {},
   "outputs": [
    {
     "data": {
      "text/plain": [
       "float"
      ]
     },
     "execution_count": 7,
     "metadata": {},
     "output_type": "execute_result"
    }
   ],
   "source": [
    "type(b)"
   ]
  },
  {
   "cell_type": "code",
   "execution_count": 8,
   "id": "f5f9d55a-0679-4196-a9fc-b01930274dab",
   "metadata": {},
   "outputs": [],
   "source": [
    "a=10"
   ]
  },
  {
   "cell_type": "code",
   "execution_count": 9,
   "id": "ea0befd6-fc21-4a1d-8227-f8ee473f748e",
   "metadata": {},
   "outputs": [
    {
     "data": {
      "text/plain": [
       "10"
      ]
     },
     "execution_count": 9,
     "metadata": {},
     "output_type": "execute_result"
    }
   ],
   "source": [
    "a"
   ]
  },
  {
   "cell_type": "code",
   "execution_count": 10,
   "id": "6e16a62d-aa79-422e-8509-cd7026c89854",
   "metadata": {},
   "outputs": [
    {
     "data": {
      "text/plain": [
       "int"
      ]
     },
     "execution_count": 10,
     "metadata": {},
     "output_type": "execute_result"
    }
   ],
   "source": [
    "type(a)"
   ]
  },
  {
   "cell_type": "code",
   "execution_count": 11,
   "id": "fd46312c-8283-4671-a858-947ad3573f15",
   "metadata": {},
   "outputs": [],
   "source": [
    "a=453.45678"
   ]
  },
  {
   "cell_type": "code",
   "execution_count": 12,
   "id": "20ab58e6-ae1f-4af5-80f2-a0e09cd4503b",
   "metadata": {},
   "outputs": [
    {
     "data": {
      "text/plain": [
       "453.45678"
      ]
     },
     "execution_count": 12,
     "metadata": {},
     "output_type": "execute_result"
    }
   ],
   "source": [
    "a"
   ]
  },
  {
   "cell_type": "code",
   "execution_count": 13,
   "id": "26a25b05-a4e8-488e-a584-f431caba8ee3",
   "metadata": {},
   "outputs": [],
   "source": [
    "r= \"ritik\""
   ]
  },
  {
   "cell_type": "code",
   "execution_count": 14,
   "id": "40648d53-b112-4537-809b-ad8fa86947a6",
   "metadata": {},
   "outputs": [
    {
     "data": {
      "text/plain": [
       "'ritik'"
      ]
     },
     "execution_count": 14,
     "metadata": {},
     "output_type": "execute_result"
    }
   ],
   "source": [
    "r"
   ]
  },
  {
   "cell_type": "code",
   "execution_count": 15,
   "id": "c6d9e395-9f78-4999-9c58-6f14b5768c99",
   "metadata": {},
   "outputs": [],
   "source": [
    "s= 'my name is ritik singh'"
   ]
  },
  {
   "cell_type": "code",
   "execution_count": 16,
   "id": "8f00a27d-bdb6-4baa-9efc-9d4419d95ff7",
   "metadata": {},
   "outputs": [
    {
     "data": {
      "text/plain": [
       "'my name is ritik singh'"
      ]
     },
     "execution_count": 16,
     "metadata": {},
     "output_type": "execute_result"
    }
   ],
   "source": [
    "s"
   ]
  },
  {
   "cell_type": "code",
   "execution_count": 17,
   "id": "7050560f-867e-4111-88f7-e9492bfdd11c",
   "metadata": {},
   "outputs": [
    {
     "data": {
      "text/plain": [
       "str"
      ]
     },
     "execution_count": 17,
     "metadata": {},
     "output_type": "execute_result"
    }
   ],
   "source": [
    "type(s)"
   ]
  },
  {
   "cell_type": "code",
   "execution_count": 18,
   "id": "d5fa468f-ea02-4420-ae39-6599194bbc42",
   "metadata": {},
   "outputs": [
    {
     "data": {
      "text/plain": [
       "str"
      ]
     },
     "execution_count": 18,
     "metadata": {},
     "output_type": "execute_result"
    }
   ],
   "source": [
    "type(r)"
   ]
  },
  {
   "cell_type": "code",
   "execution_count": 19,
   "id": "6b611a4b-ec05-4831-ae73-baa107c343c3",
   "metadata": {},
   "outputs": [],
   "source": [
    "b= True"
   ]
  },
  {
   "cell_type": "code",
   "execution_count": 20,
   "id": "95c0f56c-b2a3-413a-8cda-faa3e745f94d",
   "metadata": {},
   "outputs": [
    {
     "data": {
      "text/plain": [
       "True"
      ]
     },
     "execution_count": 20,
     "metadata": {},
     "output_type": "execute_result"
    }
   ],
   "source": [
    "b"
   ]
  },
  {
   "cell_type": "code",
   "execution_count": 21,
   "id": "f822dd53-16f4-4dd8-8524-fc6778dd7baa",
   "metadata": {},
   "outputs": [
    {
     "data": {
      "text/plain": [
       "bool"
      ]
     },
     "execution_count": 21,
     "metadata": {},
     "output_type": "execute_result"
    }
   ],
   "source": [
    "type(b)"
   ]
  },
  {
   "cell_type": "code",
   "execution_count": 22,
   "id": "e6dedace-d26b-4923-874e-d8bfbbf5c2e0",
   "metadata": {},
   "outputs": [],
   "source": [
    "b1=True"
   ]
  },
  {
   "cell_type": "code",
   "execution_count": 23,
   "id": "66f17e25-200a-4ac3-8b50-614772b12fdd",
   "metadata": {},
   "outputs": [],
   "source": [
    "b2=False"
   ]
  },
  {
   "cell_type": "code",
   "execution_count": 24,
   "id": "d7f2b59b-63d0-4e0c-bd5e-50d350f0a2d2",
   "metadata": {},
   "outputs": [
    {
     "data": {
      "text/plain": [
       "1"
      ]
     },
     "execution_count": 24,
     "metadata": {},
     "output_type": "execute_result"
    }
   ],
   "source": [
    "b1-b2"
   ]
  },
  {
   "cell_type": "code",
   "execution_count": 25,
   "id": "77de249d-d891-4d56-a9f3-d5240910f63e",
   "metadata": {},
   "outputs": [
    {
     "data": {
      "text/plain": [
       "454.45678"
      ]
     },
     "execution_count": 25,
     "metadata": {},
     "output_type": "execute_result"
    }
   ],
   "source": [
    "a+b1"
   ]
  },
  {
   "cell_type": "code",
   "execution_count": 26,
   "id": "61d0bb1b-7d56-4456-b245-bb9fc3ef0927",
   "metadata": {},
   "outputs": [
    {
     "data": {
      "text/plain": [
       "0"
      ]
     },
     "execution_count": 26,
     "metadata": {},
     "output_type": "execute_result"
    }
   ],
   "source": [
    "b1*b2"
   ]
  },
  {
   "cell_type": "code",
   "execution_count": 3,
   "id": "725c1b07-4ba0-47fb-bb4d-2a10e2fecb7c",
   "metadata": {},
   "outputs": [],
   "source": [
    "h=7+8j"
   ]
  },
  {
   "cell_type": "code",
   "execution_count": 29,
   "id": "8febfb15-480e-49db-8f08-735f10730900",
   "metadata": {},
   "outputs": [],
   "source": [
    "i=6j"
   ]
  },
  {
   "cell_type": "code",
   "execution_count": null,
   "id": "d2573448-34fa-4faa-bb61-b33156030d05",
   "metadata": {},
   "outputs": [],
   "source": [
    "#  \"j\" will be only used in case of complex number."
   ]
  },
  {
   "cell_type": "code",
   "execution_count": 4,
   "id": "5da56d6d-8921-42b1-a077-62637a41795f",
   "metadata": {},
   "outputs": [
    {
     "data": {
      "text/plain": [
       "complex"
      ]
     },
     "execution_count": 4,
     "metadata": {},
     "output_type": "execute_result"
    }
   ],
   "source": [
    "type(h)\n"
   ]
  },
  {
   "cell_type": "code",
   "execution_count": 30,
   "id": "0c7829da-3dee-4092-b364-a3bc0e68cb10",
   "metadata": {},
   "outputs": [
    {
     "data": {
      "text/plain": [
       "complex"
      ]
     },
     "execution_count": 30,
     "metadata": {},
     "output_type": "execute_result"
    }
   ],
   "source": [
    "type(i)"
   ]
  },
  {
   "cell_type": "code",
   "execution_count": 31,
   "id": "2141ee3f-edd2-4070-92ae-efebcdd33e54",
   "metadata": {},
   "outputs": [
    {
     "data": {
      "text/plain": [
       "(7+8j)"
      ]
     },
     "execution_count": 31,
     "metadata": {},
     "output_type": "execute_result"
    }
   ],
   "source": [
    "h"
   ]
  },
  {
   "cell_type": "code",
   "execution_count": 32,
   "id": "975245fe-7c83-4b6d-a9f6-acea9ffee131",
   "metadata": {},
   "outputs": [
    {
     "data": {
      "text/plain": [
       "7.0"
      ]
     },
     "execution_count": 32,
     "metadata": {},
     "output_type": "execute_result"
    }
   ],
   "source": [
    "h.real"
   ]
  },
  {
   "cell_type": "code",
   "execution_count": 33,
   "id": "f3b116d4-b148-4b3f-9f30-1edeb3fa5952",
   "metadata": {},
   "outputs": [
    {
     "data": {
      "text/plain": [
       "8.0"
      ]
     },
     "execution_count": 33,
     "metadata": {},
     "output_type": "execute_result"
    }
   ],
   "source": [
    "h.imag"
   ]
  },
  {
   "cell_type": "code",
   "execution_count": 35,
   "id": "794a033e-8969-4887-883a-3df17836bd58",
   "metadata": {},
   "outputs": [],
   "source": [
    "a=\"ritika\""
   ]
  },
  {
   "cell_type": "code",
   "execution_count": 36,
   "id": "fcd86ff7-b485-46ab-b6a8-3a0cb8c6cebb",
   "metadata": {},
   "outputs": [
    {
     "data": {
      "text/plain": [
       "'ritika'"
      ]
     },
     "execution_count": 36,
     "metadata": {},
     "output_type": "execute_result"
    }
   ],
   "source": [
    "a"
   ]
  },
  {
   "cell_type": "code",
   "execution_count": 37,
   "id": "d0fc3066-2ce3-405e-b4c2-76b9dc47a67c",
   "metadata": {},
   "outputs": [],
   "source": [
    "a=\"my name is ritika\""
   ]
  },
  {
   "cell_type": "code",
   "execution_count": 38,
   "id": "9585a968-2b8a-4946-9375-819ec8e686d1",
   "metadata": {},
   "outputs": [
    {
     "data": {
      "text/plain": [
       "'my name is ritika'"
      ]
     },
     "execution_count": 38,
     "metadata": {},
     "output_type": "execute_result"
    }
   ],
   "source": [
    "a"
   ]
  },
  {
   "cell_type": "code",
   "execution_count": 39,
   "id": "f4d08504-74bb-4809-abe7-53d2e5b066e4",
   "metadata": {},
   "outputs": [],
   "source": [
    "c=2"
   ]
  },
  {
   "cell_type": "code",
   "execution_count": 40,
   "id": "cc5a1259-c336-497f-bc8c-0e8a1da859f1",
   "metadata": {},
   "outputs": [],
   "source": [
    "b=5"
   ]
  },
  {
   "cell_type": "code",
   "execution_count": 41,
   "id": "0760027f-9f1c-4ed0-92ac-7fdb99f05486",
   "metadata": {},
   "outputs": [],
   "source": [
    "u=34567.890"
   ]
  },
  {
   "cell_type": "code",
   "execution_count": 42,
   "id": "48b95602-5774-4393-823c-7dd55b95c600",
   "metadata": {},
   "outputs": [
    {
     "data": {
      "text/plain": [
       "34574.89"
      ]
     },
     "execution_count": 42,
     "metadata": {},
     "output_type": "execute_result"
    }
   ],
   "source": [
    "c+b+u"
   ]
  },
  {
   "cell_type": "code",
   "execution_count": 43,
   "id": "5a523f20-4841-46f8-940f-37a9f2962c77",
   "metadata": {},
   "outputs": [
    {
     "data": {
      "text/plain": [
       "int"
      ]
     },
     "execution_count": 43,
     "metadata": {},
     "output_type": "execute_result"
    }
   ],
   "source": [
    "type(b)"
   ]
  },
  {
   "cell_type": "code",
   "execution_count": 1,
   "id": "894fe575-5a3c-4efe-8462-36e82663475b",
   "metadata": {},
   "outputs": [],
   "source": [
    "#"
   ]
  },
  {
   "cell_type": "code",
   "execution_count": null,
   "id": "92a45392-1c14-4bae-a2cc-6741b4f9ae11",
   "metadata": {},
   "outputs": [],
   "source": []
  }
 ],
 "metadata": {
  "kernelspec": {
   "display_name": "Python 3 (ipykernel)",
   "language": "python",
   "name": "python3"
  },
  "language_info": {
   "codemirror_mode": {
    "name": "ipython",
    "version": 3
   },
   "file_extension": ".py",
   "mimetype": "text/x-python",
   "name": "python",
   "nbconvert_exporter": "python",
   "pygments_lexer": "ipython3",
   "version": "3.10.8"
  }
 },
 "nbformat": 4,
 "nbformat_minor": 5
}

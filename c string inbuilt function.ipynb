{
 "cells": [
  {
   "cell_type": "code",
   "execution_count": 1,
   "id": "30e5e869-8223-4d51-9c61-8979fb77c098",
   "metadata": {},
   "outputs": [],
   "source": [
    "s='ritik'"
   ]
  },
  {
   "cell_type": "code",
   "execution_count": 2,
   "id": "3cdf87af-1426-4e94-b703-8987a2fe4836",
   "metadata": {},
   "outputs": [
    {
     "data": {
      "text/plain": [
       "str"
      ]
     },
     "execution_count": 2,
     "metadata": {},
     "output_type": "execute_result"
    }
   ],
   "source": [
    "type(s)"
   ]
  },
  {
   "cell_type": "code",
   "execution_count": 3,
   "id": "776bc385-6c51-4a17-adf0-a7939e3becde",
   "metadata": {},
   "outputs": [],
   "source": [
    "s1=\"this is my string inbuilt class\""
   ]
  },
  {
   "cell_type": "code",
   "execution_count": 4,
   "id": "b00220bf-f136-4d49-bee3-8701502430ab",
   "metadata": {},
   "outputs": [
    {
     "data": {
      "text/plain": [
       "str"
      ]
     },
     "execution_count": 4,
     "metadata": {},
     "output_type": "execute_result"
    }
   ],
   "source": [
    "type(s1)"
   ]
  },
  {
   "cell_type": "code",
   "execution_count": 5,
   "id": "9986fd02-f157-4fd9-989c-a4ae5d77558d",
   "metadata": {},
   "outputs": [
    {
     "data": {
      "text/plain": [
       "5"
      ]
     },
     "execution_count": 5,
     "metadata": {},
     "output_type": "execute_result"
    }
   ],
   "source": [
    "len(s)"
   ]
  },
  {
   "cell_type": "code",
   "execution_count": 6,
   "id": "a2b55ed7-11c1-42cf-a384-1bc6968b59e3",
   "metadata": {},
   "outputs": [
    {
     "data": {
      "text/plain": [
       "31"
      ]
     },
     "execution_count": 6,
     "metadata": {},
     "output_type": "execute_result"
    }
   ],
   "source": [
    "len(s1)"
   ]
  },
  {
   "cell_type": "code",
   "execution_count": 7,
   "id": "026cf424-e7b9-44b2-9bff-c3d4c2ef240a",
   "metadata": {},
   "outputs": [
    {
     "data": {
      "text/plain": [
       "0"
      ]
     },
     "execution_count": 7,
     "metadata": {},
     "output_type": "execute_result"
    }
   ],
   "source": [
    "s.find('r')"
   ]
  },
  {
   "cell_type": "code",
   "execution_count": 8,
   "id": "f79a6a72-c99c-4c88-8ef0-c08bb1e5ea2e",
   "metadata": {},
   "outputs": [
    {
     "data": {
      "text/plain": [
       "2"
      ]
     },
     "execution_count": 8,
     "metadata": {},
     "output_type": "execute_result"
    }
   ],
   "source": [
    "s.find('t')"
   ]
  },
  {
   "cell_type": "code",
   "execution_count": 10,
   "id": "d2191901-f7de-40f4-a2b0-09fe77bbb2ce",
   "metadata": {},
   "outputs": [
    {
     "data": {
      "text/plain": [
       "-1"
      ]
     },
     "execution_count": 10,
     "metadata": {},
     "output_type": "execute_result"
    }
   ],
   "source": [
    "s.find('R')"
   ]
  },
  {
   "cell_type": "code",
   "execution_count": 11,
   "id": "d5cb8259-1056-42e3-a4a6-5f8050818a0f",
   "metadata": {},
   "outputs": [
    {
     "data": {
      "text/plain": [
       "4"
      ]
     },
     "execution_count": 11,
     "metadata": {},
     "output_type": "execute_result"
    }
   ],
   "source": [
    "s.find('k')"
   ]
  },
  {
   "cell_type": "code",
   "execution_count": 2,
   "id": "cc76255b-fe0a-46d1-a70c-d98c4c75b364",
   "metadata": {},
   "outputs": [],
   "source": [
    "s2='pwskills'"
   ]
  },
  {
   "cell_type": "code",
   "execution_count": 13,
   "id": "656df7a5-c848-4c1d-b596-5b95e956a601",
   "metadata": {},
   "outputs": [
    {
     "data": {
      "text/plain": [
       "'pwskills'"
      ]
     },
     "execution_count": 13,
     "metadata": {},
     "output_type": "execute_result"
    }
   ],
   "source": [
    "s2"
   ]
  },
  {
   "cell_type": "code",
   "execution_count": 14,
   "id": "bbfd800e-0101-4b65-a45a-8284f2a99fad",
   "metadata": {},
   "outputs": [
    {
     "data": {
      "text/plain": [
       "5"
      ]
     },
     "execution_count": 14,
     "metadata": {},
     "output_type": "execute_result"
    }
   ],
   "source": [
    "s2.find('l')"
   ]
  },
  {
   "cell_type": "code",
   "execution_count": 15,
   "id": "b45a679a-bd9e-42d4-9824-451b423adc4d",
   "metadata": {},
   "outputs": [
    {
     "data": {
      "text/plain": [
       "2"
      ]
     },
     "execution_count": 15,
     "metadata": {},
     "output_type": "execute_result"
    }
   ],
   "source": [
    "s2.find('sk')"
   ]
  },
  {
   "cell_type": "code",
   "execution_count": 16,
   "id": "9ff67072-0d6a-44fb-926d-8688198c9b30",
   "metadata": {},
   "outputs": [
    {
     "data": {
      "text/plain": [
       "4"
      ]
     },
     "execution_count": 16,
     "metadata": {},
     "output_type": "execute_result"
    }
   ],
   "source": [
    "s2.find('ill')"
   ]
  },
  {
   "cell_type": "code",
   "execution_count": 17,
   "id": "ffbf907e-06af-4992-9139-e6034410051c",
   "metadata": {},
   "outputs": [
    {
     "data": {
      "text/plain": [
       "2"
      ]
     },
     "execution_count": 17,
     "metadata": {},
     "output_type": "execute_result"
    }
   ],
   "source": [
    "s2.count('l')"
   ]
  },
  {
   "cell_type": "code",
   "execution_count": 18,
   "id": "b0a5799d-f87e-4a07-aea8-c16537f7a7f9",
   "metadata": {},
   "outputs": [
    {
     "data": {
      "text/plain": [
       "1"
      ]
     },
     "execution_count": 18,
     "metadata": {},
     "output_type": "execute_result"
    }
   ],
   "source": [
    "s2.count('w')"
   ]
  },
  {
   "cell_type": "code",
   "execution_count": 19,
   "id": "669dc95e-6055-4ac7-a092-8bf0866c0f54",
   "metadata": {},
   "outputs": [
    {
     "data": {
      "text/plain": [
       "0"
      ]
     },
     "execution_count": 19,
     "metadata": {},
     "output_type": "execute_result"
    }
   ],
   "source": [
    "s2.count('z')"
   ]
  },
  {
   "cell_type": "code",
   "execution_count": 20,
   "id": "8d11b772-1609-45cc-af9a-395f06ec3a8e",
   "metadata": {},
   "outputs": [
    {
     "data": {
      "text/plain": [
       "'PWSKILLS'"
      ]
     },
     "execution_count": 20,
     "metadata": {},
     "output_type": "execute_result"
    }
   ],
   "source": [
    "s2.upper()"
   ]
  },
  {
   "cell_type": "code",
   "execution_count": 21,
   "id": "a0d9170d-bebd-4a13-891d-46257cd40331",
   "metadata": {},
   "outputs": [
    {
     "data": {
      "text/plain": [
       "'pwskills'"
      ]
     },
     "execution_count": 21,
     "metadata": {},
     "output_type": "execute_result"
    }
   ],
   "source": [
    "s2"
   ]
  },
  {
   "cell_type": "code",
   "execution_count": 22,
   "id": "a7c054c2-ff4c-4a86-96e2-fde6dad702d5",
   "metadata": {},
   "outputs": [],
   "source": [
    "s3='CollegeWallah'"
   ]
  },
  {
   "cell_type": "code",
   "execution_count": 23,
   "id": "66239970-c8dc-4b42-bac0-5c757d47b93a",
   "metadata": {},
   "outputs": [
    {
     "data": {
      "text/plain": [
       "'CollegeWallah'"
      ]
     },
     "execution_count": 23,
     "metadata": {},
     "output_type": "execute_result"
    }
   ],
   "source": [
    "s3"
   ]
  },
  {
   "cell_type": "code",
   "execution_count": 24,
   "id": "62a4036e-f737-4184-b031-48d74472d683",
   "metadata": {},
   "outputs": [
    {
     "data": {
      "text/plain": [
       "'collegewallah'"
      ]
     },
     "execution_count": 24,
     "metadata": {},
     "output_type": "execute_result"
    }
   ],
   "source": [
    "s3.lower()"
   ]
  },
  {
   "cell_type": "code",
   "execution_count": 27,
   "id": "02725c09-8c2b-4200-bb93-5fc7851bb8c8",
   "metadata": {},
   "outputs": [
    {
     "data": {
      "text/plain": [
       "'collegewallah'"
      ]
     },
     "execution_count": 27,
     "metadata": {},
     "output_type": "execute_result"
    }
   ],
   "source": [
    "s3.lower()"
   ]
  },
  {
   "cell_type": "code",
   "execution_count": 29,
   "id": "4b9f5543-99fe-470a-9180-f6a17ef0b6b5",
   "metadata": {},
   "outputs": [
    {
     "data": {
      "text/plain": [
       "'COLLEGEWALLAH'"
      ]
     },
     "execution_count": 29,
     "metadata": {},
     "output_type": "execute_result"
    }
   ],
   "source": [
    "s3.upper()"
   ]
  },
  {
   "cell_type": "code",
   "execution_count": 30,
   "id": "6da003ee-56d6-4e38-b872-54c0b8c4ac94",
   "metadata": {},
   "outputs": [
    {
     "data": {
      "text/plain": [
       "'cOLLEGEwALLAH'"
      ]
     },
     "execution_count": 30,
     "metadata": {},
     "output_type": "execute_result"
    }
   ],
   "source": [
    "s3.swapcase()"
   ]
  },
  {
   "cell_type": "code",
   "execution_count": 31,
   "id": "3b8e926a-0b34-42fc-87a3-0733f5eb2b1a",
   "metadata": {},
   "outputs": [
    {
     "data": {
      "text/plain": [
       "'Collegewallah'"
      ]
     },
     "execution_count": 31,
     "metadata": {},
     "output_type": "execute_result"
    }
   ],
   "source": [
    "s3.title()"
   ]
  },
  {
   "cell_type": "code",
   "execution_count": 32,
   "id": "288c5a02-f7a6-48e4-b808-e9efa84c199c",
   "metadata": {},
   "outputs": [
    {
     "data": {
      "text/plain": [
       "'This Is My String Inbuilt Class'"
      ]
     },
     "execution_count": 32,
     "metadata": {},
     "output_type": "execute_result"
    }
   ],
   "source": [
    "s1.title()"
   ]
  },
  {
   "cell_type": "code",
   "execution_count": 33,
   "id": "b6e8747a-2e52-4cd9-84a3-d40ac6bfc084",
   "metadata": {},
   "outputs": [
    {
     "data": {
      "text/plain": [
       "'This is my string inbuilt class'"
      ]
     },
     "execution_count": 33,
     "metadata": {},
     "output_type": "execute_result"
    }
   ],
   "source": [
    "s1.capitalize()"
   ]
  },
  {
   "cell_type": "code",
   "execution_count": 34,
   "id": "98cd7597-401b-46e1-975c-927faefa8952",
   "metadata": {},
   "outputs": [
    {
     "data": {
      "text/plain": [
       "'Pwskills'"
      ]
     },
     "execution_count": 34,
     "metadata": {},
     "output_type": "execute_result"
    }
   ],
   "source": [
    "s2.capitalize()"
   ]
  },
  {
   "cell_type": "code",
   "execution_count": 35,
   "id": "1cfc5c3a-ac4c-486b-8941-ad491fbdb687",
   "metadata": {},
   "outputs": [
    {
     "data": {
      "text/plain": [
       "'Collegewallah'"
      ]
     },
     "execution_count": 35,
     "metadata": {},
     "output_type": "execute_result"
    }
   ],
   "source": [
    "s3.capitalize()"
   ]
  },
  {
   "cell_type": "code",
   "execution_count": 3,
   "id": "b2c0faea-9895-41b5-b31f-37a97ee39f1e",
   "metadata": {},
   "outputs": [
    {
     "data": {
      "text/plain": [
       "'Pwskills'"
      ]
     },
     "execution_count": 3,
     "metadata": {},
     "output_type": "execute_result"
    }
   ],
   "source": [
    "s2.title()"
   ]
  },
  {
   "cell_type": "code",
   "execution_count": null,
   "id": "c207e399-554f-4b47-a67b-142b1ec39346",
   "metadata": {},
   "outputs": [],
   "source": []
  }
 ],
 "metadata": {
  "kernelspec": {
   "display_name": "Python 3 (ipykernel)",
   "language": "python",
   "name": "python3"
  },
  "language_info": {
   "codemirror_mode": {
    "name": "ipython",
    "version": 3
   },
   "file_extension": ".py",
   "mimetype": "text/x-python",
   "name": "python",
   "nbconvert_exporter": "python",
   "pygments_lexer": "ipython3",
   "version": "3.10.8"
  }
 },
 "nbformat": 4,
 "nbformat_minor": 5
}
